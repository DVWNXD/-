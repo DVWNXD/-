{
 "cells": [
  {
   "cell_type": "code",
   "execution_count": null,
   "metadata": {},
   "outputs": [],
   "source": [
    "%matplotlib"
   ]
  },
  {
   "cell_type": "code",
   "execution_count": null,
   "metadata": {},
   "outputs": [],
   "source": [
    "%matplotlib inline"
   ]
  },
  {
   "cell_type": "code",
   "execution_count": null,
   "metadata": {},
   "outputs": [],
   "source": [
    "pd.set_option('display.max_rows',    100)      # DataFrame 데이터 확인 시 최대 표시 행 수\n",
    "pd.set_option('display.max_columns', 100)      # DataFrame 데이터 확인 시 최대 표시 열 수"
   ]
  },
  {
   "cell_type": "markdown",
   "metadata": {},
   "source": [
    "## 라이브러리 import "
   ]
  },
  {
   "cell_type": "code",
   "execution_count": null,
   "metadata": {},
   "outputs": [],
   "source": [
    "import pandas as pd\n",
    "import numpy as np"
   ]
  },
  {
   "cell_type": "markdown",
   "metadata": {},
   "source": [
    "## 데이터 불러오기 및 데이터 크기 정의"
   ]
  },
  {
   "cell_type": "markdown",
   "metadata": {},
   "source": [
    "가속도 데이터만 불러오기"
   ]
  },
  {
   "cell_type": "code",
   "execution_count": null,
   "metadata": {},
   "outputs": [],
   "source": [
    "NoOfData   = 180      # 데이터 개수 (정상/고장 각각)\n",
    "\n",
    "for i in range(NoOfData):\n",
    "    s1 = \"Normal_%d   = pd.read_csv('SpotWeldingData/Normal_%d'  , header = None).iloc[:,1].T\" %(i+1,i+1)\n",
    "    s2 = \"Abnormal_%d = pd.read_csv('SpotWeldingData/Abnormal_%d', header = None).iloc[:,1].T\" %(i+1,i+1)\n",
    "    exec(s1)\n",
    "    exec(s2)\n",
    "    \n",
    "DataLength = Normal_1.shape[0]\n",
    "DataLength"
   ]
  },
  {
   "cell_type": "code",
   "execution_count": null,
   "metadata": {},
   "outputs": [],
   "source": [
    "TotalData = pd.DataFrame(np.zeros([NoOfData*2, DataLength]))\n",
    "\n",
    "for i in range(NoOfData):\n",
    "    s1 = 'TotalData.iloc[i,:]            = Normal_%d'   %(i+1)\n",
    "    s2 = 'TotalData.iloc[i + NoOfData,:] = Abnormal_%d' %(i+1)\n",
    "    exec(s1)\n",
    "    exec(s2)\n",
    "    \n",
    "TotalData"
   ]
  },
  {
   "cell_type": "markdown",
   "metadata": {},
   "source": [
    "## 학습/검증 데이터와 시험 데이터 분할"
   ]
  },
  {
   "cell_type": "markdown",
   "metadata": {},
   "source": [
    "Fold별 데이터 분할 용이하도록 데이터 Reshape"
   ]
  },
  {
   "cell_type": "code",
   "execution_count": null,
   "metadata": {},
   "outputs": [],
   "source": [
    "NormalSet   = np.array(TotalData.iloc[:NoOfData , :])\n",
    "AbnormalSet = np.array(TotalData.iloc[NoOfData: , :])\n",
    "TotalData_Reshaped = pd.DataFrame(np.concatenate([NormalSet , AbnormalSet] , axis=1))\n",
    "TotalData_Reshaped.shape"
   ]
  },
  {
   "cell_type": "markdown",
   "metadata": {},
   "source": [
    "학습/검증 데이터를 160개, 시험 데이터를 20개로 분할"
   ]
  },
  {
   "cell_type": "code",
   "execution_count": null,
   "metadata": {},
   "outputs": [],
   "source": [
    "Train_Valid_Data =  TotalData_Reshaped.iloc[:-20, :]\n",
    "temp_Test_Data   = TotalData_Reshaped.iloc[-20:, :]\n",
    "\n",
    "print(Train_Valid_Data.shape, temp_Test_Data.shape)"
   ]
  },
  {
   "cell_type": "code",
   "execution_count": null,
   "metadata": {},
   "outputs": [],
   "source": [
    "Test_Data = pd.DataFrame(np.concatenate([temp_Test_Data.iloc[:,:DataLength], temp_Test_Data.iloc[:,DataLength:]], axis = 0))\n",
    "Test_Data.shape"
   ]
  },
  {
   "cell_type": "markdown",
   "metadata": {},
   "source": [
    "## K값에 맞춰 Fold별 학습/검증 데이터 분할"
   ]
  },
  {
   "cell_type": "markdown",
   "metadata": {},
   "source": [
    "K값(Fold개수), 데이터 개수(정상/고장 각각), 특징 수(=데이터 차원) 정의하여 '1개 Fold의 (검증)데이터 개수' 계산"
   ]
  },
  {
   "cell_type": "code",
   "execution_count": null,
   "metadata": {
    "scrolled": false
   },
   "outputs": [],
   "source": [
    "NoOfTrainData = Train_Valid_Data.shape[0]\n",
    "\n",
    "Fold       = 5                                 # Fold 개수 선정 : 데이터 개수의 약수여야 함.\n",
    "FoldDataNo = int(NoOfTrainData/Fold)           # 1개 Fold 당 (검증)데이터 개수\n",
    "print(FoldDataNo)"
   ]
  },
  {
   "cell_type": "markdown",
   "metadata": {},
   "source": [
    "Fold별 데이터 분할 (정상/고장 데이터 동일하게 분포하도록)"
   ]
  },
  {
   "cell_type": "code",
   "execution_count": null,
   "metadata": {},
   "outputs": [],
   "source": [
    "# Validation Data set\n",
    "for i in range(Fold):\n",
    "    \n",
    "    temp_Valid_Normal   = Train_Valid_Data.iloc[FoldDataNo*i : FoldDataNo*(i+1), :DataLength]\n",
    "    temp_Valid_Abnormal = Train_Valid_Data.iloc[FoldDataNo*i : FoldDataNo*(i+1), DataLength:]\n",
    "    temp_Valid = pd.DataFrame(np.concatenate([temp_Valid_Normal, temp_Valid_Abnormal] , axis=0))\n",
    "    \n",
    "    s = 'Validation_Fold%d = temp_Valid'%(i+1)\n",
    "    exec(s)\n",
    "\n",
    "    \n",
    "# Training Data set\n",
    "for i in range(Fold):\n",
    "    \n",
    "    temp_Train_Front = Train_Valid_Data.iloc[:FoldDataNo*i, :]\n",
    "    temp_Train_Back  = Train_Valid_Data.iloc[FoldDataNo*(i+1):, :]\n",
    "    temp_Train_Total = np.concatenate([temp_Train_Front , temp_Train_Back] , axis=0)\n",
    "    temp_Train_Final = pd.DataFrame(np.concatenate([temp_Train_Total[:, :DataLength],temp_Train_Total[:, DataLength:]] , axis=0))\n",
    "    \n",
    "    s ='Training_Fold%d  = temp_Train_Final'%(i+1)\n",
    "    exec(s)"
   ]
  },
  {
   "cell_type": "markdown",
   "metadata": {},
   "source": [
    "데이터 분할 결과(shape) 확인"
   ]
  },
  {
   "cell_type": "code",
   "execution_count": null,
   "metadata": {},
   "outputs": [],
   "source": [
    "Validation_Fold1.shape"
   ]
  },
  {
   "cell_type": "code",
   "execution_count": null,
   "metadata": {},
   "outputs": [],
   "source": [
    "Training_Fold1.shape"
   ]
  },
  {
   "cell_type": "markdown",
   "metadata": {},
   "source": [
    "## K값에 맞춰 Fold별 학습/검증 데이터 분할"
   ]
  },
  {
   "cell_type": "markdown",
   "metadata": {},
   "source": [
    "K값(Fold개수), 데이터 개수(정상/고장 각각), 특징 수(=데이터 차원) 정의하여 '1개 Fold의 (검증)데이터 개수' 계산"
   ]
  },
  {
   "cell_type": "code",
   "execution_count": null,
   "metadata": {
    "scrolled": false
   },
   "outputs": [],
   "source": [
    "NoOfTrainData = Train_Valid_Data.shape[0]\n",
    "\n",
    "Fold       = 5                                 # Fold 개수 선정 : 데이터 개수의 약수여야 함.\n",
    "FoldDataNo = int(NoOfTrainData/Fold)           # 1개 Fold 당 (검증)데이터 개수\n",
    "print(FoldDataNo)"
   ]
  },
  {
   "cell_type": "markdown",
   "metadata": {},
   "source": [
    "Fold별 데이터 분할 (정상/고장 데이터 동일하게 분포하도록)"
   ]
  },
  {
   "cell_type": "code",
   "execution_count": null,
   "metadata": {},
   "outputs": [],
   "source": [
    "# Validation Data set\n",
    "for i in range(Fold):\n",
    "    \n",
    "    temp_Valid_Normal   = Train_Valid_Data.iloc[FoldDataNo*i : FoldDataNo*(i+1), :DataLength]\n",
    "    temp_Valid_Abnormal = Train_Valid_Data.iloc[FoldDataNo*i : FoldDataNo*(i+1), DataLength:]\n",
    "    temp_Valid = pd.DataFrame(np.concatenate([temp_Valid_Normal, temp_Valid_Abnormal] , axis=0))\n",
    "    \n",
    "    s = 'Validation_Fold%d = temp_Valid'%(i+1)\n",
    "    exec(s)\n",
    "\n",
    "    \n",
    "# Training Data set\n",
    "for i in range(Fold):\n",
    "    \n",
    "    temp_Train_Front = Train_Valid_Data.iloc[:FoldDataNo*i, :]\n",
    "    temp_Train_Back  = Train_Valid_Data.iloc[FoldDataNo*(i+1):, :]\n",
    "    temp_Train_Total = np.concatenate([temp_Train_Front , temp_Train_Back] , axis=0)\n",
    "    temp_Train_Final = pd.DataFrame(np.concatenate([temp_Train_Total[:, :DataLength],temp_Train_Total[:, DataLength:]] , axis=0))\n",
    "    \n",
    "    s ='Training_Fold%d  = temp_Train_Final'%(i+1)\n",
    "    exec(s)\n"
   ]
  },
  {
   "cell_type": "markdown",
   "metadata": {},
   "source": [
    "데이터 분할 결과(shape) 확인"
   ]
  },
  {
   "cell_type": "code",
   "execution_count": null,
   "metadata": {},
   "outputs": [],
   "source": [
    "Validation_Fold1.shape"
   ]
  },
  {
   "cell_type": "code",
   "execution_count": null,
   "metadata": {},
   "outputs": [],
   "source": [
    "Training_Fold1.shape"
   ]
  },
  {
   "cell_type": "markdown",
   "metadata": {},
   "source": [
    "## K값에 맞춰 Fold별 학습/검증 데이터 분할"
   ]
  },
  {
   "cell_type": "markdown",
   "metadata": {},
   "source": [
    "K값(Fold개수), 데이터 개수(정상/고장 각각), 특징 수(=데이터 차원) 정의하여 '1개 Fold의 (검증)데이터 개수' 계산"
   ]
  },
  {
   "cell_type": "code",
   "execution_count": null,
   "metadata": {
    "scrolled": false
   },
   "outputs": [],
   "source": [
    "NoOfTrainData = Train_Valid_Data.shape[0]\n",
    "\n",
    "Fold       = 5                                 # Fold 개수 선정 : 데이터 개수의 약수여야 함.\n",
    "FoldDataNo = int(NoOfTrainData/Fold)           # 1개 Fold 당 (검증)데이터 개수\n",
    "print(FoldDataNo)"
   ]
  },
  {
   "cell_type": "markdown",
   "metadata": {},
   "source": [
    "Fold별 데이터 분할 (정상/고장 데이터 동일하게 분포하도록)"
   ]
  },
  {
   "cell_type": "code",
   "execution_count": null,
   "metadata": {},
   "outputs": [],
   "source": [
    "# Validation Data set\n",
    "for i in range(Fold):\n",
    "    \n",
    "    temp_Valid_Normal   = Train_Valid_Data.iloc[FoldDataNo*i : FoldDataNo*(i+1), :DataLength]\n",
    "    temp_Valid_Abnormal = Train_Valid_Data.iloc[FoldDataNo*i : FoldDataNo*(i+1), DataLength:]\n",
    "    temp_Valid = pd.DataFrame(np.concatenate([temp_Valid_Normal, temp_Valid_Abnormal] , axis=0))\n",
    "    \n",
    "    s = 'Validation_Fold%d = temp_Valid'%(i+1)\n",
    "    exec(s)\n",
    "\n",
    "    \n",
    "# Training Data set\n",
    "for i in range(Fold):\n",
    "    \n",
    "    temp_Train_Front = Train_Valid_Data.iloc[:FoldDataNo*i, :]\n",
    "    temp_Train_Back  = Train_Valid_Data.iloc[FoldDataNo*(i+1):, :]\n",
    "    temp_Train_Total = np.concatenate([temp_Train_Front , temp_Train_Back] , axis=0)\n",
    "    temp_Train_Final = pd.DataFrame(np.concatenate([temp_Train_Total[:, :DataLength],temp_Train_Total[:, DataLength:]] , axis=0))\n",
    "    \n",
    "    s ='Training_Fold%d  = temp_Train_Final'%(i+1)\n",
    "    exec(s)\n"
   ]
  },
  {
   "cell_type": "markdown",
   "metadata": {},
   "source": [
    "데이터 분할 결과(shape) 확인"
   ]
  },
  {
   "cell_type": "code",
   "execution_count": null,
   "metadata": {},
   "outputs": [],
   "source": [
    "Validation_Fold1.shape"
   ]
  },
  {
   "cell_type": "code",
   "execution_count": null,
   "metadata": {},
   "outputs": [],
   "source": [
    "Training_Fold1.shape"
   ]
  },
  {
   "cell_type": "markdown",
   "metadata": {},
   "source": [
    "## 데이터 저장"
   ]
  },
  {
   "cell_type": "code",
   "execution_count": null,
   "metadata": {
    "scrolled": true
   },
   "outputs": [],
   "source": [
    "for i in range(Fold):\n",
    "    \n",
    "    path1 = './K_FoldData/CNN_Training_Fold%d'  %(i+1)\n",
    "    path2 = './K_FoldData/CNN_Validation_Fold%d'%(i+1)\n",
    "    \n",
    "    c1 = 'Training_Fold%d.to_csv  (path1, sep = \",\", header = None, index = None)'%(i+1)\n",
    "    c2 = 'Validation_Fold%d.to_csv(path2, sep = \",\", header = None, index = None)'%(i+1)\n",
    "    exec(c1)\n",
    "    exec(c2)\n",
    "    \n",
    "Test_Data.to_csv('./K_FoldData/CNN_Test_Data', sep = \",\", header = None, index = None)"
   ]
  },
  {
   "cell_type": "markdown",
   "metadata": {},
   "source": [
    "## 최종 AI모델 학습용 전체 데이터 저장"
   ]
  },
  {
   "cell_type": "code",
   "execution_count": null,
   "metadata": {},
   "outputs": [],
   "source": [
    "Normal_Training_All   = Train_Valid_Data.iloc[:,:DataLength]\n",
    "Abnormal_Training_All = Train_Valid_Data.iloc[:,DataLength:]"
   ]
  },
  {
   "cell_type": "code",
   "execution_count": null,
   "metadata": {},
   "outputs": [],
   "source": [
    "Normal_Training_All.shape, Abnormal_Training_All.shape"
   ]
  },
  {
   "cell_type": "code",
   "execution_count": null,
   "metadata": {},
   "outputs": [],
   "source": [
    "Training_All = pd.DataFrame(np.concatenate([Normal_Training_All, Abnormal_Training_All], axis = 0))\n",
    "Training_All.shape"
   ]
  },
  {
   "cell_type": "code",
   "execution_count": null,
   "metadata": {},
   "outputs": [],
   "source": [
    "Training_All.to_csv('./K_FoldData/CNN_Training_All', sep = \",\", header = None, index = None)"
   ]
  },
  {
   "cell_type": "code",
   "execution_count": null,
   "metadata": {},
   "outputs": [],
   "source": []
  }
 ],
 "metadata": {
  "kernelspec": {
   "display_name": "Python 3",
   "language": "python",
   "name": "python3"
  },
  "language_info": {
   "codemirror_mode": {
    "name": "ipython",
    "version": 3
   },
   "file_extension": ".py",
   "mimetype": "text/x-python",
   "name": "python",
   "nbconvert_exporter": "python",
   "pygments_lexer": "ipython3",
   "version": "3.8.8"
  }
 },
 "nbformat": 4,
 "nbformat_minor": 4
}
