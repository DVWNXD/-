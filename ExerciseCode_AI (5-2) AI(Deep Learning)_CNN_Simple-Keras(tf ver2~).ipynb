{
 "cells": [
  {
   "cell_type": "code",
   "execution_count": null,
   "metadata": {},
   "outputs": [],
   "source": [
    "%matplotlib"
   ]
  },
  {
   "cell_type": "code",
   "execution_count": null,
   "metadata": {},
   "outputs": [],
   "source": [
    "%matplotlib inline"
   ]
  },
  {
   "cell_type": "code",
   "execution_count": null,
   "metadata": {},
   "outputs": [],
   "source": [
    "pd.set_option('display.max_rows',    100)      # DataFrame 데이터 확인 시 최대 표시 행 수\n",
    "pd.set_option('display.max_columns', 100)      # DataFrame 데이터 확인 시 최대 표시 열 수"
   ]
  },
  {
   "cell_type": "markdown",
   "metadata": {},
   "source": [
    "## 라이브러리 import "
   ]
  },
  {
   "cell_type": "code",
   "execution_count": null,
   "metadata": {},
   "outputs": [],
   "source": [
    "import pandas as pd\n",
    "import numpy as np\n",
    "import matplotlib.pyplot as plt\n",
    "from scipy import signal\n",
    "import tensorflow as tf\n",
    "from tensorflow import keras"
   ]
  },
  {
   "cell_type": "markdown",
   "metadata": {},
   "source": [
    "## 데이터 불러오기"
   ]
  },
  {
   "cell_type": "code",
   "execution_count": null,
   "metadata": {},
   "outputs": [],
   "source": [
    "Fold       = 5\n",
    "Fs         = 12800  # Sampling Frequency\n",
    "NoOfSensor = 1\n",
    "\n",
    "\n",
    "# k-fold 학습/검증 데이터\n",
    "for i in range(Fold):\n",
    "    \n",
    "    path1 = './K_FoldData/CNN_Training_Fold%d'%(i+1)\n",
    "    path2 = './K_FoldData/CNN_Validation_Fold%d'%(i+1)\n",
    "    c1 = 'temp_Training_Fold%d   = np.array(pd.read_csv(path1, sep=\",\", header=None))'%(i+1)\n",
    "    c2 = 'temp_Validation_Fold%d = np.array(pd.read_csv(path2, sep=\",\", header=None))'%(i+1)\n",
    "    exec(c1)\n",
    "    exec(c2)\n",
    "\n",
    "# K-fold 학습/검증 레이블\n",
    "TrainingFold_Label   = np.array(pd.read_csv('./K_FoldData/TrainingFold_Label_forANN'  , sep=\",\", header=None))\n",
    "ValidationFold_Label = np.array(pd.read_csv('./K_FoldData/ValidationFold_Label_forANN', sep=\",\", header=None))\n",
    "    \n",
    "    \n",
    "# 전체 학습용 데이터\n",
    "temp_Training_All  = np.array(pd.read_csv('./K_FoldData/CNN_Training_All', sep = \",\", header = None))\n",
    "Training_All_Label = np.array(pd.read_csv('./K_FoldData/Training_All_Label_forANN', sep = \",\", header = None))\n",
    "\n",
    "print(temp_Training_Fold1.shape)\n",
    "print(temp_Validation_Fold1.shape)\n",
    "print(TrainingFold_Label.shape)\n",
    "print(ValidationFold_Label.shape)\n",
    "print(temp_Training_All.shape)"
   ]
  },
  {
   "cell_type": "markdown",
   "metadata": {},
   "source": [
    "## STFT 실행 (Spectrogram 생성)"
   ]
  },
  {
   "cell_type": "code",
   "execution_count": null,
   "metadata": {},
   "outputs": [],
   "source": [
    "# STFT test\n",
    "\n",
    "f,t,Sxx = signal.spectrogram(temp_Training_All, Fs, nperseg=78)\n",
    "print(\"STFT Result            :\", Sxx.shape)\n",
    "\n",
    "# Data Reshape for CNN\n",
    "Training_All = Sxx.reshape(Sxx.shape[0], Sxx.shape[1], Sxx.shape[2], NoOfSensor)\n",
    "print(\"Reshape_for_CNN Result :\", Training_All.shape)"
   ]
  },
  {
   "cell_type": "code",
   "execution_count": null,
   "metadata": {},
   "outputs": [],
   "source": [
    "for i in range(Fold):\n",
    "    s1 = 'f,t,Sxx1 = signal.spectrogram(temp_Training_Fold%d, Fs, nperseg=78)'   %(i+1)\n",
    "    s2 = 'f,t,Sxx2 = signal.spectrogram(temp_Validation_Fold%d, Fs, nperseg=78)' %(i+1)\n",
    "    exec(s1)\n",
    "    exec(s2)\n",
    "    \n",
    "    s3 = 'Training_Fold%d   = Sxx1.reshape(Sxx1.shape[0], Sxx1.shape[1], Sxx1.shape[2], NoOfSensor)' %(i+1)\n",
    "    s4 = 'Validation_Fold%d = Sxx2.reshape(Sxx2.shape[0], Sxx2.shape[1], Sxx2.shape[2], NoOfSensor)' %(i+1)\n",
    "    exec(s3)\n",
    "    exec(s4)\n",
    "\n",
    "\n",
    "print(f.shape, t.shape, Training_Fold1.shape, Validation_Fold1.shape)"
   ]
  },
  {
   "cell_type": "markdown",
   "metadata": {},
   "source": [
    "## CNN(Convolution Neural Network) hyperparameter 설정"
   ]
  },
  {
   "cell_type": "code",
   "execution_count": null,
   "metadata": {},
   "outputs": [],
   "source": [
    "learningRate  = 0.001\n",
    "iteration     = 500"
   ]
  },
  {
   "cell_type": "markdown",
   "metadata": {},
   "source": [
    "## Keras 기반 CNN 구조(Architecture) 설계"
   ]
  },
  {
   "cell_type": "code",
   "execution_count": null,
   "metadata": {},
   "outputs": [],
   "source": [
    "def CNN_model(input_data):\n",
    "    model = keras.Sequential()\n",
    "    model.add(keras.layers.Conv2D(4, kernel_size=(3,3), strides=(1, 1), padding='same', activation='relu',\n",
    "                                  input_shape=(input_data.shape[1],input_data.shape[2],input_data.shape[3]))) # Convolution layer 1\n",
    "    model.add(keras.layers.MaxPooling2D(pool_size = (2,2), strides=(2,2)))                                    # Pooling layer 1\n",
    "    model.add(keras.layers.Conv2D(8, kernel_size=(3,3), strides=(1, 1), padding='same', activation='relu'))   # Convolution layer 2\n",
    "    model.add(keras.layers.GlobalAveragePooling2D())                                                          # Global Average Pooling\n",
    "    model.add(keras.layers.Dense(units = 2, activation='softmax'))                                            # Output Layer\n",
    "\n",
    "    \n",
    "    model.compile(optimizer= keras.optimizers.Adam(learning_rate = learningRate),\n",
    "                  loss=keras.losses.categorical_crossentropy,\n",
    "                  metrics=['accuracy'])\n",
    "    return model"
   ]
  },
  {
   "cell_type": "markdown",
   "metadata": {},
   "source": [
    "## CNN(Convolution Neural Network) 학습 및 평가 방법"
   ]
  },
  {
   "cell_type": "code",
   "execution_count": null,
   "metadata": {},
   "outputs": [],
   "source": [
    "model = CNN_model(Training_Fold1)\n",
    "model.summary()"
   ]
  },
  {
   "cell_type": "code",
   "execution_count": null,
   "metadata": {},
   "outputs": [],
   "source": [
    "tf.random.set_seed(777)\n",
    "\n",
    "Data      = Training_Fold1\n",
    "Data_Val  = Validation_Fold1\n",
    "Label     = TrainingFold_Label\n",
    "Label_Val = ValidationFold_Label\n",
    "\n",
    "model = CNN_model(Data)\n",
    "\n",
    "hist = model.fit(Data, Label, epochs=iteration, verbose = 0)\n",
    "Loss, Accuracy = model.evaluate(Data_Val,  Label_Val, verbose=0)\n",
    "\n",
    "Accuracy"
   ]
  },
  {
   "cell_type": "markdown",
   "metadata": {},
   "source": [
    "## CNN(Convolution Neural Network) 학습 및 검증"
   ]
  },
  {
   "cell_type": "code",
   "execution_count": null,
   "metadata": {},
   "outputs": [],
   "source": [
    "Label        = TrainingFold_Label\n",
    "Label_Val    = ValidationFold_Label\n",
    "Accuracy_sum = 0\n",
    "\n",
    "print('[Result of K-fold Cross Validation] \\n')\n",
    "\n",
    "for i in range(Fold):\n",
    "    tf.random.set_seed(777)\n",
    "    \n",
    "    s1= 'Data = Training_Fold%d'%(i+1)\n",
    "    s2= 'Data_Val = Validation_Fold%d'%(i+1)\n",
    "    exec(s1)\n",
    "    exec(s2)\n",
    "    \n",
    "    model = CNN_model(Data)\n",
    "    \n",
    "# train my model\n",
    "    hist = model.fit(Data, Label, epochs=iteration, verbose = 0)\n",
    "    Loss, Accuracy = model.evaluate(Data_Val,  Label_Val, verbose=0)\n",
    "    Accuracy_sum = Accuracy_sum + Accuracy\n",
    "    print('Fold {}: {:.2f}%'.format((i+1), Accuracy*100))\n",
    "\n",
    "print('* Average accuracy : {:.2f}%'.format((Accuracy_sum/Fold)*100))"
   ]
  },
  {
   "cell_type": "markdown",
   "metadata": {},
   "source": [
    "## 전체 학습 데이터로 NN 학습 및 모델 저장"
   ]
  },
  {
   "cell_type": "code",
   "execution_count": null,
   "metadata": {},
   "outputs": [],
   "source": [
    "PrintAccPerEpochs = 200\n",
    "\n",
    "class AccuracyPerEpoch(keras.callbacks.Callback):\n",
    "    def on_epoch_end(self, epoch, logs=None):\n",
    "        keras.callbacks.Callback()\n",
    "        if epoch%PrintAccPerEpochs == 0:\n",
    "            print(\"{} Epochs Accuracy : {:.2f}% \".format(epoch, logs[\"accuracy\"]*100))"
   ]
  },
  {
   "cell_type": "code",
   "execution_count": null,
   "metadata": {},
   "outputs": [],
   "source": [
    "tf.random.set_seed(777)    \n",
    "\n",
    "Data  = Training_All\n",
    "Label = Training_All_Label\n",
    "\n",
    "model = CNN_model(Training_All)\n",
    "hist = model.fit(Data, Label, epochs=iteration, verbose = 0, callbacks = [AccuracyPerEpoch()])\n",
    "\n",
    "print('Final Accuracy      : {:.2f}%'.format(hist.history['accuracy'][-1]*100))"
   ]
  },
  {
   "cell_type": "code",
   "execution_count": null,
   "metadata": {},
   "outputs": [],
   "source": [
    "# 학습 과정 확인\n",
    "\n",
    "fig, loss_ax = plt.subplots()\n",
    "acc_ax = loss_ax.twinx()\n",
    "\n",
    "loss_ax.plot(hist.history['loss'], 'y', label='train loss', c = 'tab:red')\n",
    "loss_ax.set_xlabel('epoch')\n",
    "loss_ax.set_ylabel('loss')\n",
    "loss_ax.legend(loc='upper left')\n",
    "\n",
    "acc_ax.plot(hist.history['accuracy'], 'b', label='train acc', c = 'tab:blue')\n",
    "acc_ax.set_ylabel('accuracy')\n",
    "acc_ax.legend(loc='lower left')\n",
    "\n",
    "plt.show()"
   ]
  },
  {
   "cell_type": "code",
   "execution_count": null,
   "metadata": {},
   "outputs": [],
   "source": [
    "# 모델 저장\n",
    "model.save(\"./MLmodels/Simple_CNN_model.h5\")"
   ]
  },
  {
   "cell_type": "markdown",
   "metadata": {},
   "source": [
    "## NN model 불러와서 진단"
   ]
  },
  {
   "cell_type": "code",
   "execution_count": null,
   "metadata": {},
   "outputs": [],
   "source": [
    "# 모델 불러오기\n",
    "LoadedModel = keras.models.load_model(\"./MLmodels/Simple_CNN_model.h5\")"
   ]
  },
  {
   "cell_type": "code",
   "execution_count": null,
   "metadata": {},
   "outputs": [],
   "source": [
    "temp_Test_Data         = np.array(pd.read_csv('./K_FoldData/CNN_Test_Data' , sep=\",\", header=None))\n",
    "Test_Label_forANN = np.array(pd.read_csv('./K_FoldData/Test_Label_forANN', sep=\",\", header=None))"
   ]
  },
  {
   "cell_type": "code",
   "execution_count": null,
   "metadata": {},
   "outputs": [],
   "source": [
    "f,t,Test_Data = signal.spectrogram(temp_Test_Data, Fs, nperseg = 78)\n",
    "print(\"STFT Result            :\", Training_All.shape)\n",
    "\n",
    "# Data Reshape for CNN\n",
    "Test_Data = Test_Data.reshape(Test_Data.shape[0], Test_Data.shape[1], Test_Data.shape[2], NoOfSensor)\n",
    "print(\"Reshape_for_CNN Result :\", Test_Data.shape)"
   ]
  },
  {
   "cell_type": "code",
   "execution_count": null,
   "metadata": {},
   "outputs": [],
   "source": [
    "Loss, Accuracy = LoadedModel.evaluate(Test_Data,  Test_Label_forANN, verbose=0)\n",
    "print('[Performance of CNN model] \\n')\n",
    "print('Accuracy : {:.2f}%'.format(Accuracy*100))"
   ]
  },
  {
   "cell_type": "code",
   "execution_count": null,
   "metadata": {
    "scrolled": true
   },
   "outputs": [],
   "source": [
    "# 예측값 확인\n",
    "Predict_y = LoadedModel.predict(Test_Data)\n",
    "pd.DataFrame(Predict_y)"
   ]
  },
  {
   "cell_type": "code",
   "execution_count": null,
   "metadata": {},
   "outputs": [],
   "source": []
  }
 ],
 "metadata": {
  "kernelspec": {
   "display_name": "Python 3",
   "language": "python",
   "name": "python3"
  },
  "language_info": {
   "codemirror_mode": {
    "name": "ipython",
    "version": 3
   },
   "file_extension": ".py",
   "mimetype": "text/x-python",
   "name": "python",
   "nbconvert_exporter": "python",
   "pygments_lexer": "ipython3",
   "version": "3.8.8"
  }
 },
 "nbformat": 4,
 "nbformat_minor": 4
}
