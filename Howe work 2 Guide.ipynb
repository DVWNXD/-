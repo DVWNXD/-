{
 "cells": [
  {
   "cell_type": "markdown",
   "metadata": {},
   "source": [
    "### ****** 필독 !! 실습과제 주의사항 ******"
   ]
  },
  {
   "cell_type": "markdown",
   "metadata": {},
   "source": [
    "- 각자의 \"수강생 번호\" 확인 (아이캠퍼스 공지) \n",
    "- 제출하는 실습과제 파일에 \"수강생 번호\"를 기준으로 작성 (이름, 학번 등 작성X)\n",
    "- 각 실습과제에 대한 구체적인 파일 이름은 매번 개별 안내 \n",
    "  (수강생 번호 123번 학생 과제파일 예시 : 'ST123_HW2_1' )\n",
    "  \n",
    "- 과제 파일이름 양식 지키지 않을 시 감점!"
   ]
  },
  {
   "cell_type": "markdown",
   "metadata": {},
   "source": [
    "# [실습 과제 2]"
   ]
  },
  {
   "cell_type": "markdown",
   "metadata": {},
   "source": [
    "## 1. 센서 데이터 1개 (가속도) 및 WT level 4으로 설정하여 다른 형태의 특징데이터 추출 \n",
    "#### >>>>>> TimeDomain 10개 + FrequencyDomain 40개 = 총 50개 특징 추출 50행 360열\n",
    "#### >>>>>> 추출된 데이터를 파일로 저장 후 제출\n",
    "#### >>>>>> 데이터 파일 이름 : ST(수강생 번호)_HW2_1  (예시 : 'ST00_HW2_1'  //  'ST0_HW2_1')\n",
    "#### >>>>>> 데이터 파일 이름 중 'ST' , 'HW' 등 영어는 모두 대문자"
   ]
  },
  {
   "cell_type": "code",
   "execution_count": null,
   "metadata": {},
   "outputs": [],
   "source": [
    "import pandas as pd\n",
    "import numpy as np\n",
    "import scipy.stats as sp\n",
    "import pywt"
   ]
  },
  {
   "cell_type": "code",
   "execution_count": null,
   "metadata": {},
   "outputs": [],
   "source": [
    "NoOfData    = 180  # 정상/고장 데이터 각 180개씩 \n",
    "NoOfSensor  = 1    # 가속도(Acceleration), 전압(Voltage), 전류(Current)\n",
    "NoOfFeature = 10   # 특징 개수:10개 (순서: Max, Min, Mean, RMS, Variance, Skewness, Kurtosis, Crest factor, Shape factor, Impulse factor)\n",
    "\n",
    "NoOfData, NoOfSensor, NoOfFeature"
   ]
  },
  {
   "cell_type": "code",
   "execution_count": null,
   "metadata": {},
   "outputs": [],
   "source": [
    "def rms(x): # RMS 함수 정의\n",
    "    return np.sqrt(np.mean(x**2))"
   ]
  },
  {
   "cell_type": "code",
   "execution_count": null,
   "metadata": {},
   "outputs": [],
   "source": [
    "TimeFeature_Normal   = np.zeros((NoOfSensor*NoOfFeature , NoOfData))\n",
    "TimeFeature_Abnormal = np.zeros((NoOfSensor*NoOfFeature , NoOfData))\n",
    "\n",
    "for i in range(NoOfData):\n",
    "    \n",
    "    # 데이터 불러오기\n",
    "    temp_path1 = './SpotWeldingData/Normal_%d'%(i+1)   # Normal 데이터 파일 경로\n",
    "    temp_path2 = './SpotWeldingData/Abnormal_%d'%(i+1) # Abnormal 데이터 파일 경로\n",
    "    temp_data1 = pd.read_csv(temp_path1 , sep=',' , header=None) # 임시 Normal 데이터\n",
    "    temp_data2 = pd.read_csv(temp_path2 , sep=',' , header=None) # 임시 Abnormal 데이터\n",
    "    \n",
    "    # Time Domain 특징값 추출\n",
    "    for j in range(NoOfSensor):\n",
    "        \n",
    "        # Normal Time Domain Feature\n",
    "        TimeFeature_Normal[10*j+0, i] = np.max(temp_data1.iloc[:,j+1])\n",
    "        TimeFeature_Normal[10*j+1, i] = np.min(temp_data1.iloc[:,j+1])\n",
    "        TimeFeature_Normal[10*j+2, i] = np.mean(temp_data1.iloc[:,j+1])\n",
    "        TimeFeature_Normal[10*j+3, i] = rms(temp_data1.iloc[:,j+1])\n",
    "        TimeFeature_Normal[10*j+4, i] = np.var(temp_data1.iloc[:,j+1])\n",
    "        TimeFeature_Normal[10*j+5, i] = sp.skew(temp_data1.iloc[:,j+1])\n",
    "        TimeFeature_Normal[10*j+6, i] = sp.kurtosis(temp_data1.iloc[:,j+1])\n",
    "        TimeFeature_Normal[10*j+7, i] = np.max(temp_data1.iloc[:,j+1])/rms(temp_data1.iloc[:,j+1])\n",
    "        TimeFeature_Normal[10*j+8, i] = rms(temp_data1.iloc[:,j+1])/np.mean(np.abs(temp_data1.iloc[:,j+1]))\n",
    "        TimeFeature_Normal[10*j+9, i] = np.max(temp_data1.iloc[:,j+1])/np.mean(np.abs(temp_data1.iloc[:,j+1]))\n",
    "        \n",
    "        # Abnormal Time Domain Feature\n",
    "        TimeFeature_Abnormal[10*j+0, i] = np.max(temp_data2.iloc[:,j+1])\n",
    "        TimeFeature_Abnormal[10*j+1, i] = np.min(temp_data2.iloc[:,j+1])\n",
    "        TimeFeature_Abnormal[10*j+2, i] = np.mean(temp_data2.iloc[:,j+1])\n",
    "        TimeFeature_Abnormal[10*j+3, i] = rms(temp_data2.iloc[:,j+1])\n",
    "        TimeFeature_Abnormal[10*j+4, i] = np.var(temp_data2.iloc[:,j+1])\n",
    "        TimeFeature_Abnormal[10*j+5, i] = sp.skew(temp_data2.iloc[:,j+1])\n",
    "        TimeFeature_Abnormal[10*j+6, i] = sp.kurtosis(temp_data2.iloc[:,j+1])\n",
    "        TimeFeature_Abnormal[10*j+7, i] = np.max(temp_data2.iloc[:,j+1])/rms(temp_data2.iloc[:,j+1])\n",
    "        TimeFeature_Abnormal[10*j+8, i] = rms(temp_data2.iloc[:,j+1])/np.mean(np.abs(temp_data2.iloc[:,j+1]))\n",
    "        TimeFeature_Abnormal[10*j+9, i] = np.max(temp_data2.iloc[:,j+1])/np.mean(np.abs(temp_data2.iloc[:,j+1]))\n",
    "        \n",
    "print(TimeFeature_Normal.shape)\n",
    "print(TimeFeature_Abnormal.shape)"
   ]
  },
  {
   "cell_type": "code",
   "execution_count": null,
   "metadata": {},
   "outputs": [],
   "source": [
    "TimeFeature = np.concatenate([TimeFeature_Normal, TimeFeature_Abnormal] , axis=1)\n",
    "TimeFeature.shape"
   ]
  },
  {
   "cell_type": "code",
   "execution_count": null,
   "metadata": {},
   "outputs": [],
   "source": [
    "print(TimeFeature)"
   ]
  },
  {
   "cell_type": "code",
   "execution_count": null,
   "metadata": {},
   "outputs": [],
   "source": [
    "MotherWavelet = pywt.Wavelet('haar')   # Mother wavelet (모함수) 지정\n",
    "Level   = 4                            # Wavelet 분해 레벨 지정\n",
    "select  = 4                            # 특징추출 영역 고주파 영역부터 개수 지정 (d1~)"
   ]
  },
  {
   "cell_type": "code",
   "execution_count": null,
   "metadata": {},
   "outputs": [],
   "source": [
    "FreqFeature_Normal   = np.zeros(shape=(NoOfSensor*NoOfFeature*select , NoOfData))\n",
    "FreqFeature_Abnormal = np.zeros(shape=(NoOfSensor*NoOfFeature*select , NoOfData))\n",
    "\n",
    "for i in range(NoOfData):\n",
    "    \n",
    "    # 데이터 불러오기\n",
    "    temp_path1 = './SpotWeldingData/Normal_%d'%(i+1)   # Normal 데이터 파일 경로\n",
    "    temp_path2 = './SpotWeldingData/Abnormal_%d'%(i+1) # Abnormal 데이터 파일 경로\n",
    "    temp_data1 = np.array(pd.read_csv(temp_path1 , sep=',', header=None).iloc[:,1:]) # 임시 Normal 데이터\n",
    "    temp_data2 = np.array(pd.read_csv(temp_path2 , sep=',', header=None).iloc[:,1:]) # 임시 Abnormal 데이터\n",
    "    Coef1      = pywt.wavedec(temp_data1, MotherWavelet, level=Level, axis=0)\n",
    "    Coef2      = pywt.wavedec(temp_data2, MotherWavelet, level=Level, axis=0)\n",
    "    \n",
    "    # Frequency Domain 특징값 추출\n",
    "    for j in range(NoOfSensor):\n",
    "        \n",
    "        for k in np.arange(select):\n",
    "            coef1 = Coef1[Level-k]\n",
    "            coef2 = Coef2[Level-k]\n",
    "            \n",
    "            # Normal Frequency Domain Feature\n",
    "            FreqFeature_Normal[NoOfFeature*j*select+k*NoOfFeature+0 , i] = np.max(coef1[:,j])\n",
    "            FreqFeature_Normal[NoOfFeature*j*select+k*NoOfFeature+1 , i] = np.min(coef1[:,j])\n",
    "            FreqFeature_Normal[NoOfFeature*j*select+k*NoOfFeature+2 , i] = np.mean(coef1[:,j])\n",
    "            FreqFeature_Normal[NoOfFeature*j*select+k*NoOfFeature+3 , i] = np.var(coef1[:,j])\n",
    "            FreqFeature_Normal[NoOfFeature*j*select+k*NoOfFeature+4 , i] = rms(coef1[:,j])\n",
    "            FreqFeature_Normal[NoOfFeature*j*select+k*NoOfFeature+5 , i] = sp.skew(coef1[:,j])\n",
    "            FreqFeature_Normal[NoOfFeature*j*select+k*NoOfFeature+6 , i] = sp.kurtosis(coef1[:,j])\n",
    "            FreqFeature_Normal[NoOfFeature*j*select+k*NoOfFeature+7 , i] = np.max(coef1[:,j])/rms(coef1[:,j])\n",
    "            FreqFeature_Normal[NoOfFeature*j*select+k*NoOfFeature+8 , i] = rms(coef1[:,j])/np.mean(np.abs(coef1[:,j]))\n",
    "            FreqFeature_Normal[NoOfFeature*j*select+k*NoOfFeature+9 , i] = np.max(coef1[:,j])/np.mean(np.abs(coef1[:,j]))\n",
    "            \n",
    "            # Abnormal Frequency Domain Feature\n",
    "            FreqFeature_Abnormal[NoOfFeature*j*select+k*NoOfFeature+0 , i] = np.max(coef2[:,j])\n",
    "            FreqFeature_Abnormal[NoOfFeature*j*select+k*NoOfFeature+1 , i] = np.min(coef2[:,j])\n",
    "            FreqFeature_Abnormal[NoOfFeature*j*select+k*NoOfFeature+2 , i] = np.mean(coef2[:,j])\n",
    "            FreqFeature_Abnormal[NoOfFeature*j*select+k*NoOfFeature+3 , i] = np.var(coef2[:,j])\n",
    "            FreqFeature_Abnormal[NoOfFeature*j*select+k*NoOfFeature+4 , i] = rms(coef2[:,j])\n",
    "            FreqFeature_Abnormal[NoOfFeature*j*select+k*NoOfFeature+5 , i] = sp.skew(coef2[:,j])\n",
    "            FreqFeature_Abnormal[NoOfFeature*j*select+k*NoOfFeature+6 , i] = sp.kurtosis(coef2[:,j])\n",
    "            FreqFeature_Abnormal[NoOfFeature*j*select+k*NoOfFeature+7 , i] = np.max(coef2[:,j])/rms(coef2[:,j])\n",
    "            FreqFeature_Abnormal[NoOfFeature*j*select+k*NoOfFeature+8 , i] = rms(coef2[:,j])/np.mean(np.abs(coef2[:,j]))\n",
    "            FreqFeature_Abnormal[NoOfFeature*j*select+k*NoOfFeature+9 , i] = np.max(coef2[:,j])/np.mean(np.abs(coef2[:,j]))\n",
    "\n",
    "print(FreqFeature_Normal.shape)\n",
    "print(FreqFeature_Abnormal.shape)"
   ]
  },
  {
   "cell_type": "code",
   "execution_count": null,
   "metadata": {},
   "outputs": [],
   "source": [
    "FreqFeature = np.concatenate([FreqFeature_Normal, FreqFeature_Abnormal] , axis=1)\n",
    "FreqFeature.shape"
   ]
  },
  {
   "cell_type": "code",
   "execution_count": null,
   "metadata": {},
   "outputs": [],
   "source": [
    "Features = np.concatenate([TimeFeature,FreqFeature] , axis=0)\n",
    "\n",
    "print(\"Feature Data Size :\", Features.shape)\n",
    "print(\"= 데이터 %d개(정상/고장 각 %d개씩)가 각각 %d개의 특징값으로 구성됨\"%(Features.shape[1], Features.shape[1]/2, Features.shape[0]))"
   ]
  },
  {
   "cell_type": "code",
   "execution_count": null,
   "metadata": {},
   "outputs": [],
   "source": [
    "FeatureData = pd.DataFrame(Features)\n",
    "FeatureData"
   ]
  },
  {
   "cell_type": "code",
   "execution_count": null,
   "metadata": {},
   "outputs": [],
   "source": [
    "path = './ProcessedData1/FeatureData'   # path = '파일 경로/저장할 파일 이름'\n",
    "FeatureData.to_csv(path, sep=',', header=None , index=None)"
   ]
  },
  {
   "cell_type": "code",
   "execution_count": null,
   "metadata": {},
   "outputs": [],
   "source": [
    "path = './ProcessedData1/ST41_HW2_1'\n",
    "FeatureData.to_csv(path , sep=',' , header=None , index=None)"
   ]
  },
  {
   "cell_type": "markdown",
   "metadata": {},
   "source": [
    "## 2. 위의 특징데이터에서 P-value 오름차순 상/하위 각각 5개를 선택한 2가지 특징데이터 추출\n",
    "#### >>>>>> 추출된 2개 데이터를 각각의 파일로 저장 후 제출\n",
    "#### >>>>>> 데이터 파일 이름 : ST(수강생 번호)_HW2_2 ,  ST(수강생 번호)_HW2_3 (예시 : 'ST00_HW2_2(or 3)'  //  'ST0_HW2_2(or 3)')\n",
    "#### >>>>>> 데이터  파일 이름 중 'ST' , 'HW' 등 영어는 모두 대문자"
   ]
  },
  {
   "cell_type": "code",
   "execution_count": null,
   "metadata": {},
   "outputs": [],
   "source": [
    "import pandas            as pd\n",
    "import numpy             as np\n",
    "import seaborn           as sb\n",
    "import scipy.stats       as sp\n",
    "import matplotlib.pyplot as plt"
   ]
  },
  {
   "cell_type": "code",
   "execution_count": null,
   "metadata": {},
   "outputs": [],
   "source": [
    "FeatureData = pd.read_csv('./ProcessedData1/ST41_HW2_1', sep=',', header=None)\n",
    "FeatureData.shape"
   ]
  },
  {
   "cell_type": "code",
   "execution_count": null,
   "metadata": {},
   "outputs": [],
   "source": [
    "NoOfData = int(FeatureData.shape[1]/2)\n",
    "Normal_FeatureData   = FeatureData.iloc[:,:NoOfData]\n",
    "Abnormal_FeatureData = FeatureData.iloc[:,NoOfData:]\n",
    "\n",
    "print(Normal_FeatureData.shape)\n",
    "print(Abnormal_FeatureData.shape)"
   ]
  },
  {
   "cell_type": "code",
   "execution_count": null,
   "metadata": {},
   "outputs": [],
   "source": [
    "NoOfFeature = FeatureData.shape[0] # 추출된 Feature 갯수\n",
    "\n",
    "P_value = np.zeros((NoOfFeature , 2))\n",
    "\n",
    "# 특징값 각각 T-검정 수행\n",
    "for i in np.arange(NoOfFeature):\n",
    "    \n",
    "    T_test       = np.array(sp.ttest_ind(Normal_FeatureData.iloc[i,:] , Abnormal_FeatureData.iloc[i,:]))\n",
    "    P_value[i,0] = i          # Feature Index\n",
    "    P_value[i,1] = T_test[1]  # P값 (P-value)\n",
    "    \n",
    "P_value      = pd.DataFrame(P_value)\n",
    "P_value"
   ]
  },
  {
   "cell_type": "code",
   "execution_count": null,
   "metadata": {},
   "outputs": [],
   "source": [
    "P_value_Rank = P_value.sort_values([1],ascending=False)  # P-value 기준 오름차순 정렬\n",
    "\n",
    "P_value_Rank"
   ]
  },
  {
   "cell_type": "code",
   "execution_count": null,
   "metadata": {},
   "outputs": [],
   "source": [
    "path1 = './ProcessedData1/P_value'        # path = '파일 경로/저장할 파일 이름'\n",
    "path2 = './ProcessedData1/P_value_Rank'   # path = '파일 경로/저장할 파일 이름'\n",
    "P_value.to_csv(path1, sep=',', header=None, index=None)\n",
    "P_value_Rank.to_csv(path2, sep=',', header=None, index=None)"
   ]
  },
  {
   "cell_type": "code",
   "execution_count": null,
   "metadata": {},
   "outputs": [],
   "source": [
    "Rank = 5\n",
    "\n",
    "Normal   = np.zeros((Rank,NoOfData))\n",
    "Abnormal = np.zeros((Rank,NoOfData))\n",
    "\n",
    "for i in range(Rank):\n",
    "    \n",
    "    index         = int(P_value_Rank.iloc[i,0])\n",
    "    Normal[i,:]   = Normal_FeatureData.iloc[index,:].values\n",
    "    Abnormal[i,:] = Abnormal_FeatureData.iloc[index,:].values\n",
    "\n",
    "# 정상, 고장 특징값 합치기    \n",
    "FeatureSelected = pd.DataFrame(np.concatenate([Normal, Abnormal] , axis=1))\n",
    "\n",
    "print(\"Selected Feature Data Size :\", FeatureSelected.shape)\n",
    "print(\"= 데이터 %d개(정상/고장 각 %d개씩)가 각각 %d개의 최종 선택된 특징값으로 구성됨\"\n",
    "      %(FeatureSelected.shape[1], FeatureSelected.shape[1]/2, FeatureSelected.shape[0]))"
   ]
  },
  {
   "cell_type": "code",
   "execution_count": null,
   "metadata": {},
   "outputs": [],
   "source": [
    "path = './ProcessedData1//ST41_HW2_2'   # path = '파일 경로//저장할 파일 이름'\n",
    "FeatureSelected.to_csv(path, sep=',', header=None, index=None)"
   ]
  },
  {
   "cell_type": "code",
   "execution_count": null,
   "metadata": {},
   "outputs": [],
   "source": [
    "print(FeatureSelected)"
   ]
  },
  {
   "cell_type": "markdown",
   "metadata": {},
   "source": [
    "## 3. 위의 2가지 특징데이터를 이용하여 t-SNE 수행 및 그래프 그리기\n",
    "#### >>>>>> P-value 기준 상위 5개 특징데이터 및 하위 5개 특징데이터 각각 t-SNE 수행 및 그래프 출력 (정상 : 파랑 // 고장 : 빨강)\n",
    "#### >>>>>> 출력된 그래프를 각각 캡쳐/저장하고, 이미지 파일(.jpg) 2개 제출 t-sne파라미터 변경전\n",
    "#### >>>>>> 이미지 파일 이름 : ST(수강생 번호)_HW2_상위특징.jpg , ST(수강생 번호)_HW2_하위특징.jpg\n",
    "#### >>>>>> 이미지 파일 이름 중 'ST' , 'HW' 등 영어는 모두 대문자"
   ]
  },
  {
   "cell_type": "code",
   "execution_count": null,
   "metadata": {},
   "outputs": [],
   "source": [
    "import pandas as pd\n",
    "import numpy  as np\n",
    "import matplotlib.pyplot as plt\n",
    "import time"
   ]
  },
  {
   "cell_type": "code",
   "execution_count": null,
   "metadata": {},
   "outputs": [],
   "source": [
    "from sklearn.preprocessing import StandardScaler\n",
    "from sklearn.manifold      import TSNE"
   ]
  },
  {
   "cell_type": "code",
   "execution_count": null,
   "metadata": {},
   "outputs": [],
   "source": [
    "FeatureData = pd.read_csv('./ProcessedData1/FeatureData', header=None)\n",
    "FeatureData.shape"
   ]
  },
  {
   "cell_type": "code",
   "execution_count": null,
   "metadata": {},
   "outputs": [],
   "source": [
    "P_value_Rank = pd.read_csv('./ProcessedData1/P_value_Rank' , header=None)\n",
    "P_value_Rank"
   ]
  },
  {
   "cell_type": "code",
   "execution_count": null,
   "metadata": {},
   "outputs": [],
   "source": [
    "# StartRank 부터 Number 만큼의 Feature\n",
    "StartRank = 1\n",
    "Number    = 5\n",
    "\n",
    "SelectedFeatues = np.zeros((Number,FeatureData.shape[1]))\n",
    "\n",
    "s = 0\n",
    "\n",
    "for i in range(StartRank, StartRank+Number):\n",
    "    \n",
    "    index                = int(P_value_Rank.iloc[i-1,0])\n",
    "    SelectedFeatues[s,:] = FeatureData.iloc[index,:].values\n",
    "    s += 1\n",
    "\n",
    "# 정상, 고장 특징값 합치기    \n",
    "FeatureSelected = pd.DataFrame(SelectedFeatues)\n",
    "FeatureSelected.shape"
   ]
  },
  {
   "cell_type": "code",
   "execution_count": null,
   "metadata": {},
   "outputs": [],
   "source": [
    "FeatureSelected = np.transpose(FeatureSelected)\n",
    "FeatureSelected.shape"
   ]
  },
  {
   "cell_type": "code",
   "execution_count": null,
   "metadata": {},
   "outputs": [],
   "source": [
    "time_start   = time.time()\n",
    "tsne         = TSNE(n_components=2, verbose=1, perplexity=20, n_iter=500, random_state=1) #perplexity 주변의 몇개의 점까지 할지\n",
    "tsne_results = tsne.fit_transform(FeatureSelected)\n",
    "\n",
    "print( '\\n\\n t-SNE done! Time elapsed: {} seconds'.format(time.time() - time_start )) #kl다이버젼스 에러라고 생각 낮추는 방향으로"
   ]
  },
  {
   "cell_type": "code",
   "execution_count": null,
   "metadata": {},
   "outputs": [],
   "source": [
    "pd.DataFrame(tsne_results)"
   ]
  },
  {
   "cell_type": "code",
   "execution_count": null,
   "metadata": {},
   "outputs": [],
   "source": [
    "NoOfData = int(FeatureSelected.shape[0]/2)\n",
    "\n",
    "plt.figure(figsize=(10,5))\n",
    "\n",
    "plt.scatter(tsne_results[:NoOfData,0], tsne_results[:NoOfData,1], marker='o', label='Normal')\n",
    "plt.scatter(tsne_results[NoOfData:,0], tsne_results[NoOfData:,1], marker='o', label='Abnormal', c='r')\n",
    "plt.title('t-SNE Result', fontsize=15)\n",
    "plt.grid(alpha=0.5)\n",
    "plt.legend(fontsize=12)\n",
    "plt.xlabel('t-SNE_1')\n",
    "plt.ylabel('t-SNE_2')\n",
    "\n",
    "plt.show()"
   ]
  },
  {
   "cell_type": "markdown",
   "metadata": {},
   "source": [
    "## ***** 데이터 파일 및 이미지 파일 함께 zip파일로 압축하여 제출\n",
    "### >>> 압축파일 이름 ST(수강생 번호)_HW2 (예시 : 'ST00_HW2'  //  'ST0_HW2')"
   ]
  }
 ],
 "metadata": {
  "kernelspec": {
   "display_name": "Python 3",
   "language": "python",
   "name": "python3"
  },
  "language_info": {
   "codemirror_mode": {
    "name": "ipython",
    "version": 3
   },
   "file_extension": ".py",
   "mimetype": "text/x-python",
   "name": "python",
   "nbconvert_exporter": "python",
   "pygments_lexer": "ipython3",
   "version": "3.8.8"
  }
 },
 "nbformat": 4,
 "nbformat_minor": 4
}
