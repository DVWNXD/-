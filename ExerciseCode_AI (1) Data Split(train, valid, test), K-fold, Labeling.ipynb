{
 "cells": [
  {
   "cell_type": "code",
   "execution_count": null,
   "metadata": {},
   "outputs": [],
   "source": [
    "%matplotlib                    # Pyplot 그래프 새창에서 열기 옵션"
   ]
  },
  {
   "cell_type": "code",
   "execution_count": null,
   "metadata": {},
   "outputs": [],
   "source": [
    "%matplotlib inline             # Pyplot 그래프 새창에서 열기 '취소' 옵션"
   ]
  },
  {
   "cell_type": "code",
   "execution_count": null,
   "metadata": {},
   "outputs": [],
   "source": [
    "pd.set_option('display.max_rows',    100)      # DataFrame 데이터 확인 시 최대 표시 행 수\n",
    "pd.set_option('display.max_columns', 100)      # DataFrame 데이터 확인 시 최대 표시 열 수"
   ]
  },
  {
   "cell_type": "markdown",
   "metadata": {},
   "source": [
    "## 라이브러리 import"
   ]
  },
  {
   "cell_type": "code",
   "execution_count": 1,
   "metadata": {},
   "outputs": [],
   "source": [
    "import pandas as pd\n",
    "import numpy as np\n",
    "import matplotlib.pyplot as plt"
   ]
  },
  {
   "cell_type": "markdown",
   "metadata": {},
   "source": [
    "## 데이터 (최종 선택된 특징데이터) 불러오기"
   ]
  },
  {
   "cell_type": "code",
   "execution_count": 2,
   "metadata": {},
   "outputs": [
    {
     "data": {
      "text/plain": [
       "(360, 30)"
      ]
     },
     "execution_count": 2,
     "metadata": {},
     "output_type": "execute_result"
    }
   ],
   "source": [
    "FeatureSelected = pd.read_csv('./ProcessedData/FeatureSelected', sep=',', header=None)\n",
    "FeatureSelected = pd.DataFrame(np.transpose(FeatureSelected))\n",
    "FeatureSelected.shape"
   ]
  },
  {
   "cell_type": "markdown",
   "metadata": {},
   "source": [
    "## 학습/검증 데이터와 평가 데이터 분할"
   ]
  },
  {
   "cell_type": "markdown",
   "metadata": {},
   "source": [
    "Fold별 데이터 분할 용이하도록 데이터 Reshape"
   ]
  },
  {
   "cell_type": "code",
   "execution_count": 3,
   "metadata": {},
   "outputs": [
    {
     "name": "stdout",
     "output_type": "stream",
     "text": [
      "180 30\n"
     ]
    }
   ],
   "source": [
    "NoOfData   = int(FeatureSelected.shape[0]/2)   # 데이터 개수 (정상/고장 각각)\n",
    "FeatNo     = int(FeatureSelected.shape[1])     # 데이터 특징 수 (=데이터 차원)\n",
    "\n",
    "print(NoOfData, FeatNo)"
   ]
  },
  {
   "cell_type": "code",
   "execution_count": 4,
   "metadata": {},
   "outputs": [
    {
     "data": {
      "text/plain": [
       "(180, 60)"
      ]
     },
     "execution_count": 4,
     "metadata": {},
     "output_type": "execute_result"
    }
   ],
   "source": [
    "NormalSet   = np.array(FeatureSelected.iloc[:NoOfData , :])\n",
    "AbnormalSet = np.array(FeatureSelected.iloc[NoOfData: , :])\n",
    "FeatureSelected_Reshaped = pd.DataFrame(np.concatenate([NormalSet , AbnormalSet] , axis=1))\n",
    "FeatureSelected_Reshaped.shape"
   ]
  },
  {
   "cell_type": "markdown",
   "metadata": {},
   "source": [
    "학습/검증 데이터를 160개, 평가 데이터를 20개로 분할"
   ]
  },
  {
   "cell_type": "code",
   "execution_count": 5,
   "metadata": {},
   "outputs": [
    {
     "name": "stdout",
     "output_type": "stream",
     "text": [
      "(160, 60) (20, 60)\n"
     ]
    }
   ],
   "source": [
    "Train_Valid_Data =  FeatureSelected_Reshaped.iloc[:-20, :]\n",
    "temp_Test_Data = FeatureSelected_Reshaped.iloc[-20:, :]\n",
    "\n",
    "print(Train_Valid_Data.shape, temp_Test_Data.shape)"
   ]
  },
  {
   "cell_type": "code",
   "execution_count": 6,
   "metadata": {},
   "outputs": [
    {
     "data": {
      "text/plain": [
       "(40, 30)"
      ]
     },
     "execution_count": 6,
     "metadata": {},
     "output_type": "execute_result"
    }
   ],
   "source": [
    "Test_Data = pd.DataFrame(np.concatenate([temp_Test_Data.iloc[:,:FeatNo], temp_Test_Data.iloc[:,FeatNo:]], axis = 0))\n",
    "Test_Data.shape"
   ]
  },
  {
   "cell_type": "markdown",
   "metadata": {},
   "source": [
    "## K값에 맞춰 Fold별 학습/검증 데이터 분할"
   ]
  },
  {
   "cell_type": "markdown",
   "metadata": {},
   "source": [
    "K값(Fold개수), 데이터 개수(정상/고장 각각), 특징 수(=데이터 차원) 정의하여 '1개 Fold의 (검증)데이터 개수' 계산"
   ]
  },
  {
   "cell_type": "code",
   "execution_count": 7,
   "metadata": {
    "scrolled": false
   },
   "outputs": [
    {
     "name": "stdout",
     "output_type": "stream",
     "text": [
      "32\n"
     ]
    }
   ],
   "source": [
    "NoOfTrainData = Train_Valid_Data.shape[0]\n",
    "\n",
    "Fold       = 5                                 # Fold 개수 선정 : 데이터 개수의 약수여야 함.\n",
    "FoldDataNo = int(NoOfTrainData/Fold)           # 1개 Fold 당 (검증)데이터 개수\n",
    "print(FoldDataNo)"
   ]
  },
  {
   "cell_type": "markdown",
   "metadata": {},
   "source": [
    "Fold별 데이터 분할 (정상/고장 데이터 동일하게 분포하도록)"
   ]
  },
  {
   "cell_type": "code",
   "execution_count": 8,
   "metadata": {},
   "outputs": [],
   "source": [
    "# Validation Data set\n",
    "for i in range(Fold):\n",
    "    \n",
    "    temp_Valid_Normal   = Train_Valid_Data.iloc[FoldDataNo*i : FoldDataNo*(i+1), :FeatNo] #160:30 데이터를 32개씩 잘라서 저장\n",
    "    temp_Valid_Abnormal = Train_Valid_Data.iloc[FoldDataNo*i : FoldDataNo*(i+1), FeatNo:]\n",
    "    temp_Valid = pd.DataFrame(np.concatenate([temp_Valid_Normal, temp_Valid_Abnormal] , axis=0)) #행방향으로 합침 65행 30열\n",
    "    \n",
    "    s = 'Validation_Fold%d = temp_Valid'%(i+1)\n",
    "    exec(s) #안에 있는 문자열 변수를 코드로 생각해서 실행해주는 exec함수\n",
    "\n",
    "    \n",
    "# Training Data set\n",
    "for i in range(Fold):\n",
    "    \n",
    "    temp_Train_Front = Train_Valid_Data.iloc[:FoldDataNo*i, :]\n",
    "    temp_Train_Back  = Train_Valid_Data.iloc[FoldDataNo*(i+1):, :]\n",
    "    temp_Train_Total = np.concatenate([temp_Train_Front , temp_Train_Back] , axis=0)\n",
    "    temp_Train_Final = pd.DataFrame(np.concatenate([temp_Train_Total[:, :FeatNo],temp_Train_Total[:, FeatNo:]] , axis=0))\n",
    "    \n",
    "    s ='Training_Fold%d  = temp_Train_Final'%(i+1)\n",
    "    exec(s)\n"
   ]
  },
  {
   "cell_type": "markdown",
   "metadata": {},
   "source": [
    "데이터 분할 결과(shape) 확인"
   ]
  },
  {
   "cell_type": "code",
   "execution_count": 9,
   "metadata": {},
   "outputs": [
    {
     "data": {
      "text/plain": [
       "((64, 30), (256, 30))"
      ]
     },
     "execution_count": 9,
     "metadata": {},
     "output_type": "execute_result"
    }
   ],
   "source": [
    "Validation_Fold1.shape, Training_Fold1.shape # Training_Fold1.shape는 정상 128개 고장 128개"
   ]
  },
  {
   "cell_type": "markdown",
   "metadata": {},
   "source": [
    "## Fold 별 학습/검증 데이터, 평가 데이터 개수에 맞춰 Labeling"
   ]
  },
  {
   "cell_type": "markdown",
   "metadata": {},
   "source": [
    "Fold별 학습/검증 데이터 및 평가 데이터 개수 확인"
   ]
  },
  {
   "cell_type": "code",
   "execution_count": null,
   "metadata": {},
   "outputs": [],
   "source": [
    "label : 0, 1,2\n",
    "onehot : [1,0,0], [0,1,0],[0,0,1] #클래스가 3개일 때 차원을 하나추가 label은 간단하게 하나 추가면 끝"
   ]
  },
  {
   "cell_type": "code",
   "execution_count": 10,
   "metadata": {},
   "outputs": [
    {
     "name": "stdout",
     "output_type": "stream",
     "text": [
      "128\n",
      "32\n",
      "20\n"
     ]
    }
   ],
   "source": [
    "NoOfLabel_Train = int(Training_Fold1.shape[0]/2)\n",
    "NoOfLabel_Valid = int(Validation_Fold1.shape[0]/2)\n",
    "NoOfLabel_Test  = int(Test_Data.shape[0]/2)\n",
    "\n",
    "print(NoOfLabel_Train)\n",
    "print(NoOfLabel_Valid)\n",
    "print(NoOfLabel_Test)"
   ]
  },
  {
   "cell_type": "markdown",
   "metadata": {},
   "source": [
    "#### (1) KNN & SVM 레이블 - 정상: 0 // 고장: 1"
   ]
  },
  {
   "cell_type": "code",
   "execution_count": 11,
   "metadata": {},
   "outputs": [
    {
     "data": {
      "text/plain": [
       "0     0\n",
       "1     0\n",
       "2     0\n",
       "3     0\n",
       "4     0\n",
       "     ..\n",
       "59    1\n",
       "60    1\n",
       "61    1\n",
       "62    1\n",
       "63    1\n",
       "Length: 64, dtype: int32"
      ]
     },
     "execution_count": 11,
     "metadata": {},
     "output_type": "execute_result"
    }
   ],
   "source": [
    "TrainingFold_Label   = np.zeros(2*NoOfLabel_Train , dtype=int)\n",
    "ValidationFold_Label = np.zeros(2*NoOfLabel_Valid , dtype=int)\n",
    "Test_Label           = np.zeros(2*NoOfLabel_Test  , dtype=int)\n",
    "\n",
    "# 고장데이터(학습용) Label 값 = 1\n",
    "TrainingFold_Label[NoOfLabel_Train:] = 1\n",
    "\n",
    "# 고장데이터(검증용) Label 값 = 1\n",
    "ValidationFold_Label[NoOfLabel_Valid:] = 1\n",
    "\n",
    "# 고장데이터(평가용) Label 값 = 1\n",
    "Test_Label[NoOfLabel_Test:] = 1\n",
    "\n",
    "TrainingFold_Label   = pd.Series(TrainingFold_Label) #1차원 형식을 판다스로 변환 해줄 때 series사용 \n",
    "ValidationFold_Label = pd.Series(ValidationFold_Label)\n",
    "Test_Label           = pd.Series(Test_Label)\n",
    "\n",
    "#TrainingFold_Label\n",
    "ValidationFold_Label"
   ]
  },
  {
   "cell_type": "markdown",
   "metadata": {},
   "source": [
    "#### (2) ANN 레이블 (One-hot encoding) - 정상: [1, 0] // 고장: [0, 1]"
   ]
  },
  {
   "cell_type": "code",
   "execution_count": 12,
   "metadata": {
    "scrolled": true
   },
   "outputs": [
    {
     "data": {
      "text/html": [
       "<div>\n",
       "<style scoped>\n",
       "    .dataframe tbody tr th:only-of-type {\n",
       "        vertical-align: middle;\n",
       "    }\n",
       "\n",
       "    .dataframe tbody tr th {\n",
       "        vertical-align: top;\n",
       "    }\n",
       "\n",
       "    .dataframe thead th {\n",
       "        text-align: right;\n",
       "    }\n",
       "</style>\n",
       "<table border=\"1\" class=\"dataframe\">\n",
       "  <thead>\n",
       "    <tr style=\"text-align: right;\">\n",
       "      <th></th>\n",
       "      <th>0</th>\n",
       "      <th>1</th>\n",
       "    </tr>\n",
       "  </thead>\n",
       "  <tbody>\n",
       "    <tr>\n",
       "      <th>0</th>\n",
       "      <td>1</td>\n",
       "      <td>0</td>\n",
       "    </tr>\n",
       "    <tr>\n",
       "      <th>1</th>\n",
       "      <td>1</td>\n",
       "      <td>0</td>\n",
       "    </tr>\n",
       "    <tr>\n",
       "      <th>2</th>\n",
       "      <td>1</td>\n",
       "      <td>0</td>\n",
       "    </tr>\n",
       "    <tr>\n",
       "      <th>3</th>\n",
       "      <td>1</td>\n",
       "      <td>0</td>\n",
       "    </tr>\n",
       "    <tr>\n",
       "      <th>4</th>\n",
       "      <td>1</td>\n",
       "      <td>0</td>\n",
       "    </tr>\n",
       "    <tr>\n",
       "      <th>5</th>\n",
       "      <td>1</td>\n",
       "      <td>0</td>\n",
       "    </tr>\n",
       "    <tr>\n",
       "      <th>6</th>\n",
       "      <td>1</td>\n",
       "      <td>0</td>\n",
       "    </tr>\n",
       "    <tr>\n",
       "      <th>7</th>\n",
       "      <td>1</td>\n",
       "      <td>0</td>\n",
       "    </tr>\n",
       "    <tr>\n",
       "      <th>8</th>\n",
       "      <td>1</td>\n",
       "      <td>0</td>\n",
       "    </tr>\n",
       "    <tr>\n",
       "      <th>9</th>\n",
       "      <td>1</td>\n",
       "      <td>0</td>\n",
       "    </tr>\n",
       "    <tr>\n",
       "      <th>10</th>\n",
       "      <td>1</td>\n",
       "      <td>0</td>\n",
       "    </tr>\n",
       "    <tr>\n",
       "      <th>11</th>\n",
       "      <td>1</td>\n",
       "      <td>0</td>\n",
       "    </tr>\n",
       "    <tr>\n",
       "      <th>12</th>\n",
       "      <td>1</td>\n",
       "      <td>0</td>\n",
       "    </tr>\n",
       "    <tr>\n",
       "      <th>13</th>\n",
       "      <td>1</td>\n",
       "      <td>0</td>\n",
       "    </tr>\n",
       "    <tr>\n",
       "      <th>14</th>\n",
       "      <td>1</td>\n",
       "      <td>0</td>\n",
       "    </tr>\n",
       "    <tr>\n",
       "      <th>15</th>\n",
       "      <td>1</td>\n",
       "      <td>0</td>\n",
       "    </tr>\n",
       "    <tr>\n",
       "      <th>16</th>\n",
       "      <td>1</td>\n",
       "      <td>0</td>\n",
       "    </tr>\n",
       "    <tr>\n",
       "      <th>17</th>\n",
       "      <td>1</td>\n",
       "      <td>0</td>\n",
       "    </tr>\n",
       "    <tr>\n",
       "      <th>18</th>\n",
       "      <td>1</td>\n",
       "      <td>0</td>\n",
       "    </tr>\n",
       "    <tr>\n",
       "      <th>19</th>\n",
       "      <td>1</td>\n",
       "      <td>0</td>\n",
       "    </tr>\n",
       "    <tr>\n",
       "      <th>20</th>\n",
       "      <td>0</td>\n",
       "      <td>1</td>\n",
       "    </tr>\n",
       "    <tr>\n",
       "      <th>21</th>\n",
       "      <td>0</td>\n",
       "      <td>1</td>\n",
       "    </tr>\n",
       "    <tr>\n",
       "      <th>22</th>\n",
       "      <td>0</td>\n",
       "      <td>1</td>\n",
       "    </tr>\n",
       "    <tr>\n",
       "      <th>23</th>\n",
       "      <td>0</td>\n",
       "      <td>1</td>\n",
       "    </tr>\n",
       "    <tr>\n",
       "      <th>24</th>\n",
       "      <td>0</td>\n",
       "      <td>1</td>\n",
       "    </tr>\n",
       "    <tr>\n",
       "      <th>25</th>\n",
       "      <td>0</td>\n",
       "      <td>1</td>\n",
       "    </tr>\n",
       "    <tr>\n",
       "      <th>26</th>\n",
       "      <td>0</td>\n",
       "      <td>1</td>\n",
       "    </tr>\n",
       "    <tr>\n",
       "      <th>27</th>\n",
       "      <td>0</td>\n",
       "      <td>1</td>\n",
       "    </tr>\n",
       "    <tr>\n",
       "      <th>28</th>\n",
       "      <td>0</td>\n",
       "      <td>1</td>\n",
       "    </tr>\n",
       "    <tr>\n",
       "      <th>29</th>\n",
       "      <td>0</td>\n",
       "      <td>1</td>\n",
       "    </tr>\n",
       "    <tr>\n",
       "      <th>30</th>\n",
       "      <td>0</td>\n",
       "      <td>1</td>\n",
       "    </tr>\n",
       "    <tr>\n",
       "      <th>31</th>\n",
       "      <td>0</td>\n",
       "      <td>1</td>\n",
       "    </tr>\n",
       "    <tr>\n",
       "      <th>32</th>\n",
       "      <td>0</td>\n",
       "      <td>1</td>\n",
       "    </tr>\n",
       "    <tr>\n",
       "      <th>33</th>\n",
       "      <td>0</td>\n",
       "      <td>1</td>\n",
       "    </tr>\n",
       "    <tr>\n",
       "      <th>34</th>\n",
       "      <td>0</td>\n",
       "      <td>1</td>\n",
       "    </tr>\n",
       "    <tr>\n",
       "      <th>35</th>\n",
       "      <td>0</td>\n",
       "      <td>1</td>\n",
       "    </tr>\n",
       "    <tr>\n",
       "      <th>36</th>\n",
       "      <td>0</td>\n",
       "      <td>1</td>\n",
       "    </tr>\n",
       "    <tr>\n",
       "      <th>37</th>\n",
       "      <td>0</td>\n",
       "      <td>1</td>\n",
       "    </tr>\n",
       "    <tr>\n",
       "      <th>38</th>\n",
       "      <td>0</td>\n",
       "      <td>1</td>\n",
       "    </tr>\n",
       "    <tr>\n",
       "      <th>39</th>\n",
       "      <td>0</td>\n",
       "      <td>1</td>\n",
       "    </tr>\n",
       "  </tbody>\n",
       "</table>\n",
       "</div>"
      ],
      "text/plain": [
       "    0  1\n",
       "0   1  0\n",
       "1   1  0\n",
       "2   1  0\n",
       "3   1  0\n",
       "4   1  0\n",
       "5   1  0\n",
       "6   1  0\n",
       "7   1  0\n",
       "8   1  0\n",
       "9   1  0\n",
       "10  1  0\n",
       "11  1  0\n",
       "12  1  0\n",
       "13  1  0\n",
       "14  1  0\n",
       "15  1  0\n",
       "16  1  0\n",
       "17  1  0\n",
       "18  1  0\n",
       "19  1  0\n",
       "20  0  1\n",
       "21  0  1\n",
       "22  0  1\n",
       "23  0  1\n",
       "24  0  1\n",
       "25  0  1\n",
       "26  0  1\n",
       "27  0  1\n",
       "28  0  1\n",
       "29  0  1\n",
       "30  0  1\n",
       "31  0  1\n",
       "32  0  1\n",
       "33  0  1\n",
       "34  0  1\n",
       "35  0  1\n",
       "36  0  1\n",
       "37  0  1\n",
       "38  0  1\n",
       "39  0  1"
      ]
     },
     "execution_count": 12,
     "metadata": {},
     "output_type": "execute_result"
    }
   ],
   "source": [
    "TrainingFold_Label_forANN   = np.zeros((NoOfLabel_Train*2,2) , dtype=int)\n",
    "ValidationFold_Label_forANN = np.zeros((NoOfLabel_Valid*2,2) , dtype=int)\n",
    "Test_Label_forANN           = np.zeros((NoOfLabel_Test *2,2) , dtype=int)\n",
    "\n",
    "TrainingFold_Label_forANN[:NoOfLabel_Train , 0] = 1    # 정상(학습)데이터 레이블 : [1,0]\n",
    "TrainingFold_Label_forANN[NoOfLabel_Train: , 1] = 1    # 고장(학습)데이터 레이블 : [0,1]\n",
    "\n",
    "ValidationFold_Label_forANN[:NoOfLabel_Valid , 0] = 1  # 정상(검증)데이터 레이블 : [1,0]\n",
    "ValidationFold_Label_forANN[NoOfLabel_Valid: , 1] = 1  # 고장(검증)데이터 레이블 : [0,1]\n",
    "\n",
    "Test_Label_forANN[:NoOfLabel_Test , 0] = 1\n",
    "Test_Label_forANN[NoOfLabel_Test :, 1] = 1\n",
    "\n",
    "TrainingFold_Label_forANN   = pd.DataFrame(TrainingFold_Label_forANN)\n",
    "ValidationFold_Label_forANN = pd.DataFrame(ValidationFold_Label_forANN)\n",
    "Test_Label_forANN           = pd.DataFrame(Test_Label_forANN)\n",
    "\n",
    "Test_Label_forANN\n",
    "#ValidationFold_Label_forANN"
   ]
  },
  {
   "cell_type": "markdown",
   "metadata": {},
   "source": [
    "## k-fold 데이터 및 레이블 저장"
   ]
  },
  {
   "cell_type": "markdown",
   "metadata": {},
   "source": [
    "k-fold 데이터 (Training & Validation) 저장"
   ]
  },
  {
   "cell_type": "code",
   "execution_count": 13,
   "metadata": {
    "scrolled": true
   },
   "outputs": [],
   "source": [
    "for i in range(Fold):\n",
    "    \n",
    "    path1 = './K_FoldData/Training_Fold%d'  %(i+1)\n",
    "    path2 = './K_FoldData/Validation_Fold%d'%(i+1)\n",
    "    \n",
    "    c1 = 'Training_Fold%d.to_csv(  path1, sep = \",\", header = None, index = None)'%(i+1)\n",
    "    c2 = 'Validation_Fold%d.to_csv(path2, sep = \",\", header = None, index = None)'%(i+1)\n",
    "    exec(c1)\n",
    "    exec(c2)\n",
    "    \n",
    "Test_Data.to_csv('./K_FoldData/Test_Data', sep = \",\", header = None, index = None)"
   ]
  },
  {
   "cell_type": "markdown",
   "metadata": {},
   "source": [
    "레이블 (Training & Validation) 저장"
   ]
  },
  {
   "cell_type": "code",
   "execution_count": 14,
   "metadata": {},
   "outputs": [],
   "source": [
    "TrainingFold_Label.to_csv(  './K_FoldData/TrainingFold_Label', header = None, index = None)\n",
    "ValidationFold_Label.to_csv('./K_FoldData/ValidationFold_Label', header = None, index = None)\n",
    "Test_Label.to_csv(          './K_FoldData/Test_Label', header = None, index = None)\n",
    "\n",
    "TrainingFold_Label_forANN.to_csv(  './K_FoldData/TrainingFold_Label_forANN', sep = \",\", header = None, index = None)\n",
    "ValidationFold_Label_forANN.to_csv('./K_FoldData/ValidationFold_Label_forANN', sep = \",\", header = None, index = None)\n",
    "Test_Label_forANN.to_csv(          './K_FoldData/Test_Label_forANN', sep = \",\", header = None, index = None) #폴드별로 달라지지 X"
   ]
  },
  {
   "cell_type": "markdown",
   "metadata": {},
   "source": [
    "## 최종 AI모델 학습용 전체 데이터 및 레이블 저장"
   ]
  },
  {
   "cell_type": "markdown",
   "metadata": {},
   "source": [
    "전체 데이터 저장"
   ]
  },
  {
   "cell_type": "code",
   "execution_count": 15,
   "metadata": {},
   "outputs": [],
   "source": [
    "Normal_Training_All   = Train_Valid_Data.iloc[:,:FeatNo]\n",
    "Abnormal_Training_All = Train_Valid_Data.iloc[:,FeatNo:]"
   ]
  },
  {
   "cell_type": "code",
   "execution_count": 16,
   "metadata": {},
   "outputs": [
    {
     "data": {
      "text/plain": [
       "((160, 30), (160, 30))"
      ]
     },
     "execution_count": 16,
     "metadata": {},
     "output_type": "execute_result"
    }
   ],
   "source": [
    "Normal_Training_All.shape, Abnormal_Training_All.shape"
   ]
  },
  {
   "cell_type": "code",
   "execution_count": 17,
   "metadata": {},
   "outputs": [
    {
     "data": {
      "text/plain": [
       "30"
      ]
     },
     "execution_count": 17,
     "metadata": {},
     "output_type": "execute_result"
    }
   ],
   "source": [
    "FeatNo"
   ]
  },
  {
   "cell_type": "code",
   "execution_count": 18,
   "metadata": {},
   "outputs": [
    {
     "data": {
      "text/plain": [
       "(320, 30)"
      ]
     },
     "execution_count": 18,
     "metadata": {},
     "output_type": "execute_result"
    }
   ],
   "source": [
    "Training_All = pd.DataFrame(np.concatenate([Normal_Training_All, Abnormal_Training_All], axis = 0))\n",
    "Training_All.shape"
   ]
  },
  {
   "cell_type": "markdown",
   "metadata": {},
   "source": [
    "#### 전체 데이터 레이블 (1) SVM 및 KNN 맞춤형 (Label encoding)"
   ]
  },
  {
   "cell_type": "code",
   "execution_count": 19,
   "metadata": {},
   "outputs": [
    {
     "data": {
      "text/plain": [
       "(320,)"
      ]
     },
     "execution_count": 19,
     "metadata": {},
     "output_type": "execute_result"
    }
   ],
   "source": [
    "Training_All_Label = np.zeros(NoOfTrainData*2)\n",
    "\n",
    "Training_All_Label[NoOfTrainData:] = 1    # 고장데이터(학습용) Label 값 = 1\n",
    "Training_All_Label = pd.Series(Training_All_Label)\n",
    "\n",
    "Training_All_Label.shape"
   ]
  },
  {
   "cell_type": "markdown",
   "metadata": {},
   "source": [
    "#### 전체 데이터 레이블 (2) ANN 맞춤형 (One-hot encoding)"
   ]
  },
  {
   "cell_type": "code",
   "execution_count": 20,
   "metadata": {},
   "outputs": [
    {
     "data": {
      "text/plain": [
       "(320, 2)"
      ]
     },
     "execution_count": 20,
     "metadata": {},
     "output_type": "execute_result"
    }
   ],
   "source": [
    "Training_All_Label_forANN = np.zeros((NoOfTrainData*2,2))\n",
    "\n",
    "Training_All_Label_forANN[:NoOfTrainData , 0] = 1\n",
    "Training_All_Label_forANN[NoOfTrainData: , 1] = 1\n",
    "Training_All_Label_forANN = pd.DataFrame(Training_All_Label_forANN)\n",
    "\n",
    "Training_All_Label_forANN.shape"
   ]
  },
  {
   "cell_type": "markdown",
   "metadata": {},
   "source": [
    "전체 데이터 & 레이블 저장"
   ]
  },
  {
   "cell_type": "code",
   "execution_count": 21,
   "metadata": {},
   "outputs": [],
   "source": [
    "Training_All.to_csv('./K_FoldData/Training_All', sep = \",\", header = None, index = None)\n",
    "Training_All_Label.to_csv('./K_FoldData/Training_All_Label', sep = \",\", header = None, index = None)\n",
    "Training_All_Label_forANN.to_csv('./K_FoldData/Training_All_Label_forANN', sep = \",\", header = None, index = None)"
   ]
  },
  {
   "cell_type": "code",
   "execution_count": null,
   "metadata": {},
   "outputs": [],
   "source": []
  }
 ],
 "metadata": {
  "kernelspec": {
   "display_name": "Python 3",
   "language": "python",
   "name": "python3"
  },
  "language_info": {
   "codemirror_mode": {
    "name": "ipython",
    "version": 3
   },
   "file_extension": ".py",
   "mimetype": "text/x-python",
   "name": "python",
   "nbconvert_exporter": "python",
   "pygments_lexer": "ipython3",
   "version": "3.8.8"
  }
 },
 "nbformat": 4,
 "nbformat_minor": 2
}
