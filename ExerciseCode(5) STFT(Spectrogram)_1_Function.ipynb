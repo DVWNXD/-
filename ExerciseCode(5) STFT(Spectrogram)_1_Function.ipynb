{
 "cells": [
  {
   "cell_type": "code",
   "execution_count": null,
   "metadata": {},
   "outputs": [],
   "source": [
    "%matplotlib"
   ]
  },
  {
   "cell_type": "code",
   "execution_count": null,
   "metadata": {},
   "outputs": [],
   "source": [
    "%matplotlib inline"
   ]
  },
  {
   "cell_type": "markdown",
   "metadata": {},
   "source": [
    "## 라이브러리 import "
   ]
  },
  {
   "cell_type": "code",
   "execution_count": null,
   "metadata": {},
   "outputs": [],
   "source": [
    "import pandas as pd\n",
    "import numpy as np\n",
    "import matplotlib.pyplot as plt\n",
    "from scipy import signal\n",
    "import math"
   ]
  },
  {
   "cell_type": "markdown",
   "metadata": {},
   "source": [
    "## 주파수 f, 각주파수 w 정의"
   ]
  },
  {
   "cell_type": "code",
   "execution_count": null,
   "metadata": {},
   "outputs": [],
   "source": [
    "f1 = 2  # 주파수 입력\n",
    "f2 = 8\n",
    "f3 = 4\n",
    "f4 = 6\n",
    "f5 = 10\n",
    "\n",
    "w1 = 2*np.pi*f1  # w = 2pi*f\n",
    "w2 = 2*np.pi*f2\n",
    "w3 = 2*np.pi*f3\n",
    "w4 = 2*np.pi*f4\n",
    "w5 = 2*np.pi*f5"
   ]
  },
  {
   "cell_type": "code",
   "execution_count": null,
   "metadata": {},
   "outputs": [],
   "source": [
    "print(\"f1 =\",f1, \"/ f2 =\",f2, \"/ f3 =\",f3, \"/ f4 =\",f4, \"/ f5 =\",f5 )\n",
    "print(\"w1 =\",w1, \"/ w2 =\",w2, \"/ w3 =\",w3, \"/ w4 =\",w4, \"/ w5 =\",w5 )"
   ]
  },
  {
   "cell_type": "markdown",
   "metadata": {},
   "source": [
    "## 샘플링 주파수, 이산함수 정의 및 그래프"
   ]
  },
  {
   "cell_type": "code",
   "execution_count": null,
   "metadata": {},
   "outputs": [],
   "source": [
    "t = np.arange(0,10,0.005)\n",
    "x = np.concatenate([np.sin(w1*t), np.sin(w2*t), np.sin(w3*t), np.sin(w4*t), np.sin(w5*t)])\n",
    "\n",
    "t_total = np.arange(0, 50, 0.005)\n",
    "\n",
    "t.shape, t_total.shape, x.shape"
   ]
  },
  {
   "cell_type": "code",
   "execution_count": null,
   "metadata": {},
   "outputs": [],
   "source": [
    "plt.figure(figsize=(15,6))\n",
    "plt.plot(t_total, x, 'r-', lw = 1)\n",
    "plt.xlabel('t',fontsize=12)\n",
    "plt.ylabel('x',fontsize=12)\n",
    "#plt.xlim(0,1)\n",
    "plt.show()"
   ]
  },
  {
   "cell_type": "markdown",
   "metadata": {},
   "source": [
    "## STFT 실행 (Spectrogram 생성)"
   ]
  },
  {
   "cell_type": "code",
   "execution_count": null,
   "metadata": {},
   "outputs": [],
   "source": [
    "# 파라미터\n",
    "Fs        = 1/0.005   # 샘플링 주파수\n",
    "\n",
    "f,t,Sxx = signal.spectrogram(x, Fs, nperseg = 500, noverlap = 500//1.5)\n",
    "f.shape, t.shape, Sxx.shape"
   ]
  },
  {
   "cell_type": "markdown",
   "metadata": {},
   "source": [
    "## STFT 그래프 (Frequency & Time domain)"
   ]
  },
  {
   "cell_type": "code",
   "execution_count": null,
   "metadata": {},
   "outputs": [],
   "source": [
    "plt.figure(figsize=(9,6))\n",
    "\n",
    "plt.pcolormesh(t, f, Sxx, vmax = np.max(Sxx), cmap = 'hot', alpha = 0.7)\n",
    "plt.ylim((0, 12))\n",
    "plt.xlabel('Time(s)', fontsize=12)\n",
    "plt.ylabel('Frequency(Hz)', fontsize=12)\n",
    "plt.title('STFT Result', fontsize=20)\n",
    "plt.colorbar()\n",
    "\n",
    "plt.show()"
   ]
  },
  {
   "cell_type": "code",
   "execution_count": null,
   "metadata": {},
   "outputs": [],
   "source": []
  }
 ],
 "metadata": {
  "kernelspec": {
   "display_name": "Python 3",
   "language": "python",
   "name": "python3"
  },
  "language_info": {
   "codemirror_mode": {
    "name": "ipython",
    "version": 3
   },
   "file_extension": ".py",
   "mimetype": "text/x-python",
   "name": "python",
   "nbconvert_exporter": "python",
   "pygments_lexer": "ipython3",
   "version": "3.8.8"
  }
 },
 "nbformat": 4,
 "nbformat_minor": 4
}
