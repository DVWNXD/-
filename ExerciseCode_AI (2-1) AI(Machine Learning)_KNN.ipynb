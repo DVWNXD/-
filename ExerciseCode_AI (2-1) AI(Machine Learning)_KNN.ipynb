{
 "cells": [
  {
   "cell_type": "code",
   "execution_count": null,
   "metadata": {},
   "outputs": [],
   "source": [
    "%matplotlib                    # Pyplot 그래프 새창에서 열기 옵션"
   ]
  },
  {
   "cell_type": "code",
   "execution_count": null,
   "metadata": {},
   "outputs": [],
   "source": [
    "%matplotlib inline             # Pyplot 그래프 새창에서 열기 '취소' 옵션"
   ]
  },
  {
   "cell_type": "code",
   "execution_count": null,
   "metadata": {},
   "outputs": [],
   "source": [
    "pd.set_option('display.max_rows',    100)      # DataFrame 데이터 확인 시 최대 표시 행 수\n",
    "pd.set_option('display.max_columns', 100)      # DataFrame 데이터 확인 시 최대 표시 열 수"
   ]
  },
  {
   "cell_type": "markdown",
   "metadata": {},
   "source": [
    "## 라이브러리 import"
   ]
  },
  {
   "cell_type": "code",
   "execution_count": 1,
   "metadata": {},
   "outputs": [],
   "source": [
    "import pandas as pd\n",
    "import numpy as np\n",
    "import sklearn as sk\n",
    "import pickle\n",
    "from sklearn.neighbors import KNeighborsClassifier\n",
    "import joblib"
   ]
  },
  {
   "cell_type": "markdown",
   "metadata": {},
   "source": [
    "## 데이터 불러오기"
   ]
  },
  {
   "cell_type": "code",
   "execution_count": 4,
   "metadata": {},
   "outputs": [
    {
     "name": "stdout",
     "output_type": "stream",
     "text": [
      "(256, 30)\n",
      "(64, 30)\n",
      "(256,)\n",
      "(64,)\n",
      "(320, 30)\n"
     ]
    }
   ],
   "source": [
    "Fold = 5\n",
    "\n",
    "# k-fold 학습/검증 데이터\n",
    "for i in range(Fold):\n",
    "    \n",
    "    path1 = './K_FoldData/Training_Fold%d'%(i+1)\n",
    "    path2 = './K_FoldData/Validation_Fold%d'%(i+1)\n",
    "    c1 = 'Training_Fold%d   = np.array(pd.read_csv(path1, sep=\",\", header=None))'%(i+1)\n",
    "    c2 = 'Validation_Fold%d = np.array(pd.read_csv(path2, sep=\",\", header=None))'%(i+1)\n",
    "    exec(c1)\n",
    "    exec(c2)\n",
    "\n",
    "# K-fold 학습/검증 레이블\n",
    "TrainingFold_Label   = np.array(pd.read_csv('./K_FoldData/TrainingFold_Label'  , sep=\",\", header=None).T.squeeze())\n",
    "ValidationFold_Label = np.array(pd.read_csv('./K_FoldData/ValidationFold_Label', sep=\",\", header=None).T.squeeze())\n",
    "    \n",
    "    \n",
    "# 전체 학습용 데이터\n",
    "Training_All       = np.array(pd.read_csv('./K_FoldData/Training_All', sep = \",\", header = None))\n",
    "Training_All_Label = np.array(pd.read_csv('./K_FoldData/Training_All_Label', sep = \",\", header = None).T.squeeze())\n",
    "\n",
    "print(Training_Fold1.shape)\n",
    "print(Validation_Fold1.shape)\n",
    "print(TrainingFold_Label.shape)\n",
    "print(ValidationFold_Label.shape)\n",
    "print(Training_All.shape)"
   ]
  },
  {
   "cell_type": "markdown",
   "metadata": {},
   "source": [
    "## KNN(K-Nearest-Neighbor) 기반 모델링 및 성능평가"
   ]
  },
  {
   "cell_type": "code",
   "execution_count": 5,
   "metadata": {},
   "outputs": [
    {
     "name": "stdout",
     "output_type": "stream",
     "text": [
      "[Result of K-fold Cross Validation] \n",
      "\n",
      " Fold 1: 93.75% \n",
      " Fold 2: 98.44% \n",
      " Fold 3: 100.00% \n",
      " Fold 4: 100.00% \n",
      " Fold 5: 100.00%\n",
      "\n",
      " Average accuracy: 98.44%\n"
     ]
    }
   ],
   "source": [
    "Add    = 0\n",
    "Divide = 0\n",
    "\n",
    "for i in range(Fold):\n",
    "    c1 = 'Training_CurrentFold = Training_Fold%d'%(i+1)\n",
    "    exec(c1)\n",
    "    c2 = 'Validation_CurrentFold = Validation_Fold%d'%(i+1)\n",
    "    exec(c2)\n",
    "\n",
    "    knnModel_CurrentFold = KNeighborsClassifier(n_neighbors = 13).fit(Training_CurrentFold , TrainingFold_Label)\n",
    "    \n",
    "    c3 = 'knnscore_Fold%d = knnModel_CurrentFold.score(Validation_CurrentFold , ValidationFold_Label)'%(i+1)\n",
    "    exec(c3)\n",
    "        \n",
    "    Add += knnModel_CurrentFold.score(Validation_CurrentFold, ValidationFold_Label)\n",
    "    Divide += 1\n",
    "    \n",
    "Avg_accuracy = Add/Divide\n",
    "\n",
    "print('[Result of K-fold Cross Validation] \\n')\n",
    "print(' Fold 1: {:.2f}% \\n Fold 2: {:.2f}% \\n Fold 3: {:.2f}% \\n Fold 4: {:.2f}% \\n Fold 5: {:.2f}%'.\n",
    "        format(knnscore_Fold1*100, knnscore_Fold2*100, knnscore_Fold3*100, knnscore_Fold4*100, knnscore_Fold5*100))\n",
    "print('\\n Average accuracy: {:.2f}%'.format(Avg_accuracy*100))"
   ]
  },
  {
   "cell_type": "markdown",
   "metadata": {},
   "source": [
    "## KNN model 모델 생성(전체 데이터) 및 저장"
   ]
  },
  {
   "cell_type": "markdown",
   "metadata": {},
   "source": [
    "Pickle 패키지(라이브러리)를 이용한 머신러닝 모델 저장"
   ]
  },
  {
   "cell_type": "code",
   "execution_count": 7,
   "metadata": {},
   "outputs": [
    {
     "data": {
      "text/plain": [
       "['./MLmodels/KNN_model.plk']"
      ]
     },
     "execution_count": 7,
     "metadata": {},
     "output_type": "execute_result"
    }
   ],
   "source": [
    "KNN_model = KNeighborsClassifier(n_neighbors = 13).fit(Training_All , Training_All_Label)\n",
    "\n",
    "joblib.dump(KNN_model, './MLmodels/KNN_model.plk')"
   ]
  },
  {
   "cell_type": "markdown",
   "metadata": {},
   "source": [
    "## KNN model 불러와서 진단"
   ]
  },
  {
   "cell_type": "markdown",
   "metadata": {},
   "source": [
    "저장된 KNN 모델 불러오기"
   ]
  },
  {
   "cell_type": "code",
   "execution_count": 8,
   "metadata": {},
   "outputs": [],
   "source": [
    "KNN_model_Final = joblib.load('./MLmodels/KNN_model.plk')"
   ]
  },
  {
   "cell_type": "markdown",
   "metadata": {},
   "source": [
    "평가 데이터를 이용해 진단 정확도 평가"
   ]
  },
  {
   "cell_type": "code",
   "execution_count": 9,
   "metadata": {},
   "outputs": [],
   "source": [
    "Test_Data  = np.array(pd.read_csv('./K_FoldData/Test_Data' , sep=\",\", header=None))\n",
    "Test_Label = np.array(pd.read_csv('./K_FoldData/Test_Label', sep=\",\", header=None))"
   ]
  },
  {
   "cell_type": "code",
   "execution_count": 10,
   "metadata": {
    "scrolled": true
   },
   "outputs": [
    {
     "name": "stdout",
     "output_type": "stream",
     "text": [
      "[Performance of KNN model] \n",
      "\n",
      "Test Score : 97.50%\n"
     ]
    }
   ],
   "source": [
    "Test_Score = KNN_model_Final.score(Test_Data, Test_Label)\n",
    "print('[Performance of KNN model] \\n')\n",
    "print('Test Score : {:.2f}%'.format(Test_Score*100))"
   ]
  },
  {
   "cell_type": "code",
   "execution_count": 12,
   "metadata": {},
   "outputs": [
    {
     "data": {
      "text/plain": [
       "0     0.0\n",
       "1     0.0\n",
       "2     0.0\n",
       "3     0.0\n",
       "4     0.0\n",
       "5     0.0\n",
       "6     0.0\n",
       "7     0.0\n",
       "8     0.0\n",
       "9     0.0\n",
       "10    0.0\n",
       "11    0.0\n",
       "12    0.0\n",
       "13    0.0\n",
       "14    0.0\n",
       "15    0.0\n",
       "16    0.0\n",
       "17    0.0\n",
       "18    0.0\n",
       "19    0.0\n",
       "20    1.0\n",
       "21    1.0\n",
       "22    1.0\n",
       "23    1.0\n",
       "24    1.0\n",
       "25    1.0\n",
       "26    1.0\n",
       "27    1.0\n",
       "28    0.0\n",
       "29    1.0\n",
       "30    1.0\n",
       "31    1.0\n",
       "32    1.0\n",
       "33    1.0\n",
       "34    1.0\n",
       "35    1.0\n",
       "36    1.0\n",
       "37    1.0\n",
       "38    1.0\n",
       "39    1.0\n",
       "dtype: float64"
      ]
     },
     "execution_count": 12,
     "metadata": {},
     "output_type": "execute_result"
    }
   ],
   "source": [
    "Test_Predict = KNN_model_Final.predict(Test_Data)\n",
    "pd.Series(Test_Predict) #잘못 판단한거 체크 가능"
   ]
  },
  {
   "cell_type": "code",
   "execution_count": null,
   "metadata": {},
   "outputs": [],
   "source": []
  }
 ],
 "metadata": {
  "kernelspec": {
   "display_name": "Python 3",
   "language": "python",
   "name": "python3"
  },
  "language_info": {
   "codemirror_mode": {
    "name": "ipython",
    "version": 3
   },
   "file_extension": ".py",
   "mimetype": "text/x-python",
   "name": "python",
   "nbconvert_exporter": "python",
   "pygments_lexer": "ipython3",
   "version": "3.8.8"
  }
 },
 "nbformat": 4,
 "nbformat_minor": 2
}
