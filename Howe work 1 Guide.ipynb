{
 "cells": [
  {
   "cell_type": "markdown",
   "metadata": {},
   "source": [
    "### ****** 필독 !! 실습과제 주의사항 ******"
   ]
  },
  {
   "cell_type": "markdown",
   "metadata": {},
   "source": [
    "- 각자의 \"수강생 번호\" 확인 (아이캠퍼스 공지) \n",
    "- 제출하는 실습과제 파일에 \"수강생 번호\"를 기준으로 작성 (이름, 학번 등 작성X)\n",
    "- 각 실습과제에 대한 구체적인 파일 이름은 매번 개별 안내 \n",
    "  (수강생 번호 123번 학생 과제파일 예시 : 'ST123_HW2_1' )\n",
    "  \n",
    "- 과제 파일이름 양식 지키지 않을 시 감점!"
   ]
  },
  {
   "cell_type": "markdown",
   "metadata": {},
   "source": [
    "# [실습 과제 1]"
   ]
  },
  {
   "cell_type": "markdown",
   "metadata": {},
   "source": [
    "## 1. ExampleData의 0.05초 이상, 0.1초 미만에 대하여 '센서 데이터(시간열 제외)'만 추출하기\n",
    "#### >>>>>> 추출된 데이터를 파일로 저장 후 제출 (확장자명 입력 X)\n",
    "#### >>>>>> 데이터 파일 이름 : ST(수강생 번호)_HW1_1  (예시 : 'ST000_HW1_1'  //  'ST00_HW1_1'  //  'ST0_HW1_1')\n",
    "#### >>>>>> 데이터 파일 이름 중 'ST' , 'HW' 등 영어는 모두 대문자"
   ]
  },
  {
   "cell_type": "code",
   "execution_count": null,
   "metadata": {},
   "outputs": [],
   "source": [
    "import pandas as pd\n",
    "import numpy as np\n",
    "import matplotlib.pyplot as plt"
   ]
  },
  {
   "cell_type": "code",
   "execution_count": null,
   "metadata": {},
   "outputs": [],
   "source": [
    "ExampleData = pd.read_csv('./ExampleData', sep=',', header=None) #header는 위에 행 이름 없다 아니면 첫 열이 나옴\n",
    "ExampleData"
   ]
  },
  {
   "cell_type": "code",
   "execution_count": null,
   "metadata": {},
   "outputs": [],
   "source": [
    "SensorDataOnly = ExampleData.iloc[:,1:]\n",
    "SensorDataOnly"
   ]
  },
  {
   "cell_type": "code",
   "execution_count": null,
   "metadata": {},
   "outputs": [],
   "source": [
    "StartPoint = np.where(ExampleData.iloc[:,0].values == 0.05)[0][0]\n",
    "EndPoint   = np.where(ExampleData.iloc[:,0].values == 0.1)[0][0]\n",
    "\n",
    "StartPoint, EndPoint"
   ]
  },
  {
   "cell_type": "code",
   "execution_count": null,
   "metadata": {},
   "outputs": [],
   "source": [
    "NewData = ExampleData.iloc[StartPoint:EndPoint, 1:]\n",
    "NewData"
   ]
  },
  {
   "cell_type": "code",
   "execution_count": null,
   "metadata": {},
   "outputs": [],
   "source": [
    "path = './Subfolder/ST41_HW1_1'\n",
    "NewData.to_csv(path , sep=',' , header=None , index=None)"
   ]
  },
  {
   "cell_type": "code",
   "execution_count": null,
   "metadata": {},
   "outputs": [],
   "source": []
  },
  {
   "cell_type": "code",
   "execution_count": null,
   "metadata": {},
   "outputs": [],
   "source": []
  },
  {
   "cell_type": "markdown",
   "metadata": {},
   "source": [
    "## 2. 위의 0.05~0.1초 센서 데이터에 대하여 대표값 6개 추출하기\n",
    "#### >>>>>> 대표값 6개 (Max, Min, RMS, Var, Std, Mean) 순서 준수하여 추출, 데이터 파일로 저장 후 제출 (확장자명 입력 X)\n",
    "#### >>>>>> 데이터 파일 이름 : ST(수강생 번호)_HW1_2  (예시 : 'ST000_HW1_2' // 'ST00_HW1_2' // 'ST0_HW1_2')\n",
    "#### >>>>>> 데이터 파일 이름 중 'ST' , 'HW' 등 영어는 모두 대문자"
   ]
  },
  {
   "cell_type": "code",
   "execution_count": null,
   "metadata": {},
   "outputs": [],
   "source": [
    "def rms(a): #rms 함수 정의\n",
    "    return np.sqrt(np.mean(a**2))"
   ]
  },
  {
   "cell_type": "code",
   "execution_count": null,
   "metadata": {},
   "outputs": [],
   "source": [
    "# 예시: 가속도 데이터 대표값\n",
    "\n",
    "Max  = np.max(NewData.iloc[:,1])\n",
    "Min  = np.min(NewData.iloc[:,1])\n",
    "RMS  =    rms(NewData.iloc[:,1])\n",
    "Var  = np.var(NewData.iloc[:,1])\n",
    "Std  = np.std(NewData.iloc[:,1])\n",
    "Mean = np.mean(NewData.iloc[:,1])\n",
    "\n",
    "Rep_values = np.array([Max, Min, RMS, Var, Std, Mean])\n",
    "Rep_values"
   ]
  },
  {
   "cell_type": "code",
   "execution_count": null,
   "metadata": {},
   "outputs": [],
   "source": [
    "Rep_Values = np.zeros((6 , NewData.shape[1]))\n",
    "for i in range(NewData.shape[1]):\n",
    "    \n",
    "    Rep_Values[0,i] = np.max(NewData.iloc[:,i])\n",
    "    Rep_Values[1,i] = np.min(NewData.iloc[:,i])\n",
    "    Rep_Values[2,i] =    rms(NewData.iloc[:,i])\n",
    "    Rep_Values[3,i] = np.var(NewData.iloc[:,i])\n",
    "    Rep_Values[4,i] = np.std(NewData.iloc[:,i])\n",
    "    Rep_Values[5,i] = np.mean(NewData.iloc[:,i])\n",
    "    \n",
    "Rep_Values"
   ]
  },
  {
   "cell_type": "code",
   "execution_count": null,
   "metadata": {},
   "outputs": [],
   "source": [
    "    \n",
    "Rep_Values"
   ]
  },
  {
   "cell_type": "code",
   "execution_count": null,
   "metadata": {},
   "outputs": [],
   "source": [
    "df_3 = pd.DataFrame(Rep_Values)\n",
    "df_3"
   ]
  },
  {
   "cell_type": "code",
   "execution_count": null,
   "metadata": {},
   "outputs": [],
   "source": [
    "path = './Subfolder/ST41_HW1_2'\n",
    "df_3.to_csv(path , sep=',' , header=None , index=None)"
   ]
  },
  {
   "cell_type": "code",
   "execution_count": null,
   "metadata": {},
   "outputs": [],
   "source": []
  },
  {
   "cell_type": "code",
   "execution_count": null,
   "metadata": {},
   "outputs": [],
   "source": []
  },
  {
   "cell_type": "markdown",
   "metadata": {},
   "source": [
    "## ***** 1번, 2번 데이터 파일 함께 zip파일로 압축하여 제출\n",
    "### >>> 압축파일 이름 ST(수강생 번호)_HW1 (예시 : 'ST000_HW1.zip'  //  'ST00_HW1'  //  'ST0_HW1)"
   ]
  },
  {
   "cell_type": "code",
   "execution_count": null,
   "metadata": {},
   "outputs": [],
   "source": []
  }
 ],
 "metadata": {
  "kernelspec": {
   "display_name": "Python 3",
   "language": "python",
   "name": "python3"
  },
  "language_info": {
   "codemirror_mode": {
    "name": "ipython",
    "version": 3
   },
   "file_extension": ".py",
   "mimetype": "text/x-python",
   "name": "python",
   "nbconvert_exporter": "python",
   "pygments_lexer": "ipython3",
   "version": "3.8.8"
  }
 },
 "nbformat": 4,
 "nbformat_minor": 4
}
