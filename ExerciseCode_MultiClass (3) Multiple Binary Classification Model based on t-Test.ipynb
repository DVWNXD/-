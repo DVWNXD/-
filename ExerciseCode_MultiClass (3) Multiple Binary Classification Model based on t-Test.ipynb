{
 "cells": [
  {
   "cell_type": "markdown",
   "metadata": {},
   "source": [
    "## 라이브러리 import"
   ]
  },
  {
   "cell_type": "code",
   "execution_count": 1,
   "metadata": {},
   "outputs": [],
   "source": [
    "import pandas as pd\n",
    "import numpy as np\n",
    "import matplotlib.pyplot as plt\n",
    "import scipy.stats as sp"
   ]
  },
  {
   "cell_type": "markdown",
   "metadata": {},
   "source": [
    "## 1. t-Test 기반 모델1,2 구분성 상위 특징 인덱스 가져오기"
   ]
  },
  {
   "cell_type": "code",
   "execution_count": 2,
   "metadata": {},
   "outputs": [
    {
     "data": {
      "text/plain": [
       "array([180, 170,  83,  81, 178, 189, 261, 187, 184, 183,  73,  91, 174,\n",
       "        93, 173,  97, 101,  84, 179,  90, 177,  28, 108, 103, 160,  99,\n",
       "        94,  74,  13, 176])"
      ]
     },
     "execution_count": 2,
     "metadata": {},
     "output_type": "execute_result"
    }
   ],
   "source": [
    "Rank = 30\n",
    "\n",
    "MC_P_value_Rank_M1 = pd.read_csv('./ProcessedData/MC_P_value_Rank_M1', sep = ',', header=None) # Model 1 : 정상 / 고장 간 구분성상위 특징\n",
    "MC_P_value_Rank_M2 = pd.read_csv('./ProcessedData/MC_P_value_Rank_M2', sep = ',', header=None) # Model 2 : 고장 1 / 2 간 구분성상위 특징\n",
    "\n",
    "# 구분성 상위 일정 개수(Rank) 특징의 인덱스 추출\n",
    "M1_FeatureIndex = np.array(MC_P_value_Rank_M1.iloc[:,0], dtype = int)[:Rank] # Model 1\n",
    "M2_FeatureIndex = np.array(MC_P_value_Rank_M2.iloc[:,0], dtype = int)[:Rank] # Model 2\n",
    "M1_FeatureIndex"
   ]
  },
  {
   "cell_type": "markdown",
   "metadata": {},
   "source": [
    "## 2. 모델 별 데이터 가공 및 분할, 레이블 생성 : 학습, 검증 각각 150, 30개씩"
   ]
  },
  {
   "cell_type": "code",
   "execution_count": 3,
   "metadata": {},
   "outputs": [
    {
     "name": "stdout",
     "output_type": "stream",
     "text": [
      "(270, 180) (270, 180) (270, 180)\n"
     ]
    }
   ],
   "source": [
    "# 추출한 특징 불러오기\n",
    "MC_FeatureData = pd.read_csv('./ProcessedData/MC_FeatureData', sep=',', header=None)\n",
    "\n",
    "# 특징 데이터 정상/고장1/고장2 분리\n",
    "NoOfData = int(MC_FeatureData.shape[1]/3)\n",
    "Normal_FeatureData    = MC_FeatureData.iloc[ : ,            :   NoOfData ]\n",
    "Abnormal1_FeatureData = MC_FeatureData.iloc[ : ,   NoOfData : 2*NoOfData ]\n",
    "Abnormal2_FeatureData = MC_FeatureData.iloc[ : , 2*NoOfData :            ]\n",
    "\n",
    "print(Normal_FeatureData.shape, Abnormal1_FeatureData.shape, Abnormal2_FeatureData.shape)#kfold교차검증 해보는 것도 도움이 될 수 있다."
   ]
  },
  {
   "cell_type": "code",
   "execution_count": 5,
   "metadata": {},
   "outputs": [
    {
     "name": "stdout",
     "output_type": "stream",
     "text": [
      "180\n"
     ]
    }
   ],
   "source": [
    "print(NoOfData)"
   ]
  },
  {
   "cell_type": "code",
   "execution_count": 4,
   "metadata": {},
   "outputs": [
    {
     "name": "stdout",
     "output_type": "stream",
     "text": [
      "Model 1 Train shape(270개 특징 중 30개 사용): (450, 270)\n",
      "Model 2 Train shape(270개 특징 중 30개 사용): (300, 270)\n",
      "Model 1, 2 학습/검증에 사용되는 특징 다름 주의!\n"
     ]
    }
   ],
   "source": [
    "NoOfTrainData = 150\n",
    "NoOfValidData = NoOfData - NoOfTrainData\n",
    "# 학습, 검증용 데이터 분할\n",
    "Train_Normal_FeatureData    = Normal_FeatureData.iloc[:,:NoOfTrainData].T\n",
    "Train_Abnormal1_FeatureData = Abnormal1_FeatureData.iloc[:,:NoOfTrainData].T\n",
    "Train_Abnormal2_FeatureData = Abnormal1_FeatureData.iloc[:,:NoOfTrainData].T # 학습\n",
    "Valid_Normal_FeatureData    = Normal_FeatureData.iloc[:,NoOfTrainData:].T\n",
    "Valid_Abnormal1_FeatureData = Abnormal1_FeatureData.iloc[:,NoOfTrainData:].T\n",
    "Valid_Abnormal2_FeatureData = Abnormal1_FeatureData.iloc[:,NoOfTrainData:].T # 검증\n",
    "\n",
    "M1_Train_AllFeature = pd.concat([Train_Normal_FeatureData,Train_Abnormal1_FeatureData,Train_Abnormal2_FeatureData], axis = 0)\n",
    "M2_Train_AllFeature = pd.concat([Train_Abnormal1_FeatureData,Train_Abnormal2_FeatureData], axis = 0)\n",
    "Valid_AllFeature = pd.concat([Valid_Normal_FeatureData,Valid_Abnormal1_FeatureData,Valid_Abnormal2_FeatureData], axis = 0)\n",
    "\n",
    "print('Model 1 Train shape(270개 특징 중 {}개 사용):'.format(Rank),M1_Train_AllFeature.shape)\n",
    "print('Model 2 Train shape(270개 특징 중 {}개 사용):'.format(Rank),M2_Train_AllFeature.shape)\n",
    "print('Model 1, 2 학습/검증에 사용되는 특징 다름 주의!')"
   ]
  },
  {
   "cell_type": "code",
   "execution_count": 6,
   "metadata": {},
   "outputs": [
    {
     "name": "stdout",
     "output_type": "stream",
     "text": [
      "Model 1 Training label: (450,) (450, 2)\n",
      "Model 2 Training label: (300,) (300, 2)\n",
      "Validation label: (90,)\n"
     ]
    }
   ],
   "source": [
    "### 레이블 만들기\n",
    "## 학습\n",
    "# KNN, SVM model 1 : 정상 / 고장1 : 0 / 1\n",
    "M1_Train_Label = np.zeros(3*NoOfTrainData , dtype=int)\n",
    "M1_Train_Label[NoOfTrainData:] = 1\n",
    "# ANN model 1: 정상 / 고장 [1,0] / [0,1]\n",
    "M1_Train_Label_forANN = np.zeros((3*NoOfTrainData, 2) , dtype=int)\n",
    "M1_Train_Label_forANN[:NoOfTrainData, :] = [1,0]\n",
    "M1_Train_Label_forANN[NoOfTrainData:, :] = [0,1]\n",
    "\n",
    "# KNN, SVM model 2 : 고장1 / 고장2 : 1 / 2\n",
    "M2_Train_Label = np.ones(2*NoOfTrainData , dtype=int)\n",
    "M2_Train_Label[NoOfTrainData:] = 2\n",
    "# ANN model 2: 고장1 / 고장2 [1,0] / [0,1]\n",
    "M2_Train_Label_forANN = np.zeros((2*NoOfTrainData, 2) , dtype=int)\n",
    "M2_Train_Label_forANN[:NoOfTrainData, :] = [1,0]\n",
    "M2_Train_Label_forANN[NoOfTrainData:, :] = [0,1]\n",
    "\n",
    "## 검증 레이블\n",
    "Valid_Label = np.zeros(3*NoOfValidData , dtype=int)\n",
    "Valid_Label[  NoOfValidData:2*NoOfValidData] = 1\n",
    "Valid_Label[2*NoOfValidData:               ] = 2\n",
    "\n",
    "print('Model 1 Training label:', M1_Train_Label.shape, M1_Train_Label_forANN.shape)\n",
    "print('Model 2 Training label:', M2_Train_Label.shape, M2_Train_Label_forANN.shape)\n",
    "print('Validation label:', Valid_Label.shape)"
   ]
  },
  {
   "cell_type": "markdown",
   "metadata": {},
   "source": [
    "## 3. 모델 1,2 학습/검증"
   ]
  },
  {
   "cell_type": "code",
   "execution_count": null,
   "metadata": {},
   "outputs": [],
   "source": [
    "from sklearn.neighbors import KNeighborsClassifier\n",
    "from sklearn.svm import SVC\n",
    "from sklearn import metrics\n",
    "import tensorflow as tf\n",
    "from tensorflow import keras"
   ]
  },
  {
   "cell_type": "markdown",
   "metadata": {},
   "source": [
    "### 3-1. KNN"
   ]
  },
  {
   "cell_type": "code",
   "execution_count": null,
   "metadata": {},
   "outputs": [],
   "source": [
    "# 학습: 모델 별 학습 데이터 중 구분성 상위 특징 가져오기\n",
    "M1_Train = M1_Train_AllFeature.iloc[:, M1_FeatureIndex]\n",
    "M2_Train = M2_Train_AllFeature.iloc[:, M2_FeatureIndex]\n",
    "\n",
    "knn_Model1 = KNeighborsClassifier(n_neighbors=7).fit(M1_Train, M1_Train_Label) # 정상/고장 구분 모델\n",
    "knn_Model2 = KNeighborsClassifier(n_neighbors=9).fit(M2_Train, M2_Train_Label) # 고장1/고장2 구분 모델"
   ]
  },
  {
   "cell_type": "code",
   "execution_count": null,
   "metadata": {},
   "outputs": [],
   "source": [
    "## 검증 정확도 확인\n",
    "M1_Valid = np.array(Valid_AllFeature)[:, M1_FeatureIndex] # 검증 데이터 특징 중 정상/고장 구분성 높은 것 가져오기\n",
    "M1_predict = knn_Model1.predict(M1_Valid)                 # Model 1 진단 결과\n",
    "M1_predict_AbnormalIndex = np.where(M1_predict==1)[0]     # 고장 Label : 1 고장인 애들만 찾아서\n",
    "\n",
    "M2_Valid = np.array(Valid_AllFeature)[:, M2_FeatureIndex] # 검증 데이터 특징 중 고장 1/2 간 구분성 높은 것 가져오기\n",
    "M2_Valid = M2_Valid[M1_predict_AbnormalIndex, :]          # 데이터 중 M1에서 고장이라 진단한 것들만 가져오기\n",
    "M2_predict = knn_Model2.predict(M2_Valid)                 # Model 2 진단 결과\n",
    "\n",
    "# Model 1, 2 결과 합치기\n",
    "FinalPredict = np.copy(M1_predict)\n",
    "for i in range(len(M1_predict_AbnormalIndex)):\n",
    "    if M2_predict[i] == 2:\n",
    "        FinalPredict[M1_predict_AbnormalIndex[i]] = 2\n",
    "        \n",
    "Accuracy = metrics.accuracy_score(Valid_Label, FinalPredict)\n",
    "print('kNN+kNN model Accuracy: {:.2f}%'.format(Accuracy*100))"
   ]
  },
  {
   "cell_type": "markdown",
   "metadata": {},
   "source": [
    "### 3-2. SVM"
   ]
  },
  {
   "cell_type": "code",
   "execution_count": null,
   "metadata": {},
   "outputs": [],
   "source": [
    "# 학습: 모델 별 학습 데이터 중 구분성 상위 특징 가져오기\n",
    "M1_Train = M1_Train_AllFeature.iloc[:, M1_FeatureIndex]\n",
    "M2_Train = M2_Train_AllFeature.iloc[:, M2_FeatureIndex]\n",
    "\n",
    "svm_Model1 = SVC(kernel = 'poly').fit(M1_Train, M1_Train_Label) # 정상/고장 구분 모델\n",
    "svm_Model2 = SVC(kernel = 'poly').fit(M2_Train, M2_Train_Label) # 고장1/고장2 구분 모델"
   ]
  },
  {
   "cell_type": "code",
   "execution_count": null,
   "metadata": {},
   "outputs": [],
   "source": [
    "## 검증 정확도 확인\n",
    "M1_Valid = np.array(Valid_AllFeature)[:, M1_FeatureIndex] # 검증 데이터 특징 중 정상/고장 구분성 높은 것 가져오기\n",
    "M1_predict = svm_Model1.predict(M1_Valid)                 # Model 1 진단 결과\n",
    "M1_predict_AbnormalIndex = np.where(M1_predict==1)[0]     # 고장 Label : 1\n",
    "\n",
    "M2_Valid = np.array(Valid_AllFeature)[:, M2_FeatureIndex] # 검증 데이터 특징 중 고장 1/2 간 구분성 높은 것 가져오기\n",
    "M2_Valid = M2_Valid[M1_predict_AbnormalIndex, :]          # 데이터 중 M1에서 고장이라 진단한 것들만 가져오기\n",
    "M2_predict = svm_Model2.predict(M2_Valid)                 # Model 2 진단 결과\n",
    "\n",
    "# Model 1, 2 결과 합치기\n",
    "FinalPredict = np.copy(M1_predict)\n",
    "for i in range(len(M1_predict_AbnormalIndex)):\n",
    "    if M2_predict[i] == 2:\n",
    "        FinalPredict[M1_predict_AbnormalIndex[i]] = 2\n",
    "        \n",
    "Accuracy = metrics.accuracy_score(Valid_Label, FinalPredict)\n",
    "print('SVM+SVM model Accuracy: {:.2f}%'.format(Accuracy*100))"
   ]
  },
  {
   "cell_type": "markdown",
   "metadata": {},
   "source": [
    "### ANN"
   ]
  },
  {
   "cell_type": "code",
   "execution_count": null,
   "metadata": {},
   "outputs": [],
   "source": [
    "learningRate  = 0.0001\n",
    "noOfNeuron    = 16\n",
    "iteration     = 1000\n",
    "\n",
    "def ANN_model(input_data):\n",
    "    model = keras.Sequential()\n",
    "    model.add(keras.layers.Dense(units = noOfNeuron, input_shape = (input_data.shape[1],) ))  # Input  Layer\n",
    "    model.add(keras.layers.Dense(units = noOfNeuron, activation = keras.activations.relu))    # Hidden Layer 1\n",
    "    model.add(keras.layers.Dense(units = noOfNeuron, activation = keras.activations.relu))    # Hidden Layer 2\n",
    "    model.add(keras.layers.Dense(units = 2,          activation = keras.activations.softmax)) # Output Layer\n",
    "    \n",
    "    model.compile(optimizer= keras.optimizers.Adam(learning_rate = learningRate),\n",
    "                  loss=keras.losses.categorical_crossentropy,\n",
    "                  metrics=['accuracy'])\n",
    "    return model"
   ]
  },
  {
   "cell_type": "code",
   "execution_count": null,
   "metadata": {},
   "outputs": [],
   "source": [
    "# 모델 따로 생성\n",
    "ann_model1 = ANN_model(M1_Train)\n",
    "ann_model2 = ANN_model(M2_Train)"
   ]
  },
  {
   "cell_type": "code",
   "execution_count": null,
   "metadata": {},
   "outputs": [],
   "source": [
    "# 학습: 모델 별 학습 데이터 중 구분성 상위 특징 가져오기\n",
    "M1_Train = M1_Train_AllFeature.iloc[:, M1_FeatureIndex]\n",
    "M2_Train = M2_Train_AllFeature.iloc[:, M2_FeatureIndex]\n",
    "\n",
    "# Model 1\n",
    "hist1 = ann_model1.fit(M1_Train, M1_Train_Label_forANN, epochs=iteration, verbose = 0) # 정상/고장 구분 모델\n",
    "print('Model 1 Training Done')\n",
    "# Model 2\n",
    "hist2 = ann_model2.fit(M2_Train, M2_Train_Label_forANN, epochs=iteration, verbose = 0) # 고장1/고장2 구분 모델\n",
    "print('Model 2 Training Done')"
   ]
  },
  {
   "cell_type": "code",
   "execution_count": null,
   "metadata": {},
   "outputs": [],
   "source": [
    "## 검증 정확도 확인\n",
    "M1_Valid = np.array(Valid_AllFeature)[:, M1_FeatureIndex]            # 검증 데이터 특징 중 정상/고장 구분성 높은 것 가져오기\n",
    "M1_predict = (ann_model1.predict(M1_Valid) > 0.5).astype(\"int32\")    # Model 1 진단 결과\n",
    "M1_predict_AbnormalIndex = np.unique(np.where(M1_predict==[0,1])[0]) # 고장 Label : [0,1]\n",
    "\n",
    "M2_Valid = np.array(Valid_AllFeature)[:, M2_FeatureIndex]            # 검증 데이터 특징 중 고장 1/2 간 구분성 높은 것 가져오기\n",
    "M2_Valid = M2_Valid[M1_predict_AbnormalIndex, :]                     # 데이터 중 M1에서 고장이라 진단한 것들만 가져오기\n",
    "M2_predict = (ann_model1.predict(M2_Valid) > 0.5).astype(\"int32\")    # Model 2 진단 결과\n",
    "\n",
    "# Model 1, 2 진단 결과 합치기\n",
    "M1_predict = pd.DataFrame(M1_predict)\n",
    "M2_predict = pd.DataFrame(M2_predict, index = M1_predict_AbnormalIndex)\n",
    "FinalPredict_1hot = pd.concat([M1_predict,M2_predict], axis = 1).fillna(0)\n",
    "FinalPredict = np.zeros(M1_Valid.shape[0], dtype = int)\n",
    "for i in range(M1_Valid.shape[0]):\n",
    "    if np.all(FinalPredict_1hot.iloc[i,:] == [1,0,0,0]):\n",
    "        FinalPredict[i] = 0\n",
    "    elif np.all(FinalPredict_1hot.iloc[i,:] == [0,1,1,0]):\n",
    "        FinalPredict[i] = 1\n",
    "    else:\n",
    "        FinalPredict[i] = 2\n",
    "        \n",
    "Accuracy = metrics.accuracy_score(Valid_Label, FinalPredict)\n",
    "print('ANN+ANN model Accuracy: {:.2f}%'.format(Accuracy*100))"
   ]
  },
  {
   "cell_type": "code",
   "execution_count": null,
   "metadata": {},
   "outputs": [],
   "source": []
  },
  {
   "cell_type": "code",
   "execution_count": null,
   "metadata": {},
   "outputs": [],
   "source": []
  }
 ],
 "metadata": {
  "kernelspec": {
   "display_name": "Python 3",
   "language": "python",
   "name": "python3"
  },
  "language_info": {
   "codemirror_mode": {
    "name": "ipython",
    "version": 3
   },
   "file_extension": ".py",
   "mimetype": "text/x-python",
   "name": "python",
   "nbconvert_exporter": "python",
   "pygments_lexer": "ipython3",
   "version": "3.8.8"
  }
 },
 "nbformat": 4,
 "nbformat_minor": 4
}
