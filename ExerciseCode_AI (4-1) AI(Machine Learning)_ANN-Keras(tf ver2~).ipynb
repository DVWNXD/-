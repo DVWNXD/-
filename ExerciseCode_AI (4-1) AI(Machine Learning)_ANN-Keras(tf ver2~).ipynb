{
 "cells": [
  {
   "cell_type": "code",
   "execution_count": null,
   "metadata": {},
   "outputs": [],
   "source": [
    "%matplotlib"
   ]
  },
  {
   "cell_type": "code",
   "execution_count": null,
   "metadata": {},
   "outputs": [],
   "source": [
    "%matplotlib inline"
   ]
  },
  {
   "cell_type": "code",
   "execution_count": null,
   "metadata": {},
   "outputs": [],
   "source": [
    "pd.set_option('display.max_rows',    100)      # DataFrame 데이터 확인 시 최대 표시 행 수\n",
    "pd.set_option('display.max_columns', 100)      # DataFrame 데이터 확인 시 최대 표시 열 수"
   ]
  },
  {
   "cell_type": "markdown",
   "metadata": {},
   "source": [
    "## 라이브러리 import"
   ]
  },
  {
   "cell_type": "code",
   "execution_count": 1,
   "metadata": {},
   "outputs": [],
   "source": [
    "import pandas as pd\n",
    "import numpy as np\n",
    "import matplotlib.pyplot as plt"
   ]
  },
  {
   "cell_type": "code",
   "execution_count": 2,
   "metadata": {},
   "outputs": [],
   "source": [
    "import tensorflow as tf\n",
    "from tensorflow import keras\n",
    "tf.random.set_seed(777)"
   ]
  },
  {
   "cell_type": "markdown",
   "metadata": {},
   "source": [
    "## 데이터 불러오기"
   ]
  },
  {
   "cell_type": "code",
   "execution_count": 3,
   "metadata": {},
   "outputs": [
    {
     "name": "stdout",
     "output_type": "stream",
     "text": [
      "(256, 30)\n",
      "(64, 30)\n",
      "(256, 2)\n",
      "(64, 2)\n",
      "(320, 30)\n"
     ]
    }
   ],
   "source": [
    "Fold = 5\n",
    "\n",
    "# k-fold 학습/검증 데이터\n",
    "for i in range(Fold):\n",
    "    \n",
    "    path1 = './K_FoldData/Training_Fold%d'%(i+1)\n",
    "    path2 = './K_FoldData/Validation_Fold%d'%(i+1)\n",
    "    c1 = 'Training_Fold%d   = np.array(pd.read_csv(path1, sep=\",\", header=None))'%(i+1)\n",
    "    c2 = 'Validation_Fold%d = np.array(pd.read_csv(path2, sep=\",\", header=None))'%(i+1)\n",
    "    exec(c1)\n",
    "    exec(c2)\n",
    "\n",
    "# K-fold 학습/검증 레이블\n",
    "TrainingFold_Label   = np.array(pd.read_csv('./K_FoldData/TrainingFold_Label_forANN'  , sep=\",\", header=None))\n",
    "ValidationFold_Label = np.array(pd.read_csv('./K_FoldData/ValidationFold_Label_forANN', sep=\",\", header=None))\n",
    "    \n",
    "    \n",
    "# 전체 학습용 데이터\n",
    "Training_All       = np.array(pd.read_csv('./K_FoldData/Training_All', sep = \",\", header = None))\n",
    "Training_All_Label = np.array(pd.read_csv('./K_FoldData/Training_All_Label_forANN', sep = \",\", header = None))\n",
    "\n",
    "print(Training_Fold1.shape)\n",
    "print(Validation_Fold1.shape)\n",
    "print(TrainingFold_Label.shape)\n",
    "print(ValidationFold_Label.shape)\n",
    "print(Training_All.shape)"
   ]
  },
  {
   "cell_type": "markdown",
   "metadata": {},
   "source": [
    "## ANN(Artificial Neural Network) hyperparameter 설정"
   ]
  },
  {
   "cell_type": "code",
   "execution_count": 4,
   "metadata": {},
   "outputs": [],
   "source": [
    "learningRate  = 0.0001\n",
    "noOfNeuron    = 16\n",
    "iteration     = 2000 #이터레이션 개수 줄임"
   ]
  },
  {
   "cell_type": "markdown",
   "metadata": {},
   "source": [
    "## Keras 기반 ANN 구조(Architecture) 설계"
   ]
  },
  {
   "cell_type": "markdown",
   "metadata": {},
   "source": [
    "https://keras.io/api/layers/activations/ : 활성화 함수 참고"
   ]
  },
  {
   "cell_type": "code",
   "execution_count": 5,
   "metadata": {},
   "outputs": [],
   "source": [
    "def ANN_model(input_data):\n",
    "    model = keras.Sequential() #레이어가 연속적으로 쌓인 모델이다\n",
    "    model.add(keras.layers.Dense(units = noOfNeuron, input_shape = (input_data.shape[1],) ))  # Input  Layer\n",
    "    model.add(keras.layers.Dense(units = noOfNeuron, activation = keras.activations.relu))    # Hidden Layer 1 relu는 수렴속도가 빠르다\n",
    "    model.add(keras.layers.Dense(units = noOfNeuron, activation = keras.activations.relu))    # Hidden Layer 2\n",
    "    model.add(keras.layers.Dense(units = 2,          activation = keras.activations.softmax)) # Output Layer 소프트맥스함수 이진분류\n",
    "    \n",
    "    model.compile(optimizer= keras.optimizers.Adam(learning_rate = learningRate), #최적화 함수 다양하다 adam\n",
    "                  loss=keras.losses.categorical_crossentropy, #로스랑 옵티마이저는 캐라스에서 제공해 준거 사용\n",
    "                  metrics=['accuracy'])\n",
    "    return model #구조는 이 코드가 끝"
   ]
  },
  {
   "cell_type": "code",
   "execution_count": 6,
   "metadata": {},
   "outputs": [
    {
     "name": "stdout",
     "output_type": "stream",
     "text": [
      "Model: \"sequential\"\n",
      "_________________________________________________________________\n",
      "Layer (type)                 Output Shape              Param #   \n",
      "=================================================================\n",
      "dense (Dense)                (None, 16)                496       \n",
      "_________________________________________________________________\n",
      "dense_1 (Dense)              (None, 16)                272       \n",
      "_________________________________________________________________\n",
      "dense_2 (Dense)              (None, 16)                272       \n",
      "_________________________________________________________________\n",
      "dense_3 (Dense)              (None, 2)                 34        \n",
      "=================================================================\n",
      "Total params: 1,074\n",
      "Trainable params: 1,074\n",
      "Non-trainable params: 0\n",
      "_________________________________________________________________\n"
     ]
    }
   ],
   "source": [
    "# 모델 구조, 파라미터 개수 확인\n",
    "tempModel = ANN_model(Training_Fold1)\n",
    "tempModel.summary()"
   ]
  },
  {
   "cell_type": "code",
   "execution_count": null,
   "metadata": {},
   "outputs": [],
   "source": [
    "첫번째 파라미터 496 //16*16+16은 272  // 16*2+2=34"
   ]
  },
  {
   "cell_type": "markdown",
   "metadata": {},
   "source": [
    "## Keras 기반 NN(Neural Network) 학습 및 평가 방법"
   ]
  },
  {
   "cell_type": "code",
   "execution_count": 7,
   "metadata": {},
   "outputs": [
    {
     "data": {
      "text/plain": [
       "(0.11136260628700256, 0.96875)"
      ]
     },
     "execution_count": 7,
     "metadata": {},
     "output_type": "execute_result"
    }
   ],
   "source": [
    "tf.random.set_seed(777)\n",
    "\n",
    "Data      = Training_Fold1\n",
    "Data_Val  = Validation_Fold1\n",
    "Label     = TrainingFold_Label\n",
    "Label_Val = ValidationFold_Label\n",
    "\n",
    "model = ANN_model(Data) #데이터의 개수를 알려주기위해 들어간 것 학습은 x\n",
    "\n",
    "hist = model.fit(Data, Label, epochs=iteration, verbose = 0) #학습은 여기서 한다\n",
    "Loss, Accuracy = model.evaluate(Data_Val,  Label_Val, verbose=0) #검증데이터 넣고 평가하면\n",
    "\n",
    "Loss, Accuracy"
   ]
  },
  {
   "cell_type": "markdown",
   "metadata": {},
   "source": [
    "## Keras 기반 NN(Neural Network) 학습 및 검증"
   ]
  },
  {
   "cell_type": "code",
   "execution_count": 8,
   "metadata": {
    "scrolled": true
   },
   "outputs": [
    {
     "name": "stdout",
     "output_type": "stream",
     "text": [
      "[Result of K-fold Cross Validation] \n",
      "\n",
      "Fold 1: 96.88%\n",
      "Fold 2: 100.00%\n",
      "Fold 3: 100.00%\n",
      "WARNING:tensorflow:5 out of the last 9 calls to <function Model.make_test_function.<locals>.test_function at 0x000002CE22140DC0> triggered tf.function retracing. Tracing is expensive and the excessive number of tracings could be due to (1) creating @tf.function repeatedly in a loop, (2) passing tensors with different shapes, (3) passing Python objects instead of tensors. For (1), please define your @tf.function outside of the loop. For (2), @tf.function has experimental_relax_shapes=True option that relaxes argument shapes that can avoid unnecessary retracing. For (3), please refer to https://www.tensorflow.org/guide/function#controlling_retracing and https://www.tensorflow.org/api_docs/python/tf/function for  more details.\n",
      "Fold 4: 98.44%\n",
      "WARNING:tensorflow:6 out of the last 11 calls to <function Model.make_test_function.<locals>.test_function at 0x000002CE23243DC0> triggered tf.function retracing. Tracing is expensive and the excessive number of tracings could be due to (1) creating @tf.function repeatedly in a loop, (2) passing tensors with different shapes, (3) passing Python objects instead of tensors. For (1), please define your @tf.function outside of the loop. For (2), @tf.function has experimental_relax_shapes=True option that relaxes argument shapes that can avoid unnecessary retracing. For (3), please refer to https://www.tensorflow.org/guide/function#controlling_retracing and https://www.tensorflow.org/api_docs/python/tf/function for  more details.\n",
      "Fold 5: 100.00%\n",
      "* Average accuracy : 99.06%\n"
     ]
    }
   ],
   "source": [
    "Label        = TrainingFold_Label\n",
    "Label_Val    = ValidationFold_Label\n",
    "Accuracy_sum = 0\n",
    "\n",
    "print('[Result of K-fold Cross Validation] \\n')\n",
    "\n",
    "for i in range(Fold):\n",
    "    tf.random.set_seed(777)\n",
    "    \n",
    "    s1= 'Data     = Training_Fold%d'  %(i+1)\n",
    "    s2= 'Data_Val = Validation_Fold%d'%(i+1)\n",
    "    exec(s1)\n",
    "    exec(s2)\n",
    "    \n",
    "    model = ANN_model(Data)\n",
    "    # train model\n",
    "    hist = model.fit(Data, Label, epochs=iteration, verbose = 0)\n",
    "    Loss, Accuracy = model.evaluate(Data_Val,  Label_Val, verbose=0)\n",
    "    Accuracy_sum = Accuracy_sum + Accuracy\n",
    "    print('Fold {}: {:.2f}%'.format((i+1), Accuracy*100))\n",
    "\n",
    "print('* Average accuracy : {:.2f}%'.format((Accuracy_sum/Fold)*100))"
   ]
  },
  {
   "cell_type": "markdown",
   "metadata": {},
   "source": [
    "## 전체 학습 데이터로 NN 학습 및 모델 저장"
   ]
  },
  {
   "cell_type": "code",
   "execution_count": 9,
   "metadata": {},
   "outputs": [],
   "source": [
    "IterationForPrintAcc = 200\n",
    "#케라스에서 함수를 실행할때마다 불러오는 함수 에포크를 진행할때마다 풀러올수 있는 함수\n",
    "class AccuracyPerEpoch(keras.callbacks.Callback):\n",
    "    def on_epoch_end(self, epoch, logs=None):\n",
    "        keras.callbacks.Callback() #내부에서 입력할 함수 넣어준다\n",
    "        if epoch%IterationForPrintAcc == 0:\n",
    "            print(\"{} Epochs Accuracy : {:.2f}% \".format(epoch, logs[\"accuracy\"]*100))"
   ]
  },
  {
   "cell_type": "code",
   "execution_count": 10,
   "metadata": {},
   "outputs": [
    {
     "name": "stdout",
     "output_type": "stream",
     "text": [
      "0 Epochs Accuracy : 50.00% \n",
      "200 Epochs Accuracy : 98.44% \n",
      "400 Epochs Accuracy : 99.37% \n",
      "600 Epochs Accuracy : 99.06% \n",
      "800 Epochs Accuracy : 99.37% \n",
      "1000 Epochs Accuracy : 99.69% \n",
      "1200 Epochs Accuracy : 99.37% \n",
      "1400 Epochs Accuracy : 99.69% \n",
      "1600 Epochs Accuracy : 99.69% \n",
      "1800 Epochs Accuracy : 99.69% \n",
      "Final Train Accuracy : 99.69%\n"
     ]
    }
   ],
   "source": [
    "tf.random.set_seed(777)    \n",
    "#이터레이션을 에포크라고 함 케라스에서는\n",
    "Data  = Training_All\n",
    "Label = Training_All_Label\n",
    "\n",
    "model = ANN_model(Data)\n",
    "hist = model.fit(Data, Label, epochs=iteration, verbose = 0, callbacks = [AccuracyPerEpoch()]) #\n",
    "\n",
    "print('Final Train Accuracy : {:.2f}%'.format(hist.history['accuracy'][-1]*100))"
   ]
  },
  {
   "cell_type": "code",
   "execution_count": 11,
   "metadata": {},
   "outputs": [
    {
     "data": {
      "image/png": "[encoded data removed]",
      "text/plain": [
       "<Figure size 432x288 with 2 Axes>"
      ]
     },
     "metadata": {
      "needs_background": "light"
     },
     "output_type": "display_data"
    }
   ],
   "source": [
    "# 학습 과정 확인\n",
    "fig, loss_ax = plt.subplots()\n",
    "acc_ax = loss_ax.twinx()\n",
    "\n",
    "loss_ax.plot(hist.history['loss'], 'y', label='train loss', c = 'tab:red')\n",
    "loss_ax.set_xlabel('epoch')\n",
    "loss_ax.set_ylabel('loss')\n",
    "# loss_ax.legend(loc='center right')\n",
    "\n",
    "acc_ax.plot(hist.history['accuracy'], 'b', label='train acc', c = 'tab:blue')\n",
    "acc_ax.set_ylabel('accuracy')\n",
    "fig.legend(loc='upper right')\n",
    "\n",
    "plt.show()"
   ]
  },
  {
   "cell_type": "code",
   "execution_count": 12,
   "metadata": {},
   "outputs": [],
   "source": [
    "# 모델 저장\n",
    "model.save(\"./MLmodels/ANN_model.h5\")"
   ]
  },
  {
   "cell_type": "markdown",
   "metadata": {},
   "source": [
    "## NN model 불러와서 진단"
   ]
  },
  {
   "cell_type": "code",
   "execution_count": 13,
   "metadata": {},
   "outputs": [],
   "source": [
    "# 모델 불러오기\n",
    "LoadedModel = keras.models.load_model(\"./MLmodels/ANN_model.h5\")"
   ]
  },
  {
   "cell_type": "code",
   "execution_count": 14,
   "metadata": {},
   "outputs": [],
   "source": [
    "Test_Data  = np.array(pd.read_csv('./K_FoldData/Test_Data'        , sep=\",\", header=None))\n",
    "Test_Label = np.array(pd.read_csv('./K_FoldData/Test_Label_forANN', sep=\",\", header=None))"
   ]
  },
  {
   "cell_type": "code",
   "execution_count": 15,
   "metadata": {},
   "outputs": [
    {
     "name": "stdout",
     "output_type": "stream",
     "text": [
      "[Performance of ANN model] \n",
      "\n",
      "Accuracy : 100.00%\n"
     ]
    }
   ],
   "source": [
    "Loss, Accuracy = LoadedModel.evaluate(Test_Data, Test_Label, verbose=0)\n",
    "print('[Performance of ANN model] \\n')\n",
    "print('Accuracy : {:.2f}%'.format(Accuracy*100))"
   ]
  },
  {
   "cell_type": "code",
   "execution_count": 16,
   "metadata": {
    "scrolled": true
   },
   "outputs": [
    {
     "data": {
      "text/html": [
       "<div>\n",
       "<style scoped>\n",
       "    .dataframe tbody tr th:only-of-type {\n",
       "        vertical-align: middle;\n",
       "    }\n",
       "\n",
       "    .dataframe tbody tr th {\n",
       "        vertical-align: top;\n",
       "    }\n",
       "\n",
       "    .dataframe thead th {\n",
       "        text-align: right;\n",
       "    }\n",
       "</style>\n",
       "<table border=\"1\" class=\"dataframe\">\n",
       "  <thead>\n",
       "    <tr style=\"text-align: right;\">\n",
       "      <th></th>\n",
       "      <th>0</th>\n",
       "      <th>1</th>\n",
       "    </tr>\n",
       "  </thead>\n",
       "  <tbody>\n",
       "    <tr>\n",
       "      <th>0</th>\n",
       "      <td>0.999982</td>\n",
       "      <td>1.817379e-05</td>\n",
       "    </tr>\n",
       "    <tr>\n",
       "      <th>1</th>\n",
       "      <td>1.000000</td>\n",
       "      <td>2.917330e-08</td>\n",
       "    </tr>\n",
       "    <tr>\n",
       "      <th>2</th>\n",
       "      <td>0.999996</td>\n",
       "      <td>4.130767e-06</td>\n",
       "    </tr>\n",
       "    <tr>\n",
       "      <th>3</th>\n",
       "      <td>0.999995</td>\n",
       "      <td>4.919055e-06</td>\n",
       "    </tr>\n",
       "    <tr>\n",
       "      <th>4</th>\n",
       "      <td>0.996899</td>\n",
       "      <td>3.101273e-03</td>\n",
       "    </tr>\n",
       "    <tr>\n",
       "      <th>5</th>\n",
       "      <td>0.961907</td>\n",
       "      <td>3.809313e-02</td>\n",
       "    </tr>\n",
       "    <tr>\n",
       "      <th>6</th>\n",
       "      <td>1.000000</td>\n",
       "      <td>5.276949e-07</td>\n",
       "    </tr>\n",
       "    <tr>\n",
       "      <th>7</th>\n",
       "      <td>1.000000</td>\n",
       "      <td>5.087211e-07</td>\n",
       "    </tr>\n",
       "    <tr>\n",
       "      <th>8</th>\n",
       "      <td>0.999999</td>\n",
       "      <td>6.114255e-07</td>\n",
       "    </tr>\n",
       "    <tr>\n",
       "      <th>9</th>\n",
       "      <td>0.999999</td>\n",
       "      <td>1.138367e-06</td>\n",
       "    </tr>\n",
       "    <tr>\n",
       "      <th>10</th>\n",
       "      <td>0.999998</td>\n",
       "      <td>2.148056e-06</td>\n",
       "    </tr>\n",
       "    <tr>\n",
       "      <th>11</th>\n",
       "      <td>0.999996</td>\n",
       "      <td>3.920089e-06</td>\n",
       "    </tr>\n",
       "    <tr>\n",
       "      <th>12</th>\n",
       "      <td>0.999994</td>\n",
       "      <td>5.917260e-06</td>\n",
       "    </tr>\n",
       "    <tr>\n",
       "      <th>13</th>\n",
       "      <td>0.999999</td>\n",
       "      <td>1.066415e-06</td>\n",
       "    </tr>\n",
       "    <tr>\n",
       "      <th>14</th>\n",
       "      <td>1.000000</td>\n",
       "      <td>1.541922e-07</td>\n",
       "    </tr>\n",
       "    <tr>\n",
       "      <th>15</th>\n",
       "      <td>0.999998</td>\n",
       "      <td>2.012838e-06</td>\n",
       "    </tr>\n",
       "    <tr>\n",
       "      <th>16</th>\n",
       "      <td>0.999636</td>\n",
       "      <td>3.637985e-04</td>\n",
       "    </tr>\n",
       "    <tr>\n",
       "      <th>17</th>\n",
       "      <td>0.999965</td>\n",
       "      <td>3.499444e-05</td>\n",
       "    </tr>\n",
       "    <tr>\n",
       "      <th>18</th>\n",
       "      <td>0.999990</td>\n",
       "      <td>1.026119e-05</td>\n",
       "    </tr>\n",
       "    <tr>\n",
       "      <th>19</th>\n",
       "      <td>0.999868</td>\n",
       "      <td>1.317990e-04</td>\n",
       "    </tr>\n",
       "    <tr>\n",
       "      <th>20</th>\n",
       "      <td>0.000018</td>\n",
       "      <td>9.999821e-01</td>\n",
       "    </tr>\n",
       "    <tr>\n",
       "      <th>21</th>\n",
       "      <td>0.000972</td>\n",
       "      <td>9.990276e-01</td>\n",
       "    </tr>\n",
       "    <tr>\n",
       "      <th>22</th>\n",
       "      <td>0.000035</td>\n",
       "      <td>9.999646e-01</td>\n",
       "    </tr>\n",
       "    <tr>\n",
       "      <th>23</th>\n",
       "      <td>0.000025</td>\n",
       "      <td>9.999751e-01</td>\n",
       "    </tr>\n",
       "    <tr>\n",
       "      <th>24</th>\n",
       "      <td>0.000012</td>\n",
       "      <td>9.999881e-01</td>\n",
       "    </tr>\n",
       "    <tr>\n",
       "      <th>25</th>\n",
       "      <td>0.000069</td>\n",
       "      <td>9.999312e-01</td>\n",
       "    </tr>\n",
       "    <tr>\n",
       "      <th>26</th>\n",
       "      <td>0.000211</td>\n",
       "      <td>9.997887e-01</td>\n",
       "    </tr>\n",
       "    <tr>\n",
       "      <th>27</th>\n",
       "      <td>0.000028</td>\n",
       "      <td>9.999716e-01</td>\n",
       "    </tr>\n",
       "    <tr>\n",
       "      <th>28</th>\n",
       "      <td>0.030018</td>\n",
       "      <td>9.699817e-01</td>\n",
       "    </tr>\n",
       "    <tr>\n",
       "      <th>29</th>\n",
       "      <td>0.000028</td>\n",
       "      <td>9.999722e-01</td>\n",
       "    </tr>\n",
       "    <tr>\n",
       "      <th>30</th>\n",
       "      <td>0.002328</td>\n",
       "      <td>9.976721e-01</td>\n",
       "    </tr>\n",
       "    <tr>\n",
       "      <th>31</th>\n",
       "      <td>0.000020</td>\n",
       "      <td>9.999796e-01</td>\n",
       "    </tr>\n",
       "    <tr>\n",
       "      <th>32</th>\n",
       "      <td>0.000082</td>\n",
       "      <td>9.999181e-01</td>\n",
       "    </tr>\n",
       "    <tr>\n",
       "      <th>33</th>\n",
       "      <td>0.000096</td>\n",
       "      <td>9.999040e-01</td>\n",
       "    </tr>\n",
       "    <tr>\n",
       "      <th>34</th>\n",
       "      <td>0.037465</td>\n",
       "      <td>9.625348e-01</td>\n",
       "    </tr>\n",
       "    <tr>\n",
       "      <th>35</th>\n",
       "      <td>0.000107</td>\n",
       "      <td>9.998928e-01</td>\n",
       "    </tr>\n",
       "    <tr>\n",
       "      <th>36</th>\n",
       "      <td>0.000027</td>\n",
       "      <td>9.999726e-01</td>\n",
       "    </tr>\n",
       "    <tr>\n",
       "      <th>37</th>\n",
       "      <td>0.000022</td>\n",
       "      <td>9.999782e-01</td>\n",
       "    </tr>\n",
       "    <tr>\n",
       "      <th>38</th>\n",
       "      <td>0.043853</td>\n",
       "      <td>9.561475e-01</td>\n",
       "    </tr>\n",
       "    <tr>\n",
       "      <th>39</th>\n",
       "      <td>0.001363</td>\n",
       "      <td>9.986369e-01</td>\n",
       "    </tr>\n",
       "  </tbody>\n",
       "</table>\n",
       "</div>"
      ],
      "text/plain": [
       "           0             1\n",
       "0   0.999982  1.817379e-05\n",
       "1   1.000000  2.917330e-08\n",
       "2   0.999996  4.130767e-06\n",
       "3   0.999995  4.919055e-06\n",
       "4   0.996899  3.101273e-03\n",
       "5   0.961907  3.809313e-02\n",
       "6   1.000000  5.276949e-07\n",
       "7   1.000000  5.087211e-07\n",
       "8   0.999999  6.114255e-07\n",
       "9   0.999999  1.138367e-06\n",
       "10  0.999998  2.148056e-06\n",
       "11  0.999996  3.920089e-06\n",
       "12  0.999994  5.917260e-06\n",
       "13  0.999999  1.066415e-06\n",
       "14  1.000000  1.541922e-07\n",
       "15  0.999998  2.012838e-06\n",
       "16  0.999636  3.637985e-04\n",
       "17  0.999965  3.499444e-05\n",
       "18  0.999990  1.026119e-05\n",
       "19  0.999868  1.317990e-04\n",
       "20  0.000018  9.999821e-01\n",
       "21  0.000972  9.990276e-01\n",
       "22  0.000035  9.999646e-01\n",
       "23  0.000025  9.999751e-01\n",
       "24  0.000012  9.999881e-01\n",
       "25  0.000069  9.999312e-01\n",
       "26  0.000211  9.997887e-01\n",
       "27  0.000028  9.999716e-01\n",
       "28  0.030018  9.699817e-01\n",
       "29  0.000028  9.999722e-01\n",
       "30  0.002328  9.976721e-01\n",
       "31  0.000020  9.999796e-01\n",
       "32  0.000082  9.999181e-01\n",
       "33  0.000096  9.999040e-01\n",
       "34  0.037465  9.625348e-01\n",
       "35  0.000107  9.998928e-01\n",
       "36  0.000027  9.999726e-01\n",
       "37  0.000022  9.999782e-01\n",
       "38  0.043853  9.561475e-01\n",
       "39  0.001363  9.986369e-01"
      ]
     },
     "execution_count": 16,
     "metadata": {},
     "output_type": "execute_result"
    }
   ],
   "source": [
    "# 예측값 확인\n",
    "Predict_y = LoadedModel.predict(Test_Data)\n",
    "pd.DataFrame(Predict_y) "
   ]
  },
  {
   "cell_type": "code",
   "execution_count": null,
   "metadata": {},
   "outputs": [],
   "source": []
  },
  {
   "cell_type": "code",
   "execution_count": null,
   "metadata": {},
   "outputs": [],
   "source": []
  },
  {
   "cell_type": "code",
   "execution_count": null,
   "metadata": {},
   "outputs": [],
   "source": []
  }
 ],
 "metadata": {
  "kernelspec": {
   "display_name": "Python 3",
   "language": "python",
   "name": "python3"
  },
  "language_info": {
   "codemirror_mode": {
    "name": "ipython",
    "version": 3
   },
   "file_extension": ".py",
   "mimetype": "text/x-python",
   "name": "python",
   "nbconvert_exporter": "python",
   "pygments_lexer": "ipython3",
   "version": "3.8.8"
  }
 },
 "nbformat": 4,
 "nbformat_minor": 4
}
