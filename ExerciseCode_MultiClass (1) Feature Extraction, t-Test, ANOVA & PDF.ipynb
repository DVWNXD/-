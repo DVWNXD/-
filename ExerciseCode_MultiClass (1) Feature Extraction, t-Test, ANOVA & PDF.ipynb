{
 "cells": [
  {
   "cell_type": "markdown",
   "metadata": {},
   "source": [
    "## 라이브러리 import"
   ]
  },
  {
   "cell_type": "code",
   "execution_count": 1,
   "metadata": {},
   "outputs": [],
   "source": [
    "import pandas as pd\n",
    "import numpy as np\n",
    "import matplotlib.pyplot as plt\n",
    "import scipy.stats as sp\n",
    "import seaborn as sb\n",
    "import pywt"
   ]
  },
  {
   "cell_type": "markdown",
   "metadata": {},
   "source": [
    "#### 데이터 형태 살펴보기"
   ]
  },
  {
   "cell_type": "code",
   "execution_count": 2,
   "metadata": {},
   "outputs": [
    {
     "data": {
      "text/html": [
       "<div>\n",
       "<style scoped>\n",
       "    .dataframe tbody tr th:only-of-type {\n",
       "        vertical-align: middle;\n",
       "    }\n",
       "\n",
       "    .dataframe tbody tr th {\n",
       "        vertical-align: top;\n",
       "    }\n",
       "\n",
       "    .dataframe thead th {\n",
       "        text-align: right;\n",
       "    }\n",
       "</style>\n",
       "<table border=\"1\" class=\"dataframe\">\n",
       "  <thead>\n",
       "    <tr style=\"text-align: right;\">\n",
       "      <th></th>\n",
       "      <th>0</th>\n",
       "      <th>1</th>\n",
       "      <th>2</th>\n",
       "    </tr>\n",
       "  </thead>\n",
       "  <tbody>\n",
       "    <tr>\n",
       "      <th>0</th>\n",
       "      <td>-0.093736</td>\n",
       "      <td>0.015897</td>\n",
       "      <td>0.003712</td>\n",
       "    </tr>\n",
       "    <tr>\n",
       "      <th>1</th>\n",
       "      <td>-0.101234</td>\n",
       "      <td>-0.017669</td>\n",
       "      <td>0.002989</td>\n",
       "    </tr>\n",
       "    <tr>\n",
       "      <th>2</th>\n",
       "      <td>-0.101609</td>\n",
       "      <td>-0.002913</td>\n",
       "      <td>0.002528</td>\n",
       "    </tr>\n",
       "    <tr>\n",
       "      <th>3</th>\n",
       "      <td>-0.119606</td>\n",
       "      <td>-0.005462</td>\n",
       "      <td>0.003551</td>\n",
       "    </tr>\n",
       "    <tr>\n",
       "      <th>4</th>\n",
       "      <td>-0.088862</td>\n",
       "      <td>-0.022791</td>\n",
       "      <td>0.001178</td>\n",
       "    </tr>\n",
       "    <tr>\n",
       "      <th>...</th>\n",
       "      <td>...</td>\n",
       "      <td>...</td>\n",
       "      <td>...</td>\n",
       "    </tr>\n",
       "    <tr>\n",
       "      <th>2769</th>\n",
       "      <td>-0.173220</td>\n",
       "      <td>-0.001180</td>\n",
       "      <td>0.010075</td>\n",
       "    </tr>\n",
       "    <tr>\n",
       "      <th>2770</th>\n",
       "      <td>-0.207714</td>\n",
       "      <td>-0.001008</td>\n",
       "      <td>0.010033</td>\n",
       "    </tr>\n",
       "    <tr>\n",
       "      <th>2771</th>\n",
       "      <td>-0.245207</td>\n",
       "      <td>-0.000644</td>\n",
       "      <td>0.010075</td>\n",
       "    </tr>\n",
       "    <tr>\n",
       "      <th>2772</th>\n",
       "      <td>-0.277826</td>\n",
       "      <td>-0.006294</td>\n",
       "      <td>0.009846</td>\n",
       "    </tr>\n",
       "    <tr>\n",
       "      <th>2773</th>\n",
       "      <td>-0.258329</td>\n",
       "      <td>-0.002601</td>\n",
       "      <td>0.009977</td>\n",
       "    </tr>\n",
       "  </tbody>\n",
       "</table>\n",
       "<p>2774 rows × 3 columns</p>\n",
       "</div>"
      ],
      "text/plain": [
       "             0         1         2\n",
       "0    -0.093736  0.015897  0.003712\n",
       "1    -0.101234 -0.017669  0.002989\n",
       "2    -0.101609 -0.002913  0.002528\n",
       "3    -0.119606 -0.005462  0.003551\n",
       "4    -0.088862 -0.022791  0.001178\n",
       "...        ...       ...       ...\n",
       "2769 -0.173220 -0.001180  0.010075\n",
       "2770 -0.207714 -0.001008  0.010033\n",
       "2771 -0.245207 -0.000644  0.010075\n",
       "2772 -0.277826 -0.006294  0.009846\n",
       "2773 -0.258329 -0.002601  0.009977\n",
       "\n",
       "[2774 rows x 3 columns]"
      ]
     },
     "execution_count": 2,
     "metadata": {},
     "output_type": "execute_result"
    }
   ],
   "source": [
    "tempdt = pd.read_csv('./SpotWeldingData_MultiClass/Abnormal1_1', sep = ',', header=None)\n",
    "tempdt"
   ]
  },
  {
   "cell_type": "markdown",
   "metadata": {},
   "source": [
    "## 1. 특징 추출 (Time, Freq Domain)"
   ]
  },
  {
   "cell_type": "markdown",
   "metadata": {},
   "source": [
    "### 데이터 크기 정의하기"
   ]
  },
  {
   "cell_type": "code",
   "execution_count": 3,
   "metadata": {},
   "outputs": [
    {
     "data": {
      "text/plain": [
       "(180, 3, 10)"
      ]
     },
     "execution_count": 3,
     "metadata": {},
     "output_type": "execute_result"
    }
   ],
   "source": [
    "NoOfData    = 180  # 정상/고장1/고장2 데이터 각 180개씩 \n",
    "NoOfSensor  = 3    # 가속도(Acceleration), 전압(Voltage), 전류(Current)\n",
    "NoOfFeature = 10   # 특징 개수:10개 (순서: Max, Min, Mean, RMS, Variance, Skewness, Kurtosis, Crest factor, Shape factor, Impulse factor)\n",
    "\n",
    "NoOfData, NoOfSensor, NoOfFeature"
   ]
  },
  {
   "cell_type": "code",
   "execution_count": 4,
   "metadata": {},
   "outputs": [],
   "source": [
    "def rms(x): # RMS 함수 정의\n",
    "    return np.sqrt(np.mean(x**2))"
   ]
  },
  {
   "cell_type": "code",
   "execution_count": 5,
   "metadata": {},
   "outputs": [
    {
     "name": "stdout",
     "output_type": "stream",
     "text": [
      "(30, 180) (30, 180) (30, 180)\n"
     ]
    }
   ],
   "source": [
    "# Time domain\n",
    "TimeFeature_Normal    = np.zeros((NoOfSensor*NoOfFeature , NoOfData))\n",
    "TimeFeature_Abnormal1 = np.zeros((NoOfSensor*NoOfFeature , NoOfData))\n",
    "TimeFeature_Abnormal2 = np.zeros((NoOfSensor*NoOfFeature , NoOfData))\n",
    "\n",
    "for i in range(NoOfData):\n",
    "    \n",
    "    # 데이터 불러오기\n",
    "    temp_path1 = './SpotWeldingData_MultiClass/Normal_%d'%(i+1)    # Normal 데이터 파일 경로\n",
    "    temp_path2 = './SpotWeldingData_MultiClass/Abnormal1_%d'%(i+1) # Abnormal1 데이터 파일 경로\n",
    "    temp_path3 = './SpotWeldingData_MultiClass/Abnormal2_%d'%(i+1) # Abnormal2 데이터 파일 경로\n",
    "    temp_data1 = np.array(pd.read_csv(temp_path1 , sep=',' , header=None)) # 임시 Normal 데이터\n",
    "    temp_data2 = np.array(pd.read_csv(temp_path2 , sep=',' , header=None)) # 임시 Abnormal1 데이터\n",
    "    temp_data3 = np.array(pd.read_csv(temp_path3 , sep=',' , header=None)) # 임시 Abnormal2 데이터\n",
    "    \n",
    "    # Time Domain 특징값 추출\n",
    "    for j in range(NoOfSensor):\n",
    "        \n",
    "        # Normal Time Domain Feature\n",
    "        TimeFeature_Normal[NoOfFeature*j+0, i] = np.max(temp_data1[:,j])\n",
    "        TimeFeature_Normal[NoOfFeature*j+1, i] = np.min(temp_data1[:,j])\n",
    "        TimeFeature_Normal[NoOfFeature*j+2, i] = np.mean(temp_data1[:,j])\n",
    "        TimeFeature_Normal[NoOfFeature*j+3, i] = rms(temp_data1[:,j])\n",
    "        TimeFeature_Normal[NoOfFeature*j+4, i] = np.var(temp_data1[:,j])\n",
    "        TimeFeature_Normal[NoOfFeature*j+5, i] = sp.skew(temp_data1[:,j])\n",
    "        TimeFeature_Normal[NoOfFeature*j+6, i] = sp.kurtosis(temp_data1[:,j])\n",
    "        TimeFeature_Normal[NoOfFeature*j+7, i] = np.max(temp_data1[:,j])/rms(temp_data1[:,j])\n",
    "        TimeFeature_Normal[NoOfFeature*j+8, i] = rms(temp_data1[:,j])/np.mean(np.abs(temp_data1[:,j]))\n",
    "        TimeFeature_Normal[NoOfFeature*j+9, i] = np.max(temp_data1[:,j])/np.mean(np.abs(temp_data1[:,j]))\n",
    "        \n",
    "        # Abnormal1 Time Domain Feature\n",
    "        TimeFeature_Abnormal1[NoOfFeature*j+0, i] = np.max(temp_data2[:,j])\n",
    "        TimeFeature_Abnormal1[NoOfFeature*j+1, i] = np.min(temp_data2[:,j])\n",
    "        TimeFeature_Abnormal1[NoOfFeature*j+2, i] = np.mean(temp_data2[:,j])\n",
    "        TimeFeature_Abnormal1[NoOfFeature*j+3, i] = rms(temp_data2[:,j])\n",
    "        TimeFeature_Abnormal1[NoOfFeature*j+4, i] = np.var(temp_data2[:,j])\n",
    "        TimeFeature_Abnormal1[NoOfFeature*j+5, i] = sp.skew(temp_data2[:,j])\n",
    "        TimeFeature_Abnormal1[NoOfFeature*j+6, i] = sp.kurtosis(temp_data2[:,j])\n",
    "        TimeFeature_Abnormal1[NoOfFeature*j+7, i] = np.max(temp_data2[:,j])/rms(temp_data2[:,j])\n",
    "        TimeFeature_Abnormal1[NoOfFeature*j+8, i] = rms(temp_data2[:,j])/np.mean(np.abs(temp_data2[:,j]))\n",
    "        TimeFeature_Abnormal1[NoOfFeature*j+9, i] = np.max(temp_data2[:,j])/np.mean(np.abs(temp_data2[:,j]))\n",
    "        \n",
    "        # Abnormal2 Time Domain Feature\n",
    "        TimeFeature_Abnormal2[NoOfFeature*j+0, i] = np.max(temp_data3[:,j])\n",
    "        TimeFeature_Abnormal2[NoOfFeature*j+1, i] = np.min(temp_data3[:,j])\n",
    "        TimeFeature_Abnormal2[NoOfFeature*j+2, i] = np.mean(temp_data3[:,j])\n",
    "        TimeFeature_Abnormal2[NoOfFeature*j+3, i] = rms(temp_data3[:,j])\n",
    "        TimeFeature_Abnormal2[NoOfFeature*j+4, i] = np.var(temp_data3[:,j])\n",
    "        TimeFeature_Abnormal2[NoOfFeature*j+5, i] = sp.skew(temp_data3[:,j])\n",
    "        TimeFeature_Abnormal2[NoOfFeature*j+6, i] = sp.kurtosis(temp_data3[:,j])\n",
    "        TimeFeature_Abnormal2[NoOfFeature*j+7, i] = np.max(temp_data3[:,j])/rms(temp_data3[:,j])\n",
    "        TimeFeature_Abnormal2[NoOfFeature*j+8, i] = rms(temp_data3[:,j])/np.mean(np.abs(temp_data3[:,j]))\n",
    "        TimeFeature_Abnormal2[NoOfFeature*j+9, i] = np.max(temp_data3[:,j])/np.mean(np.abs(temp_data3[:,j]))\n",
    "        \n",
    "print(TimeFeature_Normal.shape, TimeFeature_Abnormal1.shape, TimeFeature_Abnormal2.shape)"
   ]
  },
  {
   "cell_type": "code",
   "execution_count": 14,
   "metadata": {},
   "outputs": [
    {
     "name": "stdout",
     "output_type": "stream",
     "text": [
      "(240, 180) (240, 180) (240, 180)\n"
     ]
    }
   ],
   "source": [
    "# Frequency domain\n",
    "# Wavelet options\n",
    "MotherWavelet = pywt.Wavelet('haar')   # Mother wavelet (모함수) 지정\n",
    "Level   = 8                            # Wavelet 분해 레벨 지정\n",
    "select  = 8                            # 특징추출 영역 고주파 영역부터 개수 지정 (d1~)\n",
    "\n",
    "#Frequency Domain 특징값 추출 (Wavelet Transform 기반)\n",
    "FreqFeature_Normal    = np.zeros(shape=(NoOfSensor*NoOfFeature*select , NoOfData))\n",
    "FreqFeature_Abnormal1 = np.zeros(shape=(NoOfSensor*NoOfFeature*select , NoOfData))\n",
    "FreqFeature_Abnormal2 = np.zeros(shape=(NoOfSensor*NoOfFeature*select , NoOfData))\n",
    "\n",
    "for i in range(NoOfData):\n",
    "    \n",
    "    # 데이터 불러오기\n",
    "    temp_path1 = './SpotWeldingData_MultiClass/Normal_%d'%(i+1)   # Normal 데이터 파일 경로\n",
    "    temp_path2 = './SpotWeldingData_MultiClass/Abnormal1_%d'%(i+1) # Abnormal1 데이터 파일 경로\n",
    "    temp_path3 = './SpotWeldingData_MultiClass/Abnormal2_%d'%(i+1) # Abnormal2 데이터 파일 경로\n",
    "    temp_data1 = np.array(pd.read_csv(temp_path1 , sep=',', header=None)) # 임시 Normal 데이터\n",
    "    temp_data2 = np.array(pd.read_csv(temp_path2 , sep=',', header=None)) # 임시 Abnormal1 데이터\n",
    "    temp_data3 = np.array(pd.read_csv(temp_path3 , sep=',', header=None)) # 임시 Abnormal2 데이터\n",
    "    Coef1      = pywt.wavedec(temp_data1, MotherWavelet, level=Level, axis=0)\n",
    "    Coef2      = pywt.wavedec(temp_data2, MotherWavelet, level=Level, axis=0)\n",
    "    Coef3      = pywt.wavedec(temp_data3, MotherWavelet, level=Level, axis=0)\n",
    "    \n",
    "    # Frequency Domain 특징값 추출\n",
    "    for j in range(NoOfSensor):\n",
    "        \n",
    "        for k in np.arange(select):\n",
    "            coef1 = Coef1[Level-k]\n",
    "            coef2 = Coef2[Level-k]\n",
    "            coef3 = Coef3[Level-k]\n",
    "            \n",
    "            # Normal Frequency Domain Feature\n",
    "            FreqFeature_Normal[NoOfFeature*j*select+k*NoOfFeature+0 , i] = np.max(coef1[:,j])\n",
    "            FreqFeature_Normal[NoOfFeature*j*select+k*NoOfFeature+1 , i] = np.min(coef1[:,j])\n",
    "            FreqFeature_Normal[NoOfFeature*j*select+k*NoOfFeature+2 , i] = np.mean(coef1[:,j])\n",
    "            FreqFeature_Normal[NoOfFeature*j*select+k*NoOfFeature+3 , i] = rms(coef1[:,j])\n",
    "            FreqFeature_Normal[NoOfFeature*j*select+k*NoOfFeature+4 , i] = np.var(coef1[:,j])\n",
    "            FreqFeature_Normal[NoOfFeature*j*select+k*NoOfFeature+5 , i] = sp.skew(coef1[:,j])\n",
    "            FreqFeature_Normal[NoOfFeature*j*select+k*NoOfFeature+6 , i] = sp.kurtosis(coef1[:,j])\n",
    "            FreqFeature_Normal[NoOfFeature*j*select+k*NoOfFeature+7 , i] = np.max(coef1[:,j])/rms(coef1[:,j])\n",
    "            FreqFeature_Normal[NoOfFeature*j*select+k*NoOfFeature+8 , i] = rms(coef1[:,j])/np.mean(np.abs(coef1[:,j]))\n",
    "            FreqFeature_Normal[NoOfFeature*j*select+k*NoOfFeature+9 , i] = np.max(coef1[:,j])/np.mean(np.abs(coef1[:,j]))\n",
    "            \n",
    "            # Abnormal1 Frequency Domain Feature\n",
    "            FreqFeature_Abnormal1[NoOfFeature*j*select+k*NoOfFeature+0 , i] = np.max(coef2[:,j])\n",
    "            FreqFeature_Abnormal1[NoOfFeature*j*select+k*NoOfFeature+1 , i] = np.min(coef2[:,j])\n",
    "            FreqFeature_Abnormal1[NoOfFeature*j*select+k*NoOfFeature+2 , i] = np.mean(coef2[:,j])\n",
    "            FreqFeature_Abnormal1[NoOfFeature*j*select+k*NoOfFeature+3 , i] = rms(coef2[:,j])\n",
    "            FreqFeature_Abnormal1[NoOfFeature*j*select+k*NoOfFeature+4 , i] = np.var(coef2[:,j])\n",
    "            FreqFeature_Abnormal1[NoOfFeature*j*select+k*NoOfFeature+5 , i] = sp.skew(coef2[:,j])\n",
    "            FreqFeature_Abnormal1[NoOfFeature*j*select+k*NoOfFeature+6 , i] = sp.kurtosis(coef2[:,j])\n",
    "            FreqFeature_Abnormal1[NoOfFeature*j*select+k*NoOfFeature+7 , i] = np.max(coef2[:,j])/rms(coef2[:,j])\n",
    "            FreqFeature_Abnormal1[NoOfFeature*j*select+k*NoOfFeature+8 , i] = rms(coef2[:,j])/np.mean(np.abs(coef2[:,j]))\n",
    "            FreqFeature_Abnormal1[NoOfFeature*j*select+k*NoOfFeature+9 , i] = np.max(coef2[:,j])/np.mean(np.abs(coef2[:,j]))\n",
    "            \n",
    "            # Abnormal2 Frequency Domain Feature\n",
    "            FreqFeature_Abnormal2[NoOfFeature*j*select+k*NoOfFeature+0 , i] = np.max(coef3[:,j])\n",
    "            FreqFeature_Abnormal2[NoOfFeature*j*select+k*NoOfFeature+1 , i] = np.min(coef3[:,j])\n",
    "            FreqFeature_Abnormal2[NoOfFeature*j*select+k*NoOfFeature+2 , i] = np.mean(coef3[:,j])\n",
    "            FreqFeature_Abnormal2[NoOfFeature*j*select+k*NoOfFeature+3 , i] = rms(coef3[:,j])\n",
    "            FreqFeature_Abnormal2[NoOfFeature*j*select+k*NoOfFeature+4 , i] = np.var(coef3[:,j])\n",
    "            FreqFeature_Abnormal2[NoOfFeature*j*select+k*NoOfFeature+5 , i] = sp.skew(coef3[:,j])\n",
    "            FreqFeature_Abnormal2[NoOfFeature*j*select+k*NoOfFeature+6 , i] = sp.kurtosis(coef3[:,j])\n",
    "            FreqFeature_Abnormal2[NoOfFeature*j*select+k*NoOfFeature+7 , i] = np.max(coef3[:,j])/rms(coef3[:,j])\n",
    "            FreqFeature_Abnormal2[NoOfFeature*j*select+k*NoOfFeature+8 , i] = rms(coef3[:,j])/np.mean(np.abs(coef3[:,j]))\n",
    "            FreqFeature_Abnormal2[NoOfFeature*j*select+k*NoOfFeature+9 , i] = np.max(coef3[:,j])/np.mean(np.abs(coef3[:,j]))\n",
    "\n",
    "print(FreqFeature_Normal.shape, FreqFeature_Abnormal1.shape, FreqFeature_Abnormal2.shape) #웨이블렛 8 특징 10개 센서 3개라 240"
   ]
  },
  {
   "cell_type": "code",
   "execution_count": 15,
   "metadata": {},
   "outputs": [
    {
     "name": "stdout",
     "output_type": "stream",
     "text": [
      "Feature Data Size : (270, 540)\n",
      "= 데이터 540개(정상/고장1/고장2 각 180개씩)가 각각 270개의 특징값으로 구성됨\n"
     ]
    }
   ],
   "source": [
    "# 3개 Class 특징 병합\n",
    "TimeFeature = np.concatenate([TimeFeature_Normal, TimeFeature_Abnormal1, TimeFeature_Abnormal2] , axis=1)\n",
    "FreqFeature = np.concatenate([FreqFeature_Normal, FreqFeature_Abnormal1, FreqFeature_Abnormal2] , axis=1)\n",
    "MC_Features = np.concatenate([TimeFeature,FreqFeature] , axis=0)\n",
    "print(\"Feature Data Size :\", MC_Features.shape)\n",
    "print(\"= 데이터 %d개(정상/고장1/고장2 각 %d개씩)가 각각 %d개의 특징값으로 구성됨\"%(MC_Features.shape[1], MC_Features.shape[1]/3, MC_Features.shape[0]))\n",
    "\n",
    "# 추출한 특징 저장\n",
    "MC_FeatureData = pd.DataFrame(MC_Features)\n",
    "path = './ProcessedData/MC_FeatureData'   # path = '파일 경로/저장할 파일 이름'\n",
    "MC_FeatureData.to_csv(path, sep=',', header=None , index=None)"
   ]
  },
  {
   "cell_type": "markdown",
   "metadata": {},
   "source": [
    ".\n",
    "\n",
    ".\n",
    "\n",
    "."
   ]
  },
  {
   "cell_type": "markdown",
   "metadata": {},
   "source": [
    "## 2. 특징 선택을 위한 ANOVA & t-Test 수행"
   ]
  },
  {
   "cell_type": "markdown",
   "metadata": {},
   "source": [
    "### >>> 2.1 다진 분류용 구분성 상위 특징 선택: ANOVA 기반 ( ExerciseCode_MultiClass (2) )\n",
    "#### >>>>>>>> 3진분류 모델 1개, 선택할 구분성 상위 특징 종류도 1개"
   ]
  },
  {
   "cell_type": "code",
   "execution_count": 16,
   "metadata": {},
   "outputs": [
    {
     "name": "stdout",
     "output_type": "stream",
     "text": [
      "(270, 180) (270, 180) (270, 180)\n"
     ]
    }
   ],
   "source": [
    "MC_FeatureData = pd.read_csv('./ProcessedData/MC_FeatureData', sep=',', header=None)\n",
    "\n",
    "# 특징 데이터 정상/고장1/고장2 분리\n",
    "NoOfData = int(MC_FeatureData.shape[1]/3)\n",
    "Normal_FeatureData    = MC_FeatureData.iloc[ : ,            :   NoOfData ] #열의 구성 180개 180개 180개 분리\n",
    "Abnormal1_FeatureData = MC_FeatureData.iloc[ : ,   NoOfData : 2*NoOfData ]\n",
    "Abnormal2_FeatureData = MC_FeatureData.iloc[ : , 2*NoOfData :            ]\n",
    "\n",
    "print(Normal_FeatureData.shape, Abnormal1_FeatureData.shape, Abnormal2_FeatureData.shape)"
   ]
  },
  {
   "cell_type": "code",
   "execution_count": 17,
   "metadata": {},
   "outputs": [
    {
     "data": {
      "text/html": [
       "<div>\n",
       "<style scoped>\n",
       "    .dataframe tbody tr th:only-of-type {\n",
       "        vertical-align: middle;\n",
       "    }\n",
       "\n",
       "    .dataframe tbody tr th {\n",
       "        vertical-align: top;\n",
       "    }\n",
       "\n",
       "    .dataframe thead th {\n",
       "        text-align: right;\n",
       "    }\n",
       "</style>\n",
       "<table border=\"1\" class=\"dataframe\">\n",
       "  <thead>\n",
       "    <tr style=\"text-align: right;\">\n",
       "      <th></th>\n",
       "      <th>0</th>\n",
       "      <th>1</th>\n",
       "    </tr>\n",
       "  </thead>\n",
       "  <tbody>\n",
       "    <tr>\n",
       "      <th>0</th>\n",
       "      <td>0.0</td>\n",
       "      <td>1.144272e-04</td>\n",
       "    </tr>\n",
       "    <tr>\n",
       "      <th>1</th>\n",
       "      <td>1.0</td>\n",
       "      <td>1.307924e-10</td>\n",
       "    </tr>\n",
       "    <tr>\n",
       "      <th>2</th>\n",
       "      <td>2.0</td>\n",
       "      <td>8.345941e-65</td>\n",
       "    </tr>\n",
       "    <tr>\n",
       "      <th>3</th>\n",
       "      <td>3.0</td>\n",
       "      <td>9.120815e-39</td>\n",
       "    </tr>\n",
       "    <tr>\n",
       "      <th>4</th>\n",
       "      <td>4.0</td>\n",
       "      <td>6.967778e-12</td>\n",
       "    </tr>\n",
       "    <tr>\n",
       "      <th>...</th>\n",
       "      <td>...</td>\n",
       "      <td>...</td>\n",
       "    </tr>\n",
       "    <tr>\n",
       "      <th>265</th>\n",
       "      <td>265.0</td>\n",
       "      <td>2.590341e-36</td>\n",
       "    </tr>\n",
       "    <tr>\n",
       "      <th>266</th>\n",
       "      <td>266.0</td>\n",
       "      <td>7.431031e-47</td>\n",
       "    </tr>\n",
       "    <tr>\n",
       "      <th>267</th>\n",
       "      <td>267.0</td>\n",
       "      <td>3.413499e-27</td>\n",
       "    </tr>\n",
       "    <tr>\n",
       "      <th>268</th>\n",
       "      <td>268.0</td>\n",
       "      <td>3.945970e-41</td>\n",
       "    </tr>\n",
       "    <tr>\n",
       "      <th>269</th>\n",
       "      <td>269.0</td>\n",
       "      <td>1.322496e-41</td>\n",
       "    </tr>\n",
       "  </tbody>\n",
       "</table>\n",
       "<p>270 rows × 2 columns</p>\n",
       "</div>"
      ],
      "text/plain": [
       "         0             1\n",
       "0      0.0  1.144272e-04\n",
       "1      1.0  1.307924e-10\n",
       "2      2.0  8.345941e-65\n",
       "3      3.0  9.120815e-39\n",
       "4      4.0  6.967778e-12\n",
       "..     ...           ...\n",
       "265  265.0  2.590341e-36\n",
       "266  266.0  7.431031e-47\n",
       "267  267.0  3.413499e-27\n",
       "268  268.0  3.945970e-41\n",
       "269  269.0  1.322496e-41\n",
       "\n",
       "[270 rows x 2 columns]"
      ]
     },
     "execution_count": 17,
     "metadata": {},
     "output_type": "execute_result"
    }
   ],
   "source": [
    "# P-value 계산\n",
    "NoOfTotalFeature = MC_FeatureData.shape[0] # 추출된 Feature 갯수\n",
    "MC_P_value = np.zeros((NoOfTotalFeature , 2))\n",
    "\n",
    "# 특징값 각각  anova 수행\n",
    "for i in np.arange(NoOfTotalFeature):\n",
    "    \n",
    "    ANOVA           = np.array(sp.f_oneway(Normal_FeatureData.iloc[i,:] , Abnormal1_FeatureData.iloc[i,:], Abnormal2_FeatureData.iloc[i,:]))\n",
    "    MC_P_value[i,0] = i          # Feature Index    정상 1 \n",
    "    MC_P_value[i,1] = ANOVA[1]   # P값 (P-value)\n",
    "    \n",
    "MC_P_value = pd.DataFrame(MC_P_value)\n",
    "MC_P_value"
   ]
  },
  {
   "cell_type": "code",
   "execution_count": 18,
   "metadata": {},
   "outputs": [
    {
     "data": {
      "text/html": [
       "<div>\n",
       "<style scoped>\n",
       "    .dataframe tbody tr th:only-of-type {\n",
       "        vertical-align: middle;\n",
       "    }\n",
       "\n",
       "    .dataframe tbody tr th {\n",
       "        vertical-align: top;\n",
       "    }\n",
       "\n",
       "    .dataframe thead th {\n",
       "        text-align: right;\n",
       "    }\n",
       "</style>\n",
       "<table border=\"1\" class=\"dataframe\">\n",
       "  <thead>\n",
       "    <tr style=\"text-align: right;\">\n",
       "      <th></th>\n",
       "      <th>0</th>\n",
       "      <th>1</th>\n",
       "    </tr>\n",
       "  </thead>\n",
       "  <tbody>\n",
       "    <tr>\n",
       "      <th>213</th>\n",
       "      <td>213.0</td>\n",
       "      <td>3.013639e-219</td>\n",
       "    </tr>\n",
       "    <tr>\n",
       "      <th>214</th>\n",
       "      <td>214.0</td>\n",
       "      <td>5.757393e-219</td>\n",
       "    </tr>\n",
       "    <tr>\n",
       "      <th>193</th>\n",
       "      <td>193.0</td>\n",
       "      <td>7.861124e-216</td>\n",
       "    </tr>\n",
       "    <tr>\n",
       "      <th>194</th>\n",
       "      <td>194.0</td>\n",
       "      <td>3.286615e-215</td>\n",
       "    </tr>\n",
       "    <tr>\n",
       "      <th>180</th>\n",
       "      <td>180.0</td>\n",
       "      <td>2.066446e-203</td>\n",
       "    </tr>\n",
       "    <tr>\n",
       "      <th>...</th>\n",
       "      <td>...</td>\n",
       "      <td>...</td>\n",
       "    </tr>\n",
       "    <tr>\n",
       "      <th>62</th>\n",
       "      <td>62.0</td>\n",
       "      <td>4.320739e-01</td>\n",
       "    </tr>\n",
       "    <tr>\n",
       "      <th>135</th>\n",
       "      <td>135.0</td>\n",
       "      <td>5.840044e-01</td>\n",
       "    </tr>\n",
       "    <tr>\n",
       "      <th>52</th>\n",
       "      <td>52.0</td>\n",
       "      <td>7.274523e-01</td>\n",
       "    </tr>\n",
       "    <tr>\n",
       "      <th>42</th>\n",
       "      <td>42.0</td>\n",
       "      <td>7.474691e-01</td>\n",
       "    </tr>\n",
       "    <tr>\n",
       "      <th>202</th>\n",
       "      <td>202.0</td>\n",
       "      <td>8.705930e-01</td>\n",
       "    </tr>\n",
       "  </tbody>\n",
       "</table>\n",
       "<p>270 rows × 2 columns</p>\n",
       "</div>"
      ],
      "text/plain": [
       "         0              1\n",
       "213  213.0  3.013639e-219\n",
       "214  214.0  5.757393e-219\n",
       "193  193.0  7.861124e-216\n",
       "194  194.0  3.286615e-215\n",
       "180  180.0  2.066446e-203\n",
       "..     ...            ...\n",
       "62    62.0   4.320739e-01\n",
       "135  135.0   5.840044e-01\n",
       "52    52.0   7.274523e-01\n",
       "42    42.0   7.474691e-01\n",
       "202  202.0   8.705930e-01\n",
       "\n",
       "[270 rows x 2 columns]"
      ]
     },
     "execution_count": 18,
     "metadata": {},
     "output_type": "execute_result"
    }
   ],
   "source": [
    "MC_P_value_Rank = MC_P_value.sort_values([1],ascending=True)  # P-value 기준 오름차순 정렬\n",
    "MC_P_value_Rank #위가 구분성이 높다"
   ]
  },
  {
   "cell_type": "code",
   "execution_count": 19,
   "metadata": {},
   "outputs": [],
   "source": [
    "# 특징값 종류 저장\n",
    "path = './ProcessedData/MC_P_value_Rank_ANOVA'   # path = '파일 경로/저장할 파일 이름'\n",
    "MC_P_value_Rank.to_csv(path, sep=',', header=None, index=None)"
   ]
  },
  {
   "cell_type": "code",
   "execution_count": 21,
   "metadata": {},
   "outputs": [
    {
     "name": "stderr",
     "output_type": "stream",
     "text": [
      "C:\\Users\\samsung\\anaconda3\\lib\\site-packages\\seaborn\\distributions.py:2557: FutureWarning: `distplot` is a deprecated function and will be removed in a future version. Please adapt your code to use either `displot` (a figure-level function with similar flexibility) or `histplot` (an axes-level function for histograms).\n",
      "  warnings.warn(msg, FutureWarning)\n",
      "C:\\Users\\samsung\\anaconda3\\lib\\site-packages\\seaborn\\distributions.py:2557: FutureWarning: `distplot` is a deprecated function and will be removed in a future version. Please adapt your code to use either `displot` (a figure-level function with similar flexibility) or `histplot` (an axes-level function for histograms).\n",
      "  warnings.warn(msg, FutureWarning)\n",
      "C:\\Users\\samsung\\anaconda3\\lib\\site-packages\\seaborn\\distributions.py:2557: FutureWarning: `distplot` is a deprecated function and will be removed in a future version. Please adapt your code to use either `displot` (a figure-level function with similar flexibility) or `histplot` (an axes-level function for histograms).\n",
      "  warnings.warn(msg, FutureWarning)\n"
     ]
    },
    {
     "data": {
      "image/png": "[encoded data removed]",
      "text/plain": [
       "<Figure size 432x288 with 1 Axes>"
      ]
     },
     "metadata": {
      "needs_background": "light"
     },
     "output_type": "display_data"
    }
   ],
   "source": [
    "# PDF 확인\n",
    "FeatureRank = 30 #2,3 ~30까지 확인\n",
    "# PDF 그래프\n",
    "sb.distplot(Normal_FeatureData.iloc[int(MC_P_value_Rank.iloc[FeatureRank-1,0])   ,:], label = 'Normal',    color = 'g')\n",
    "sb.distplot(Abnormal1_FeatureData.iloc[int(MC_P_value_Rank.iloc[FeatureRank-1,0]),:], label = 'Abnormal1', color = 'r')\n",
    "sb.distplot(Abnormal2_FeatureData.iloc[int(MC_P_value_Rank.iloc[FeatureRank-1,0]),:], label = 'Abnormal2', color = 'm')\n",
    "plt.title('Rank {}, P-value = {:.1E}'.format(FeatureRank, MC_P_value_Rank.iloc[FeatureRank-1,1]), loc = 'right')\n",
    "plt.legend(loc='upper right')\n",
    "plt.show()"
   ]
  },
  {
   "cell_type": "code",
   "execution_count": null,
   "metadata": {},
   "outputs": [],
   "source": [
    "#모델 성능 향상 시키려면 abnormal2 먼저 구분하고 이후에 분류하는게 효율 up pvalue1퍼보다 작게하는 것이 좋다"
   ]
  },
  {
   "cell_type": "markdown",
   "metadata": {},
   "source": [
    "### >>> 2.2 다중 2진 분류용 구분성 상위 특징 선택: t-Test 기반 ( ExerciseCode_MultiClass (3) )\n",
    "#### >>>>>>>> 2진분류 모델 2개, 선택할 구분성 상위 특징 종류도 2개"
   ]
  },
  {
   "cell_type": "code",
   "execution_count": 22,
   "metadata": {},
   "outputs": [],
   "source": [
    "# 전체 특징 데이터\n",
    "MC_FeatureData = pd.read_csv('./ProcessedData/MC_FeatureData', sep=',', header=None)"
   ]
  },
  {
   "cell_type": "code",
   "execution_count": 23,
   "metadata": {},
   "outputs": [
    {
     "name": "stdout",
     "output_type": "stream",
     "text": [
      "(270, 180) (270, 360)\n"
     ]
    }
   ],
   "source": [
    "# 특징 데이터 정상/고장(1,2) 분리 : for model 1 정상하고 고장만 분류\n",
    "NoOfData = int(MC_FeatureData.shape[1]/3)\n",
    "Normal_FeatureData   = MC_FeatureData.iloc[ : ,          : NoOfData ]\n",
    "Abnormal_FeatureData = MC_FeatureData.iloc[ : , NoOfData :          ]\n",
    "\n",
    "print(Normal_FeatureData.shape, Abnormal_FeatureData.shape)"
   ]
  },
  {
   "cell_type": "code",
   "execution_count": 25,
   "metadata": {},
   "outputs": [
    {
     "data": {
      "text/html": [
       "<div>\n",
       "<style scoped>\n",
       "    .dataframe tbody tr th:only-of-type {\n",
       "        vertical-align: middle;\n",
       "    }\n",
       "\n",
       "    .dataframe tbody tr th {\n",
       "        vertical-align: top;\n",
       "    }\n",
       "\n",
       "    .dataframe thead th {\n",
       "        text-align: right;\n",
       "    }\n",
       "</style>\n",
       "<table border=\"1\" class=\"dataframe\">\n",
       "  <thead>\n",
       "    <tr style=\"text-align: right;\">\n",
       "      <th></th>\n",
       "      <th>0</th>\n",
       "      <th>1</th>\n",
       "    </tr>\n",
       "  </thead>\n",
       "  <tbody>\n",
       "    <tr>\n",
       "      <th>180</th>\n",
       "      <td>180.0</td>\n",
       "      <td>2.984853e-191</td>\n",
       "    </tr>\n",
       "    <tr>\n",
       "      <th>170</th>\n",
       "      <td>170.0</td>\n",
       "      <td>6.190518e-144</td>\n",
       "    </tr>\n",
       "    <tr>\n",
       "      <th>83</th>\n",
       "      <td>83.0</td>\n",
       "      <td>4.072881e-126</td>\n",
       "    </tr>\n",
       "    <tr>\n",
       "      <th>81</th>\n",
       "      <td>81.0</td>\n",
       "      <td>7.321327e-122</td>\n",
       "    </tr>\n",
       "    <tr>\n",
       "      <th>178</th>\n",
       "      <td>178.0</td>\n",
       "      <td>8.550590e-116</td>\n",
       "    </tr>\n",
       "    <tr>\n",
       "      <th>...</th>\n",
       "      <td>...</td>\n",
       "      <td>...</td>\n",
       "    </tr>\n",
       "    <tr>\n",
       "      <th>62</th>\n",
       "      <td>62.0</td>\n",
       "      <td>8.212271e-01</td>\n",
       "    </tr>\n",
       "    <tr>\n",
       "      <th>85</th>\n",
       "      <td>85.0</td>\n",
       "      <td>8.486327e-01</td>\n",
       "    </tr>\n",
       "    <tr>\n",
       "      <th>202</th>\n",
       "      <td>202.0</td>\n",
       "      <td>8.499425e-01</td>\n",
       "    </tr>\n",
       "    <tr>\n",
       "      <th>42</th>\n",
       "      <td>42.0</td>\n",
       "      <td>8.646344e-01</td>\n",
       "    </tr>\n",
       "    <tr>\n",
       "      <th>72</th>\n",
       "      <td>72.0</td>\n",
       "      <td>9.462523e-01</td>\n",
       "    </tr>\n",
       "  </tbody>\n",
       "</table>\n",
       "<p>270 rows × 2 columns</p>\n",
       "</div>"
      ],
      "text/plain": [
       "         0              1\n",
       "180  180.0  2.984853e-191\n",
       "170  170.0  6.190518e-144\n",
       "83    83.0  4.072881e-126\n",
       "81    81.0  7.321327e-122\n",
       "178  178.0  8.550590e-116\n",
       "..     ...            ...\n",
       "62    62.0   8.212271e-01\n",
       "85    85.0   8.486327e-01\n",
       "202  202.0   8.499425e-01\n",
       "42    42.0   8.646344e-01\n",
       "72    72.0   9.462523e-01\n",
       "\n",
       "[270 rows x 2 columns]"
      ]
     },
     "execution_count": 25,
     "metadata": {},
     "output_type": "execute_result"
    }
   ],
   "source": [
    "# P-value 계산\n",
    "NoOfTotalFeature = MC_FeatureData.shape[0] # 추출된 Feature 갯수\n",
    "MC_P_value_M1 = np.zeros((NoOfTotalFeature , 2))\n",
    "\n",
    "# 특징값 각각 T-검정 수행\n",
    "for i in np.arange(NoOfTotalFeature):\n",
    "    \n",
    "    T_test             = np.array(sp.ttest_ind(Normal_FeatureData.iloc[i,:] , Abnormal_FeatureData.iloc[i,:]))\n",
    "    MC_P_value_M1[i,0] = i          # Feature Index\n",
    "    MC_P_value_M1[i,1] = T_test[1]  # P값 (P-value)\n",
    "    \n",
    "MC_P_value_M1      = pd.DataFrame(MC_P_value_M1)\n",
    "MC_P_value_Rank_M1 = MC_P_value_M1.sort_values([1],ascending=True)  # P-value 기준 오름차순 정렬\n",
    "MC_P_value_Rank_M1"
   ]
  },
  {
   "cell_type": "code",
   "execution_count": 26,
   "metadata": {},
   "outputs": [
    {
     "name": "stdout",
     "output_type": "stream",
     "text": [
      "(270, 180) (270, 180)\n"
     ]
    }
   ],
   "source": [
    "# 특징 데이터 고장1/고장2 분리 : for model 2\n",
    "NoOfData = int(Abnormal_FeatureData.shape[1]/2)\n",
    "Abnormal1_FeatureData   = Abnormal_FeatureData.iloc[ : ,          : NoOfData ]\n",
    "Abnormal2_FeatureData   = Abnormal_FeatureData.iloc[ : , NoOfData :          ]\n",
    "\n",
    "print(Abnormal1_FeatureData.shape, Abnormal2_FeatureData.shape)"
   ]
  },
  {
   "cell_type": "code",
   "execution_count": 27,
   "metadata": {},
   "outputs": [
    {
     "data": {
      "text/html": [
       "<div>\n",
       "<style scoped>\n",
       "    .dataframe tbody tr th:only-of-type {\n",
       "        vertical-align: middle;\n",
       "    }\n",
       "\n",
       "    .dataframe tbody tr th {\n",
       "        vertical-align: top;\n",
       "    }\n",
       "\n",
       "    .dataframe thead th {\n",
       "        text-align: right;\n",
       "    }\n",
       "</style>\n",
       "<table border=\"1\" class=\"dataframe\">\n",
       "  <thead>\n",
       "    <tr style=\"text-align: right;\">\n",
       "      <th></th>\n",
       "      <th>0</th>\n",
       "      <th>1</th>\n",
       "    </tr>\n",
       "  </thead>\n",
       "  <tbody>\n",
       "    <tr>\n",
       "      <th>213</th>\n",
       "      <td>213.0</td>\n",
       "      <td>1.028658e-162</td>\n",
       "    </tr>\n",
       "    <tr>\n",
       "      <th>214</th>\n",
       "      <td>214.0</td>\n",
       "      <td>1.326028e-162</td>\n",
       "    </tr>\n",
       "    <tr>\n",
       "      <th>193</th>\n",
       "      <td>193.0</td>\n",
       "      <td>1.772056e-154</td>\n",
       "    </tr>\n",
       "    <tr>\n",
       "      <th>194</th>\n",
       "      <td>194.0</td>\n",
       "      <td>3.897829e-154</td>\n",
       "    </tr>\n",
       "    <tr>\n",
       "      <th>203</th>\n",
       "      <td>203.0</td>\n",
       "      <td>2.116918e-143</td>\n",
       "    </tr>\n",
       "    <tr>\n",
       "      <th>...</th>\n",
       "      <td>...</td>\n",
       "      <td>...</td>\n",
       "    </tr>\n",
       "    <tr>\n",
       "      <th>50</th>\n",
       "      <td>50.0</td>\n",
       "      <td>9.320462e-01</td>\n",
       "    </tr>\n",
       "    <tr>\n",
       "      <th>122</th>\n",
       "      <td>122.0</td>\n",
       "      <td>9.369083e-01</td>\n",
       "    </tr>\n",
       "    <tr>\n",
       "      <th>256</th>\n",
       "      <td>256.0</td>\n",
       "      <td>9.648864e-01</td>\n",
       "    </tr>\n",
       "    <tr>\n",
       "      <th>56</th>\n",
       "      <td>56.0</td>\n",
       "      <td>9.731784e-01</td>\n",
       "    </tr>\n",
       "    <tr>\n",
       "      <th>181</th>\n",
       "      <td>181.0</td>\n",
       "      <td>9.810133e-01</td>\n",
       "    </tr>\n",
       "  </tbody>\n",
       "</table>\n",
       "<p>270 rows × 2 columns</p>\n",
       "</div>"
      ],
      "text/plain": [
       "         0              1\n",
       "213  213.0  1.028658e-162\n",
       "214  214.0  1.326028e-162\n",
       "193  193.0  1.772056e-154\n",
       "194  194.0  3.897829e-154\n",
       "203  203.0  2.116918e-143\n",
       "..     ...            ...\n",
       "50    50.0   9.320462e-01\n",
       "122  122.0   9.369083e-01\n",
       "256  256.0   9.648864e-01\n",
       "56    56.0   9.731784e-01\n",
       "181  181.0   9.810133e-01\n",
       "\n",
       "[270 rows x 2 columns]"
      ]
     },
     "execution_count": 27,
     "metadata": {},
     "output_type": "execute_result"
    }
   ],
   "source": [
    "# P-value 계산\n",
    "NoOfTotalFeature = MC_FeatureData.shape[0] # 추출된 Feature 갯수\n",
    "MC_P_value_M2 = np.zeros((NoOfTotalFeature , 2))\n",
    "\n",
    "# 특징값 각각 T-검정 수행\n",
    "for i in np.arange(NoOfTotalFeature):\n",
    "    \n",
    "    T_test             = np.array(sp.ttest_ind(Abnormal1_FeatureData.iloc[i,:] , Abnormal2_FeatureData.iloc[i,:]))\n",
    "    MC_P_value_M2[i,0] = i          # Feature Index\n",
    "    MC_P_value_M2[i,1] = T_test[1]  # P값 (P-value)\n",
    "    \n",
    "MC_P_value_M2      = pd.DataFrame(MC_P_value_M2)\n",
    "MC_P_value_Rank_M2 = MC_P_value_M2.sort_values([1],ascending=True)  # P-value 기준 오름차순 정렬\n",
    "MC_P_value_Rank_M2"
   ]
  },
  {
   "cell_type": "code",
   "execution_count": 28,
   "metadata": {},
   "outputs": [],
   "source": [
    "# 특징값 종류 저장\n",
    "path1 = './ProcessedData/MC_P_value_Rank_M1'        # path = '파일 경로/저장할 파일 이름'\n",
    "path2 = './ProcessedData/MC_P_value_Rank_M2'   # path = '파일 경로/저장할 파일 이름'\n",
    "MC_P_value_Rank_M1.to_csv(path1, sep=',', header=None, index=None)\n",
    "MC_P_value_Rank_M2.to_csv(path2, sep=',', header=None, index=None)"
   ]
  },
  {
   "cell_type": "code",
   "execution_count": null,
   "metadata": {},
   "outputs": [],
   "source": []
  }
 ],
 "metadata": {
  "kernelspec": {
   "display_name": "Python 3",
   "language": "python",
   "name": "python3"
  },
  "language_info": {
   "codemirror_mode": {
    "name": "ipython",
    "version": 3
   },
   "file_extension": ".py",
   "mimetype": "text/x-python",
   "name": "python",
   "nbconvert_exporter": "python",
   "pygments_lexer": "ipython3",
   "version": "3.8.8"
  }
 },
 "nbformat": 4,
 "nbformat_minor": 4
}
