{
 "cells": [
  {
   "cell_type": "code",
   "execution_count": null,
   "metadata": {},
   "outputs": [],
   "source": [
    "%matplotlib                    # Pyplot 그래프 새창에서 열기 옵션"
   ]
  },
  {
   "cell_type": "code",
   "execution_count": null,
   "metadata": {},
   "outputs": [],
   "source": [
    "%matplotlib inline             # Pyplot 그래프 새창에서 열기 '취소' 옵션"
   ]
  },
  {
   "cell_type": "code",
   "execution_count": null,
   "metadata": {},
   "outputs": [],
   "source": [
    "pd.set_option('display.max_rows',    100)      # DataFrame 데이터 확인 시 최대 표시 행 수\n",
    "pd.set_option('display.max_columns', 100)      # DataFrame 데이터 확인 시 최대 표시 열 수"
   ]
  },
  {
   "cell_type": "markdown",
   "metadata": {},
   "source": [
    "## 라이브러리 import"
   ]
  },
  {
   "cell_type": "code",
   "execution_count": 1,
   "metadata": {},
   "outputs": [],
   "source": [
    "import pandas as pd\n",
    "import numpy as np\n",
    "import sklearn as sk\n",
    "import pickle\n",
    "from sklearn import svm\n",
    "import joblib\n",
    "from sklearn.model_selection import GridSearchCV"
   ]
  },
  {
   "cell_type": "markdown",
   "metadata": {},
   "source": [
    "## 데이터 불러오기"
   ]
  },
  {
   "cell_type": "code",
   "execution_count": null,
   "metadata": {},
   "outputs": [],
   "source": [
    "Fold = 5\n",
    "\n",
    "# k-fold 학습/검증 데이터\n",
    "for i in range(Fold):\n",
    "    \n",
    "    path1 = './K_FoldData/Training_Fold%d'%(i+1)\n",
    "    path2 = './K_FoldData/Validation_Fold%d'%(i+1)\n",
    "    c1 = 'Training_Fold%d   = np.array(pd.read_csv(path1, sep=\",\", header=None))'%(i+1)\n",
    "    c2 = 'Validation_Fold%d = np.array(pd.read_csv(path2, sep=\",\", header=None))'%(i+1)\n",
    "    exec(c1)\n",
    "    exec(c2)\n",
    "\n",
    "# K-fold 학습/검증 레이블\n",
    "TrainingFold_Label   = np.array(pd.read_csv('./K_FoldData/TrainingFold_Label'  , sep=\",\", header=None).T.squeeze())\n",
    "ValidationFold_Label = np.array(pd.read_csv('./K_FoldData/ValidationFold_Label', sep=\",\", header=None).T.squeeze())\n",
    "    \n",
    "    \n",
    "# 전체 학습용 데이터\n",
    "Training_All       = np.array(pd.read_csv('./K_FoldData/Training_All', sep = \",\", header = None))\n",
    "Training_All_Label = np.array(pd.read_csv('./K_FoldData/Training_All_Label', sep = \",\", header = None).T.squeeze())\n",
    "\n",
    "\n",
    "# 평가 데이터\n",
    "Test_Data  = np.array(pd.read_csv('./K_FoldData/Test_Data' , sep=\",\", header=None))\n",
    "Test_Label = np.array(pd.read_csv('./K_FoldData/Test_Label', sep=\",\", header=None))"
   ]
  },
  {
   "cell_type": "markdown",
   "metadata": {},
   "source": [
    "## Grid Search 기반 Hyperparameter 별 성능 확인"
   ]
  },
  {
   "cell_type": "markdown",
   "metadata": {},
   "source": [
    "#### 1. 반복문 활용"
   ]
  },
  {
   "cell_type": "code",
   "execution_count": null,
   "metadata": {},
   "outputs": [],
   "source": [
    "Fold = 5\n",
    "\n",
    "# 비교할 하이퍼파라미터들 리스트 형태로 만들기\n",
    "param_kernel = ['linear', 'poly', 'rbf', 'sigmoid'] # hyperplane 모양 rbf 고차원 분포에 유효\n",
    "param_C      = [0.01, 0.1, 1, 10, 100]              # 이상치 허용 정도 c 값이 작아질 수로 이상치를 크게 허용 정제된 데이터의 경우 c파라미터 높게\n",
    "param_gamma  = [0.01, 0.1, 1, 10, 100]              # hyperplane 곡률(얼마나 가프르게 만들어지냐 높으면 급한느낌) 선형함수에 적용x\n",
    "\n",
    "# 파라미터별 정확도 기록할 변수 설정\n",
    "Accuracy_df = pd.DataFrame(np.zeros(shape=(len(param_kernel)*len(param_C)*len(param_gamma),4)),\n",
    "                           columns=['kernel', 'C', 'gamma', 'Accuracy'])\n",
    "cnt = 0\n",
    "\n",
    "# Grid Search 코드\n",
    "for Kernel in param_kernel:\n",
    "    \n",
    "    for c in param_C:\n",
    "        \n",
    "        for Gamma in param_gamma:\n",
    "            \n",
    "            ValidScore = 0 # 모델 바뀔 때마다 검증정확도 변수 초기화\n",
    "            \n",
    "            for i in range(Fold):\n",
    "                c1 = 'Training_CurrentFold = Training_Fold%d'%(i+1)\n",
    "                exec(c1)\n",
    "                c2 = 'Validation_CurrentFold = Validation_Fold%d'%(i+1)\n",
    "                exec(c2)\n",
    "                \n",
    "                tempsvmModel   = svm.SVC(kernel=Kernel,\n",
    "                                         C=c,\n",
    "                                         gamma=Gamma).fit(Training_CurrentFold, TrainingFold_Label) # 학습\n",
    "                tempValidScore = tempsvmModel.score(Validation_CurrentFold, ValidationFold_Label)   # 검증\n",
    "                \n",
    "                ValidScore += tempValidScore # Fold 별 검증 정확도 합산 \n",
    "                \n",
    "            Acc = ValidScore/Fold # 평균 검증 정확도\n",
    "            Accuracy_df.iloc[cnt, :] = [Kernel, c, Gamma, Acc] # 모델의 하이퍼파라미터\n",
    "            cnt += 1"
   ]
  },
  {
   "cell_type": "code",
   "execution_count": null,
   "metadata": {},
   "outputs": [],
   "source": [
    "Accuracy_df_sorted = Accuracy_df.sort_values(by = ['Accuracy'], ascending = False) # 성능 확인\n",
    "Accuracy_df_sorted"
   ]
  },
  {
   "cell_type": "markdown",
   "metadata": {},
   "source": [
    "#### 2. sklearn.model_selection.GridSearchCV 함수 활용 (K-fold Cross Validation 내장)"
   ]
  },
  {
   "cell_type": "code",
   "execution_count": null,
   "metadata": {},
   "outputs": [],
   "source": [
    "# 비교할 하이퍼파라미터 사전(Dictionary) 형태로 만들기\n",
    "GridParams = {\n",
    "    'kernel' : ['linear', 'poly', 'rbf', 'sigmoid'],\n",
    "    'C' : [0.01, 0.1, 1, 10, 100],\n",
    "    'gamma' : [0.01, 0.1, 1, 10, 100]\n",
    "}"
   ]
  },
  {
   "cell_type": "code",
   "execution_count": null,
   "metadata": {
    "scrolled": true
   },
   "outputs": [],
   "source": [
    "tempsvmModel = svm.SVC()\n",
    "GS_model = GridSearchCV(tempsvmModel, GridParams, cv = 5) #꼭 약수 일 필요는 없다\n",
    "\n",
    "GS_model.fit(Training_All, Training_All_Label) # 학습"
   ]
  },
  {
   "cell_type": "code",
   "execution_count": null,
   "metadata": {},
   "outputs": [],
   "source": [
    "print('Total Combination of Hyperparameters :', len(GS_model.cv_results_.get('params')))"
   ]
  },
  {
   "cell_type": "code",
   "execution_count": null,
   "metadata": {},
   "outputs": [],
   "source": [
    "print('Best Hyperparameters : ', GS_model.best_params_) # 최고 검증정확도 하이퍼파라미터\n",
    "print('Best Score : {}%'.format(round(GS_model.best_score_*100, 2)) )\n",
    "\n",
    "# 모델 평가\n",
    "# Test_Score = GS_model.score(Test_Data, Test_Label)\n",
    "# print('Best Test Score : {}%'.format(round(Test_Score*100, 2)) )"
   ]
  },
  {
   "cell_type": "code",
   "execution_count": null,
   "metadata": {},
   "outputs": [],
   "source": []
  },
  {
   "cell_type": "code",
   "execution_count": null,
   "metadata": {},
   "outputs": [],
   "source": []
  }
 ],
 "metadata": {
  "kernelspec": {
   "display_name": "Python 3",
   "language": "python",
   "name": "python3"
  },
  "language_info": {
   "codemirror_mode": {
    "name": "ipython",
    "version": 3
   },
   "file_extension": ".py",
   "mimetype": "text/x-python",
   "name": "python",
   "nbconvert_exporter": "python",
   "pygments_lexer": "ipython3",
   "version": "3.8.8"
  }
 },
 "nbformat": 4,
 "nbformat_minor": 4
}
